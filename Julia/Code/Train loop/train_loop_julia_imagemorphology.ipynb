{
 "cells": [
  {
   "cell_type": "code",
   "execution_count": 32,
   "metadata": {},
   "outputs": [
    {
     "name": "stderr",
     "output_type": "stream",
     "text": [
      "\u001b[32m\u001b[1m  Activating\u001b[22m\u001b[39m project at `c:\\Users\\wenbl13\\Desktop\\Wenbo_Timing`\n"
     ]
    }
   ],
   "source": [
    "# Julia 1.8.4\n",
    "using Pkg\n",
    "Pkg.activate(\".\")\n",
    "Pkg.instantiate()\n",
    "# Pkg.add(\"CUDA\")\n",
    "# Pkg.add(\"Glob\")\n",
    "# Pkg.add(\"Flux\")\n",
    "# Pkg.add(\"NIfTI\")\n",
    "# Pkg.add(\"Images\")\n",
    "# Pkg.add(\"FastAI\")\n",
    "# Pkg.add(\"Metalhead\")\n",
    "# Pkg.add(\"FastVision\")\n",
    "# Pkg.add(\"CairoMakie\")\n",
    "# Pkg.add(\"StaticArrays\")\n",
    "# Pkg.add(\"MLDataPattern\")\n",
    "# Pkg.add(\"BenchmarkTools\")\n",
    "# Pkg.add(\"ChainRulesCore\")\n",
    "# Pkg.add(\"BSON\")\n",
    "# Pkg.add(\"DataFrames\")\n",
    "# Pkg.add(\"CSV\")\n",
    "# Pkg.add(url = \"https://github.com/Dale-Black/ComputerVisionMetrics.jl\")\n",
    "# Pkg.add(url=\"https://github.com/Dale-Black/DistanceTransforms.jl\", rev=\"wenbo\")"
   ]
  },
  {
   "cell_type": "code",
   "execution_count": 33,
   "metadata": {},
   "outputs": [],
   "source": [
    "using CUDA\n",
    "using Glob\n",
    "using Dates\n",
    "using NIfTI\n",
    "using Images\n",
    "using Statistics\n",
    "using StaticArrays\n",
    "using MLDataPattern\n",
    "using BenchmarkTools\n",
    "using ChainRulesCore\n",
    "using DistanceTransforms\n",
    "using DataFrames\n",
    "using CSV\n",
    "using FastAI, FastVision, Flux, Metalhead\n",
    "import CairoMakie; CairoMakie.activate!(type=\"png\")\n",
    "using ComputerVisionMetrics"
   ]
  },
  {
   "cell_type": "code",
   "execution_count": 34,
   "metadata": {},
   "outputs": [],
   "source": [
    "# @load \"test/Dice_50.bson\" model1"
   ]
  },
  {
   "cell_type": "code",
   "execution_count": 35,
   "metadata": {},
   "outputs": [],
   "source": [
    "# model1"
   ]
  },
  {
   "cell_type": "code",
   "execution_count": 36,
   "metadata": {},
   "outputs": [
    {
     "name": "stdout",
     "output_type": "stream",
     "text": [
      "GPU threads = 768.\n"
     ]
    },
    {
     "data": {
      "text/plain": [
       "(11,)"
      ]
     },
     "metadata": {},
     "output_type": "display_data"
    }
   ],
   "source": [
    "ks = DistanceTransforms.get_GPU_kernels(Wenbo())\n",
    "size(ks)"
   ]
  },
  {
   "attachments": {},
   "cell_type": "markdown",
   "metadata": {},
   "source": [
    "# Load and prepare data"
   ]
  },
  {
   "cell_type": "code",
   "execution_count": 37,
   "metadata": {},
   "outputs": [
    {
     "data": {
      "text/plain": [
       "\"C:\\\\Users\\\\wenbl13\\\\Desktop\\\\Ashwin-Timing\\\\distance-transforms\\\\Task02_Heart\""
      ]
     },
     "metadata": {},
     "output_type": "display_data"
    }
   ],
   "source": [
    "data_dir = raw\"C:\\Users\\wenbl13\\Desktop\\Ashwin-Timing\\distance-transforms\\Task02_Heart\""
   ]
  },
  {
   "cell_type": "code",
   "execution_count": 38,
   "metadata": {},
   "outputs": [
    {
     "data": {
      "text/plain": [
       "loadfn_image (generic function with 1 method)"
      ]
     },
     "metadata": {},
     "output_type": "display_data"
    }
   ],
   "source": [
    "function loadfn_label(p)\n",
    "    a = NIfTI.niread(string(p)).raw\n",
    "    convert_a = convert(Array{UInt8}, a)\n",
    "    convert_a = convert_a .+ 1\n",
    "    return convert_a\n",
    "end\n",
    "\n",
    "function loadfn_image(p)\n",
    "    a = NIfTI.niread(string(p)).raw\n",
    "    convert_a = convert(Array{Float32}, a)\n",
    "    convert_a = convert_a / max(convert_a...)\n",
    "    return convert_a\n",
    "end"
   ]
  },
  {
   "cell_type": "code",
   "execution_count": 39,
   "metadata": {},
   "outputs": [],
   "source": [
    "images(dir) = mapobs(loadfn_image, Glob.glob(\"*.nii*\", dir))\n",
    "masks(dir) =  mapobs(loadfn_label, Glob.glob(\"*.nii*\", dir))\n",
    "pre_data = (\n",
    "    images(joinpath(data_dir, \"imagesTr\")),\n",
    "    masks(joinpath(data_dir, \"labelsTr\")),\n",
    ");"
   ]
  },
  {
   "cell_type": "code",
   "execution_count": 40,
   "metadata": {},
   "outputs": [
    {
     "data": {
      "text/plain": [
       "(96, 96, 96)"
      ]
     },
     "metadata": {},
     "output_type": "display_data"
    }
   ],
   "source": [
    "image_size = (96, 96, 96)"
   ]
  },
  {
   "cell_type": "code",
   "execution_count": 41,
   "metadata": {},
   "outputs": [
    {
     "data": {
      "text/plain": [
       "presize (generic function with 1 method)"
      ]
     },
     "metadata": {},
     "output_type": "display_data"
    }
   ],
   "source": [
    "function presize(files)\n",
    "    container_images = Array{Float32,4}(undef, image_size..., numobs(files))\n",
    "    container_masks = Array{Int64,4}(undef, image_size..., numobs(files))\n",
    "    for i in 1:numobs(files)\n",
    "        image, mask = FastAI.getobs(files, i)\n",
    "        img = imresize(image, image_size)\n",
    "        msk = round.(imresize(mask, image_size))\n",
    "        container_images[:, :, :, i] = img\n",
    "        container_masks[:, :, :, i] = msk\n",
    "    end\n",
    "    return container_images, container_masks\n",
    "end"
   ]
  },
  {
   "cell_type": "code",
   "execution_count": 42,
   "metadata": {},
   "outputs": [],
   "source": [
    "img_container, mask_container = presize(pre_data)\n",
    "data_resized = (img_container,mask_container);"
   ]
  },
  {
   "cell_type": "code",
   "execution_count": 43,
   "metadata": {},
   "outputs": [
    {
     "name": "stderr",
     "output_type": "stream",
     "text": [
      "\r\u001b[32mProgress:  10%|█████                                    |  ETA: 0:00:01\u001b[39m\u001b[K"
     ]
    },
    {
     "name": "stderr",
     "output_type": "stream",
     "text": [
      "\r\u001b[32mProgress: 100%|█████████████████████████████████████████| Time: 0:00:00\u001b[39m\u001b[K\n"
     ]
    },
    {
     "data": {
      "text/plain": [
       "(Float32[0.09098037], Float32[0.13637377])"
      ]
     },
     "metadata": {},
     "output_type": "display_data"
    }
   ],
   "source": [
    "a, b = FastVision.imagedatasetstats(img_container, Gray{N0f8}) \n",
    "means, stds = SVector{1, Float32}(a[1]), SVector{1, Float32}(b[1])"
   ]
  },
  {
   "cell_type": "code",
   "execution_count": 44,
   "metadata": {},
   "outputs": [
    {
     "data": {
      "text/plain": [
       "SupervisedTask(Image{3} -> Mask{3, Int64})"
      ]
     },
     "metadata": {},
     "output_type": "display_data"
    }
   ],
   "source": [
    "task = SupervisedTask(\n",
    "    (FastVision.Image{3}(), Mask{3}(1:2)),\n",
    "    (\n",
    "        ProjectiveTransforms((image_size)),\n",
    "        ImagePreprocessing(means = means, stds = stds, C = Gray{N0f8}),\n",
    "        FastAI.OneHot()\n",
    "    )\n",
    ")"
   ]
  },
  {
   "cell_type": "code",
   "execution_count": 45,
   "metadata": {},
   "outputs": [],
   "source": [
    "train_files, val_files = MLDataPattern.splitobs(data_resized, 0.8);"
   ]
  },
  {
   "cell_type": "code",
   "execution_count": 46,
   "metadata": {},
   "outputs": [],
   "source": [
    "batch_size = 4\n",
    "tdl, vdl = FastAI.taskdataloaders(train_files, val_files, task, batch_size);"
   ]
  },
  {
   "cell_type": "code",
   "execution_count": 47,
   "metadata": {},
   "outputs": [],
   "source": [
    "# for (xs, ys) in tdl\n",
    "#     println(size(xs))\n",
    "#     println(typeof(xs))\n",
    "#     println(size(ys))\n",
    "#     println(typeof(ys))\n",
    "#     println(minimum(ys))\n",
    "#     println(maximum(ys))\n",
    "#     println(typeof(maximum(ys)))\n",
    "#     break\n",
    "# end"
   ]
  },
  {
   "attachments": {},
   "cell_type": "markdown",
   "metadata": {},
   "source": [
    "Move data to gpu and pre-DT ground truth masks"
   ]
  },
  {
   "cell_type": "code",
   "execution_count": 49,
   "metadata": {},
   "outputs": [
    {
     "name": "stderr",
     "output_type": "stream",
     "text": [
      "┌ Warning: Number of observations less than batch-size, decreasing the batch-size to 4\n",
      "└ @ MLUtils C:\\Users\\wenbl13\\.julia\\packages\\MLUtils\\Th9Y3\\src\\batchview.jl:95\n"
     ]
    }
   ],
   "source": [
    "traindl = Tuple{Tuple{CuArray{Float32, 5, CUDA.Mem.DeviceBuffer}, CuArray{Float32, 5, CUDA.Mem.DeviceBuffer}}, CuArray{Float32, 5, CUDA.Mem.DeviceBuffer}}[] \n",
    "validdl = Tuple{Tuple{CuArray{Float32, 5, CUDA.Mem.DeviceBuffer}, CuArray{Float32, 5, CUDA.Mem.DeviceBuffer}}, CuArray{Float32, 5, CUDA.Mem.DeviceBuffer}}[] \n",
    "for (xs, ys) in vdl\n",
    "    # DT\n",
    "    ŷ_cpu = round.(ys[:,:,:,2:end,:])\n",
    "    ŷ_dtm = similar(ŷ_cpu)\n",
    "    s = size(ŷ_cpu)\n",
    "    for batch = 1 : s[5]\n",
    "        for channel = 1: s[4]\n",
    "            ŷ_dtm[:,:,:, channel, batch] = DistanceTransforms.transform(ŷ_cpu[:,:,:, channel, batch], Maurer()) # Maurer\n",
    "        end\n",
    "    end\n",
    "    ys_dt_gpu = ŷ_dtm |> gpu\n",
    "\n",
    "    ys_gpu = CuArray(ys[:,:,:,2:end,:])\n",
    "    # ys_dt_gpu = DistanceTransforms.transform(true, ys_gpu, Wenbo(), ks)\n",
    "    xs_gpu = xs |> gpu\n",
    "    push!(validdl, ((xs_gpu,ys_gpu), ys_dt_gpu))\n",
    "end\n",
    "\n",
    "for (xs, ys) in tdl\n",
    "    # DT\n",
    "    ŷ_cpu = round.(ys[:,:,:,2:end,:])\n",
    "    ŷ_dtm = similar(ŷ_cpu)\n",
    "    s = size(ŷ_cpu)\n",
    "    for batch = 1 : s[5]\n",
    "        for channel = 1: s[4]\n",
    "            ŷ_dtm[:,:,:, channel, batch] = DistanceTransforms.transform(ŷ_cpu[:,:,:, channel, batch], Maurer()) # Maurer\n",
    "        end\n",
    "    end\n",
    "    ys_dt_gpu = ŷ_dtm |> gpu\n",
    "\n",
    "    ys_gpu = CuArray(ys[:,:,:,2:end,:])\n",
    "    # ys_dt_gpu = DistanceTransforms.transform(true, ys_gpu, Wenbo(), ks)\n",
    "    xs_gpu = xs |> gpu\n",
    "    push!(traindl, ((xs_gpu,ys_gpu), ys_dt_gpu))\n",
    "end"
   ]
  },
  {
   "attachments": {},
   "cell_type": "markdown",
   "metadata": {},
   "source": [
    "# Model"
   ]
  },
  {
   "cell_type": "code",
   "execution_count": 18,
   "metadata": {},
   "outputs": [
    {
     "data": {
      "text/plain": [
       "unet3D_new (generic function with 1 method)"
      ]
     },
     "metadata": {},
     "output_type": "display_data"
    }
   ],
   "source": [
    "conv = (stride, in, out) -> Conv((3, 3, 3), in=>out, stride=stride, pad=SamePad())\n",
    "tran = (stride, in, out) -> ConvTranspose((3, 3, 3), in=>out, stride=stride, pad=SamePad())\n",
    "\n",
    "conv1 = (in, out) -> Chain(conv(1, in, out), BatchNorm(out, leakyrelu))\n",
    "conv2 = (in, out) -> Chain(conv(2, in, out), BatchNorm(out, leakyrelu))\n",
    "conv3 = (in, out) -> Chain(conv(1, in, out), x -> softmax(x; dims = 4))\n",
    "# conv3 = (in, out) -> Chain(conv(1, in, out), BatchNorm(out, sigmoid))\n",
    "tran2 = (in, out) -> Chain(tran(2, in, out), BatchNorm(out, leakyrelu))\n",
    "\n",
    "\n",
    "\n",
    "function unet3D_new(in_chs, lbl_chs)\n",
    "    # Contracting layers\n",
    "    l1 = Chain(conv1(in_chs, 8))\n",
    "    l2 = Chain(l1, conv2(8, 16), conv1(16, 16))\n",
    "    l3 = Chain(l2, conv2(16, 32), conv1(32, 32))\n",
    "    l4 = Chain(l3, conv2(32, 64), conv1(64, 64))\n",
    "    l5 = Chain(l4, conv2(64, 128), conv1(128, 128))\n",
    "\n",
    "    # Expanding layers\n",
    "    l6 = Chain(l5, tran2(128, 64))\n",
    "    l7 = Chain(Parallel(FastVision.Models.catchannels,l4,l6), conv1(128, 64), tran2(64, 32))\n",
    "    l8 = Chain(Parallel(FastVision.Models.catchannels,l3,l7), conv1(64, 32), tran2(32, 16))\n",
    "    l9 = Chain(Parallel(FastVision.Models.catchannels,l2,l8), conv1(32, 16), tran2(16, 8))\n",
    "    l10 = Chain(l9, conv3(8, lbl_chs))\n",
    "end"
   ]
  },
  {
   "cell_type": "code",
   "execution_count": 19,
   "metadata": {},
   "outputs": [],
   "source": [
    "# model_temp = unet3D_new(1, 2)\n",
    "# input_temp = rand(Float32,96,96,96,1,4)\n",
    "# truth_temp = round.(rand(Float32,96,96,96,1,4))\n",
    "# output_temp = model_temp(input_temp);"
   ]
  },
  {
   "attachments": {},
   "cell_type": "markdown",
   "metadata": {},
   "source": [
    "# Loss"
   ]
  },
  {
   "cell_type": "code",
   "execution_count": 20,
   "metadata": {},
   "outputs": [
    {
     "data": {
      "text/plain": [
       "dice_loss (generic function with 1 method)"
      ]
     },
     "metadata": {},
     "output_type": "display_data"
    }
   ],
   "source": [
    "function dice_loss(ŷ, y; ϵ=1.0f-5)\n",
    "    loss_dice = 1.0f0 - (muladd(2.0f0, sum(ŷ .* y), ϵ) / (sum(ŷ .^ 2) + sum(y .^ 2) + ϵ))\n",
    "    return loss_dice\n",
    "end"
   ]
  },
  {
   "cell_type": "code",
   "execution_count": 50,
   "metadata": {},
   "outputs": [
    {
     "data": {
      "text/plain": [
       "dice_hausdorff_loss (generic function with 1 method)"
      ]
     },
     "metadata": {},
     "output_type": "display_data"
    }
   ],
   "source": [
    "function dice_hausdorff_loss(ŷ, y, y_dtm, epoch_idx; ϵ=1.0f-5)\n",
    "    # ŷ_dtm = 0\n",
    "    ŷ_dtm = similar(ŷ)\n",
    "    ignore_derivatives() do\n",
    "        # Distance transform    d1 * d2 * d3 * channel * batch\n",
    "        # ŷ_dtm = DistanceTransforms.transform(true, ŷ, Wenbo(), ks)\n",
    "        ŷ_cpu = round.(ŷ) |> cpu\n",
    "        s = size(ŷ)\n",
    "        for batch = 1 : s[5]\n",
    "            for channel = 1: s[4]\n",
    "                ŷ_dtm[:,:,:, channel, batch] = DistanceTransforms.transform(ŷ_cpu[:,:,:, channel, batch], Maurer()) # Maurer\n",
    "                # ŷ_dtm[:,:,:, channel, batch] = DistanceTransforms.transform(ŷ_cpu[:,:,:, channel, batch], Wenbo(), 16) # Wenbo\n",
    "            end\n",
    "        end\n",
    "        ŷ_dtm = ŷ_dtm |> gpu\n",
    "    end\n",
    "    loss_hd = mean(((ŷ .- y) .^ 2) .* (ŷ_dtm .^2 .+ y_dtm .^2))\n",
    "    loss_dice = 1.0f0 - (muladd(2.0f0, sum(ŷ .* y), ϵ) / (sum(ŷ .^ 2) + sum(y .^ 2) + ϵ))\n",
    "    α = epoch_idx * 1.0f-3\n",
    "    loss = α * loss_hd + (1.0f0 - α) * loss_dice\n",
    "    return loss\n",
    "end"
   ]
  },
  {
   "attachments": {},
   "cell_type": "markdown",
   "metadata": {},
   "source": [
    "# Custom Loops"
   ]
  },
  {
   "cell_type": "code",
   "execution_count": 24,
   "metadata": {},
   "outputs": [
    {
     "data": {
      "text/plain": [
       "train_1_epoch_with_DICE! (generic function with 1 method)"
      ]
     },
     "metadata": {},
     "output_type": "display_data"
    }
   ],
   "source": [
    "function train_1_epoch_with_DICE!(epoch_idx, model, model_ps, train_dl, valid_dl, optimizer)\n",
    "    flush(stdout)\n",
    "    println(\"Epoch #$epoch_idx...\\n\\t\")\n",
    "    times_per_step = [] \n",
    "    # Epoch start\n",
    "    time_per_epoch = 0\n",
    "    step_ct = 0\n",
    "    t1 = Dates.Time(now())\n",
    "    for (img_mask, mask_dtm) in train_dl\n",
    "      img, mask = img_mask \n",
    "      # 96 * 96 * 96 * 1 * batch_size\n",
    "      t2 = Dates.Time(now())\n",
    "      curr_step_time = @timed begin\n",
    "        # Step start\n",
    "        gs = gradient(model_ps) do\n",
    "          pred_mask = model(img)\n",
    "          training_loss = dice_loss(pred_mask[:,:,:,2:end,:], mask)\n",
    "          return training_loss\n",
    "        end\n",
    "        Flux.update!(optimizer, model_ps, gs)\n",
    "      end\n",
    "      # Step finished\n",
    "      push!(times_per_step, (curr_step_time.time * 10^9)+(t2-t1).value)\n",
    "      time_per_epoch += curr_step_time.time * 10^9 + (t2-t1).value # t2 - t1 is the loading time from dataloader\n",
    "      step_ct += 1\n",
    "      t1 = Dates.Time(now())\n",
    "    end\n",
    "    # Epoch finished\n",
    "    # Train set loss\n",
    "    train_losses = []\n",
    "    train_dice_metrics = []\n",
    "    train_hd_metrics = []\n",
    "    for (img_mask, mask_dtm) in train_dl\n",
    "      img, mask = img_mask \n",
    "      pred_mask = model(img)\n",
    "      training_loss = dice_loss(pred_mask[:,:,:,2:end,:], mask)\n",
    "      push!(train_losses, training_loss)\n",
    "      pred_mask_bi_1 = pred_mask[:,:,:,2,1] .> 0.5\n",
    "      mask_bi_1 = mask[:,:,:,1,1] .> 0.5\n",
    "      pred_mask_bi = pred_mask_bi_1 |> cpu\n",
    "      mask_bi = mask_bi_1 |> cpu\n",
    "      dice_m = ComputerVisionMetrics.dice(pred_mask_bi, mask_bi)\n",
    "      hd_m = ComputerVisionMetrics.hausdorff(pred_mask_bi, mask_bi)\n",
    "      push!(train_dice_metrics, dice_m)\n",
    "      push!(train_hd_metrics, hd_m)\n",
    "    end\n",
    "    # Valid set loss\n",
    "    valid_losses = []\n",
    "    valid_dice_metrics = []\n",
    "    valid_hd_metrics = []\n",
    "    for (img_mask, mask_dtm) in valid_dl\n",
    "      img, mask = img_mask \n",
    "      pred_mask = model(img)\n",
    "      valid_loss = dice_loss(pred_mask[:,:,:,2:end,:], mask)\n",
    "      push!(valid_losses, valid_loss)\n",
    "      pred_mask_bi_1 = pred_mask[:,:,:,2,1] .> 0.5\n",
    "      mask_bi_1 = mask[:,:,:,1,1] .> 0.5\n",
    "      pred_mask_bi = pred_mask_bi_1 |> cpu\n",
    "      mask_bi = mask_bi_1 |> cpu\n",
    "      dice_m2 = ComputerVisionMetrics.dice(pred_mask_bi, mask_bi)\n",
    "      hd_m2 = ComputerVisionMetrics.hausdorff(pred_mask_bi, mask_bi)\n",
    "      push!(valid_dice_metrics, dice_m2)\n",
    "      push!(valid_hd_metrics, hd_m2)\n",
    "    end\n",
    "    println(\"\\tFinished $step_ct steps --> Train loss = $(mean(train_losses)), Valid loss = $(mean(valid_losses)), \n",
    "    Dice = $(mean(valid_dice_metrics)), HD = $(mean(valid_hd_metrics))\")\n",
    "    return time_per_epoch, times_per_step, mean(train_losses), mean(valid_losses), mean(train_dice_metrics), \n",
    "    mean(train_hd_metrics), mean([mean(train_dice_metrics), mean(valid_dice_metrics)]), mean(valid_dice_metrics), \n",
    "    mean(valid_hd_metrics), mean([mean(train_hd_metrics), mean(valid_hd_metrics)])\n",
    "  end"
   ]
  },
  {
   "cell_type": "code",
   "execution_count": 22,
   "metadata": {},
   "outputs": [
    {
     "data": {
      "text/plain": [
       "train_1_epoch_with_DICE_and_HD! (generic function with 1 method)"
      ]
     },
     "metadata": {},
     "output_type": "display_data"
    }
   ],
   "source": [
    "function train_1_epoch_with_DICE_and_HD!(epoch_idx, model, model_ps, train_dl, valid_dl, optimizer)\n",
    "    ep_idx = Float32(epoch_idx)\n",
    "    flush(stdout)\n",
    "    println(\"Epoch #$epoch_idx...\")\n",
    "    times_per_step = [] \n",
    "    # Epoch start (4 outputs)\n",
    "    time_per_epoch = 0\n",
    "    step_ct = 0\n",
    "    t1 = Dates.Time(now())\n",
    "    for (img_mask, mask_dtm) in train_dl\n",
    "      img, mask = img_mask \n",
    "      # Step start\n",
    "      gs = gradient(model_ps) do\n",
    "        pred_mask = model(img)\n",
    "        training_loss = dice_hausdorff_loss(pred_mask[:,:,:,2:end,:], mask, mask_dtm, ep_idx)\n",
    "        return training_loss\n",
    "      end\n",
    "      Flux.update!(optimizer, model_ps, gs)\n",
    "      # Step finished\n",
    "      t2 = Dates.Time(now())\n",
    "      curr_step_time = (t2-t1).value\n",
    "      push!(times_per_step, curr_step_time)\n",
    "      time_per_epoch += curr_step_time\n",
    "      step_ct += 1\n",
    "      t1 = Dates.Time(now())\n",
    "    end\n",
    "    # Epoch finished\n",
    "    # Train set loss (4 outputs)\n",
    "    train_losses = []\n",
    "    train_dice_metrics = []\n",
    "    train_hd_metrics = []\n",
    "    valid_losses = []\n",
    "    valid_dice_metrics = []\n",
    "    valid_hd_metrics = []\n",
    "    for (img_mask, mask_dtm) in train_dl\n",
    "      # Run model\n",
    "      img, mask = img_mask \n",
    "      pred_mask = model(img)\n",
    "      # Loss\n",
    "      training_loss = dice_hausdorff_loss(pred_mask[:,:,:,2:end,:], mask, mask_dtm, ep_idx)\n",
    "      push!(train_losses, training_loss)\n",
    "      # # Metrics\n",
    "      # pred_mask_bi_1 = pred_mask[:,:,:,2,1] .> 0.5\n",
    "      # mask_bi_1 = mask[:,:,:,1,1] .> 0.5\n",
    "      # pred_mask_bi = pred_mask_bi_1 |> cpu\n",
    "      # mask_bi = mask_bi_1 |> cpu\n",
    "      # dice_m = ComputerVisionMetrics.dice(pred_mask_bi, mask_bi)\n",
    "      # hd_m = ComputerVisionMetrics.hausdorff(pred_mask_bi, mask_bi)\n",
    "      # push!(train_dice_metrics, dice_m)\n",
    "      # push!(train_hd_metrics, hd_m)\n",
    "    end\n",
    "    # Valid set loss (1 outputs)\n",
    "    for (img_mask, mask_dtm) in valid_dl\n",
    "      # Run model\n",
    "      img, mask = img_mask \n",
    "      pred_mask = model(img)\n",
    "      # Loss\n",
    "      valid_loss = dice_hausdorff_loss(pred_mask[:,:,:,2:end,:], mask, mask_dtm, ep_idx)\n",
    "      push!(valid_losses, valid_loss)\n",
    "      # # Metrics\n",
    "      # pred_mask_bi_1 = pred_mask[:,:,:,2,1] .> 0.5\n",
    "      # mask_bi_1 = mask[:,:,:,1,1] .> 0.5\n",
    "      # pred_mask_bi = pred_mask_bi_1 |> cpu\n",
    "      # mask_bi = mask_bi_1 |> cpu\n",
    "      # dice_m2 = ComputerVisionMetrics.dice(pred_mask_bi, mask_bi)\n",
    "      # hd_m2 = ComputerVisionMetrics.hausdorff(pred_mask_bi, mask_bi)\n",
    "      # push!(valid_dice_metrics, dice_m2)\n",
    "      # push!(valid_hd_metrics, hd_m2)\n",
    "    end\n",
    "    # println(\"\\tFinished $step_ct steps --> Train loss = $(mean(train_losses)), Valid loss = $(mean(valid_losses)), \n",
    "    # Dice = $(mean(valid_dice_metrics)), HD = $(mean(valid_hd_metrics))\")\n",
    "    println(\"\\tFinished $step_ct steps --> Train loss = $(mean(train_losses)), Valid loss = $(mean(valid_losses))\")\n",
    "    # return time_per_epoch, times_per_step, mean(train_losses), mean(valid_losses), mean(train_dice_metrics), \n",
    "    # mean(train_hd_metrics), mean([mean(train_dice_metrics), mean(valid_dice_metrics)]), mean(valid_dice_metrics), \n",
    "    # mean(valid_hd_metrics), mean([mean(train_hd_metrics), mean(valid_hd_metrics)])\n",
    "    return time_per_epoch, times_per_step, mean(train_losses), mean(valid_losses)\n",
    "  end"
   ]
  },
  {
   "attachments": {},
   "cell_type": "markdown",
   "metadata": {},
   "source": [
    "# Train, Loss = Dice"
   ]
  },
  {
   "cell_type": "code",
   "execution_count": 44,
   "metadata": {},
   "outputs": [
    {
     "name": "stdout",
     "output_type": "stream",
     "text": [
      "Epoch #1...\n",
      "\t\n"
     ]
    },
    {
     "name": "stdout",
     "output_type": "stream",
     "text": [
      "\tFinished 4 steps --> Train loss = 0.9769528, Valid loss = 0.9785426, \n",
      "    Dice = 0.017548743477216654, HD = 77.31106001084191\n"
     ]
    },
    {
     "name": "stdout",
     "output_type": "stream",
     "text": [
      "Epoch #2...\n",
      "\t\n"
     ]
    },
    {
     "name": "stdout",
     "output_type": "stream",
     "text": [
      "\tFinished 4 steps --> Train loss = 0.9751758, Valid loss = 0.9768351, \n",
      "    Dice = 0.019328825185975416, HD = 76.08547824650904\n"
     ]
    },
    {
     "name": "stdout",
     "output_type": "stream",
     "text": [
      "Epoch #3...\n",
      "\t\n"
     ]
    },
    {
     "name": "stdout",
     "output_type": "stream",
     "text": [
      "\tFinished 4 steps --> Train loss = 0.96870035, Valid loss = 0.9708064, \n",
      "    Dice = 0.0253198032445012, HD = 68.65857557508748\n"
     ]
    },
    {
     "name": "stdout",
     "output_type": "stream",
     "text": [
      "Epoch #4...\n",
      "\t\n"
     ]
    },
    {
     "name": "stdout",
     "output_type": "stream",
     "text": [
      "\tFinished 4 steps --> Train loss = 0.9430659, Valid loss = 0.946258, \n",
      "    Dice = 0.18997452119893504, HD = 46.06517122512408\n"
     ]
    },
    {
     "name": "stdout",
     "output_type": "stream",
     "text": [
      "Epoch #5...\n",
      "\t\n"
     ]
    },
    {
     "name": "stdout",
     "output_type": "stream",
     "text": [
      "\tFinished 4 steps --> Train loss = 0.90940833, Valid loss = 0.9117977, \n",
      "    Dice = 0.37679769894535, HD = 25.03996805109783\n"
     ]
    },
    {
     "name": "stdout",
     "output_type": "stream",
     "text": [
      "Epoch #6...\n",
      "\t\n"
     ]
    },
    {
     "name": "stdout",
     "output_type": "stream",
     "text": [
      "\tFinished 4 steps --> Train loss = 0.84028673, Valid loss = 0.8469685, \n",
      "    Dice = 0.4156645874863353, HD = 21.6794833886788\n"
     ]
    },
    {
     "name": "stdout",
     "output_type": "stream",
     "text": [
      "Epoch #7...\n",
      "\t\n"
     ]
    },
    {
     "name": "stdout",
     "output_type": "stream",
     "text": [
      "\tFinished 4 steps --> Train loss = 0.81525964, Valid loss = 0.81897163, \n",
      "    Dice = 0.5838128116609129, HD = 16.64331697709324\n"
     ]
    },
    {
     "name": "stdout",
     "output_type": "stream",
     "text": [
      "Epoch #8...\n",
      "\t\n"
     ]
    },
    {
     "name": "stdout",
     "output_type": "stream",
     "text": [
      "\tFinished 4 steps --> Train loss = 0.6065345, Valid loss = 0.60607266, \n",
      "    Dice = 0.47977643771142814, HD = 17.60681686165901\n"
     ]
    },
    {
     "name": "stdout",
     "output_type": "stream",
     "text": [
      "Epoch #9...\n",
      "\t\n"
     ]
    },
    {
     "name": "stdout",
     "output_type": "stream",
     "text": [
      "\tFinished 4 steps --> Train loss = 0.73756444, Valid loss = 0.717815, \n",
      "    Dice = 0.22666316066263476, HD = 24.351591323771842\n"
     ]
    },
    {
     "name": "stdout",
     "output_type": "stream",
     "text": [
      "Epoch #10...\n",
      "\t\n"
     ]
    },
    {
     "name": "stdout",
     "output_type": "stream",
     "text": [
      "\tFinished 4 steps --> Train loss = 0.34745044, Valid loss = 0.32159436, \n",
      "    Dice = 0.7362022076467765, HD = 13.0\n"
     ]
    },
    {
     "name": "stdout",
     "output_type": "stream",
     "text": [
      "Epoch #11...\n",
      "\t\n"
     ]
    },
    {
     "name": "stdout",
     "output_type": "stream",
     "text": [
      "\tFinished 4 steps --> Train loss = 0.24258061, Valid loss = 0.25678408, \n",
      "    Dice = 0.7237578429710022, HD = 12.68857754044952\n"
     ]
    },
    {
     "name": "stdout",
     "output_type": "stream",
     "text": [
      "Epoch #12...\n",
      "\t\n"
     ]
    },
    {
     "name": "stdout",
     "output_type": "stream",
     "text": [
      "\tFinished 4 steps --> Train loss = 0.25286177, Valid loss = 0.25855803, \n",
      "    Dice = 0.7043803653973145, HD = 7.0710678118654755\n"
     ]
    },
    {
     "name": "stdout",
     "output_type": "stream",
     "text": [
      "Epoch #13...\n",
      "\t\n"
     ]
    },
    {
     "name": "stdout",
     "output_type": "stream",
     "text": [
      "\tFinished 4 steps --> Train loss = 0.37423182, Valid loss = 0.37259406, \n",
      "    Dice = 0.5866885784716516, HD = 18.439088914585774\n"
     ]
    },
    {
     "name": "stdout",
     "output_type": "stream",
     "text": [
      "Epoch #14...\n",
      "\t\n"
     ]
    },
    {
     "name": "stdout",
     "output_type": "stream",
     "text": [
      "\tFinished 4 steps --> Train loss = 0.15974866, Valid loss = 0.18409622, \n",
      "    Dice = 0.7279800809212574, HD = 10.816653826391969\n"
     ]
    },
    {
     "name": "stdout",
     "output_type": "stream",
     "text": [
      "Epoch #15...\n",
      "\t\n"
     ]
    },
    {
     "name": "stdout",
     "output_type": "stream",
     "text": [
      "\tFinished 4 steps --> Train loss = 0.16537148, Valid loss = 0.16561985, \n",
      "    Dice = 0.8045867176301958, HD = 9.0\n"
     ]
    },
    {
     "name": "stdout",
     "output_type": "stream",
     "text": [
      "Epoch #16...\n",
      "\t\n"
     ]
    },
    {
     "name": "stdout",
     "output_type": "stream",
     "text": [
      "\tFinished 4 steps --> Train loss = 0.1406667, Valid loss = 0.16823316, \n",
      "    Dice = 0.8152828802351212, HD = 8.774964387392123\n"
     ]
    },
    {
     "name": "stdout",
     "output_type": "stream",
     "text": [
      "Epoch #17...\n",
      "\t\n"
     ]
    },
    {
     "name": "stdout",
     "output_type": "stream",
     "text": [
      "\tFinished 4 steps --> Train loss = 0.22969383, Valid loss = 0.25305933, \n",
      "    Dice = 0.6226452508427524, HD = 11.445523142259598\n"
     ]
    },
    {
     "name": "stdout",
     "output_type": "stream",
     "text": [
      "Epoch #18...\n",
      "\t\n"
     ]
    },
    {
     "name": "stdout",
     "output_type": "stream",
     "text": [
      "\tFinished 4 steps --> Train loss = 0.1652275, Valid loss = 0.19984972, \n",
      "    Dice = 0.7574365175332527, HD = 7.0\n"
     ]
    },
    {
     "name": "stdout",
     "output_type": "stream",
     "text": [
      "Epoch #19...\n",
      "\t\n"
     ]
    },
    {
     "name": "stdout",
     "output_type": "stream",
     "text": [
      "\tFinished 4 steps --> Train loss = 0.13614571, Valid loss = 0.17256129, \n",
      "    Dice = 0.8056382145653876, HD = 8.774964387392123\n"
     ]
    },
    {
     "name": "stdout",
     "output_type": "stream",
     "text": [
      "Epoch #20...\n",
      "\t\n"
     ]
    },
    {
     "name": "stdout",
     "output_type": "stream",
     "text": [
      "\tFinished 4 steps --> Train loss = 0.11041401, Valid loss = 0.15855408, \n",
      "    Dice = 0.8151510852603207, HD = 7.54983443527075\n"
     ]
    },
    {
     "name": "stdout",
     "output_type": "stream",
     "text": [
      "Epoch #21...\n",
      "\t\n"
     ]
    },
    {
     "name": "stdout",
     "output_type": "stream",
     "text": [
      "\tFinished 4 steps --> Train loss = 0.1414762, Valid loss = 0.18268275, \n",
      "    Dice = 0.6661085063630274, HD = 8.774964387392123\n"
     ]
    },
    {
     "name": "stdout",
     "output_type": "stream",
     "text": [
      "Epoch #22...\n",
      "\t\n"
     ]
    },
    {
     "name": "stdout",
     "output_type": "stream",
     "text": [
      "\tFinished 4 steps --> Train loss = 0.10531263, Valid loss = 0.1492899, \n",
      "    Dice = 0.823580282502162, HD = 7.54983443527075\n"
     ]
    },
    {
     "name": "stdout",
     "output_type": "stream",
     "text": [
      "Epoch #23...\n",
      "\t\n"
     ]
    },
    {
     "name": "stdout",
     "output_type": "stream",
     "text": [
      "\tFinished 4 steps --> Train loss = 0.10434522, Valid loss = 0.15105891, \n",
      "    Dice = 0.8111759287688056, HD = 8.06225774829855\n"
     ]
    },
    {
     "name": "stdout",
     "output_type": "stream",
     "text": [
      "Epoch #24...\n",
      "\t\n"
     ]
    },
    {
     "name": "stdout",
     "output_type": "stream",
     "text": [
      "\tFinished 4 steps --> Train loss = 0.10916823, Valid loss = 0.15391928, \n",
      "    Dice = 0.8074500136948781, HD = 7.54983443527075\n"
     ]
    },
    {
     "name": "stdout",
     "output_type": "stream",
     "text": [
      "Epoch #25...\n",
      "\t\n"
     ]
    },
    {
     "name": "stdout",
     "output_type": "stream",
     "text": [
      "\tFinished 4 steps --> Train loss = 0.097144976, Valid loss = 0.15271902, \n",
      "    Dice = 0.8040816326530612, HD = 8.06225774829855\n"
     ]
    },
    {
     "name": "stdout",
     "output_type": "stream",
     "text": [
      "Epoch #26...\n",
      "\t\n"
     ]
    },
    {
     "name": "stdout",
     "output_type": "stream",
     "text": [
      "\tFinished 4 steps --> Train loss = 0.08659837, Valid loss = 0.14190227, \n",
      "    Dice = 0.7928907168037603, HD = 8.06225774829855\n"
     ]
    },
    {
     "name": "stdout",
     "output_type": "stream",
     "text": [
      "Epoch #27...\n",
      "\t\n"
     ]
    },
    {
     "name": "stdout",
     "output_type": "stream",
     "text": [
      "\tFinished 4 steps --> Train loss = 0.08318703, Valid loss = 0.13775462, \n",
      "    Dice = 0.8218322427126711, HD = 7.54983443527075\n"
     ]
    },
    {
     "name": "stdout",
     "output_type": "stream",
     "text": [
      "Epoch #28...\n",
      "\t\n"
     ]
    },
    {
     "name": "stdout",
     "output_type": "stream",
     "text": [
      "\tFinished 4 steps --> Train loss = 0.120189235, Valid loss = 0.1652506, \n",
      "    Dice = 0.7797120857047205, HD = 8.06225774829855\n"
     ]
    },
    {
     "name": "stdout",
     "output_type": "stream",
     "text": [
      "Epoch #29...\n",
      "\t\n"
     ]
    },
    {
     "name": "stdout",
     "output_type": "stream",
     "text": [
      "\tFinished 4 steps --> Train loss = 0.091726795, Valid loss = 0.13001508, \n",
      "    Dice = 0.8232206268334106, HD = 7.681145747868608\n"
     ]
    },
    {
     "name": "stdout",
     "output_type": "stream",
     "text": [
      "Epoch #30...\n",
      "\t\n"
     ]
    },
    {
     "name": "stdout",
     "output_type": "stream",
     "text": [
      "\tFinished 4 steps --> Train loss = 0.09467064, Valid loss = 0.1647656, \n",
      "    Dice = 0.7894073139974779, HD = 8.306623862918075\n"
     ]
    },
    {
     "name": "stdout",
     "output_type": "stream",
     "text": [
      "Epoch #31...\n",
      "\t\n"
     ]
    },
    {
     "name": "stdout",
     "output_type": "stream",
     "text": [
      "\tFinished 4 steps --> Train loss = 0.08937852, Valid loss = 0.15792477, \n",
      "    Dice = 0.8074980058495081, HD = 8.306623862918075\n"
     ]
    },
    {
     "name": "stdout",
     "output_type": "stream",
     "text": [
      "Epoch #32...\n",
      "\t\n"
     ]
    },
    {
     "name": "stdout",
     "output_type": "stream",
     "text": [
      "\tFinished 4 steps --> Train loss = 0.08539282, Valid loss = 0.13514286, \n",
      "    Dice = 0.8301939836941242, HD = 7.54983443527075\n"
     ]
    },
    {
     "name": "stdout",
     "output_type": "stream",
     "text": [
      "Epoch #33...\n",
      "\t\n"
     ]
    },
    {
     "name": "stdout",
     "output_type": "stream",
     "text": [
      "\tFinished 4 steps --> Train loss = 0.08068851, Valid loss = 0.1430198, \n",
      "    Dice = 0.7977110157367668, HD = 8.06225774829855\n"
     ]
    },
    {
     "name": "stdout",
     "output_type": "stream",
     "text": [
      "Epoch #34...\n",
      "\t\n"
     ]
    },
    {
     "name": "stdout",
     "output_type": "stream",
     "text": [
      "\tFinished 4 steps --> Train loss = 0.07562497, Valid loss = 0.120670974, \n",
      "    Dice = 0.8379724582478758, HD = 7.54983443527075\n"
     ]
    },
    {
     "name": "stdout",
     "output_type": "stream",
     "text": [
      "Epoch #35...\n",
      "\t\n"
     ]
    },
    {
     "name": "stdout",
     "output_type": "stream",
     "text": [
      "\tFinished 4 steps --> Train loss = 0.10353951, Valid loss = 0.15874678, \n",
      "    Dice = 0.7828636585763153, HD = 8.06225774829855\n"
     ]
    },
    {
     "name": "stdout",
     "output_type": "stream",
     "text": [
      "Epoch #36...\n",
      "\t\n"
     ]
    },
    {
     "name": "stdout",
     "output_type": "stream",
     "text": [
      "\tFinished 4 steps --> Train loss = 0.07374002, Valid loss = 0.12772101, \n",
      "    Dice = 0.8052672347017815, HD = 8.06225774829855\n"
     ]
    },
    {
     "name": "stdout",
     "output_type": "stream",
     "text": [
      "Epoch #37...\n",
      "\t\n"
     ]
    },
    {
     "name": "stdout",
     "output_type": "stream",
     "text": [
      "\tFinished 4 steps --> Train loss = 0.0650264, Valid loss = 0.13487172, \n",
      "    Dice = 0.801056338028169, HD = 8.06225774829855\n"
     ]
    },
    {
     "name": "stdout",
     "output_type": "stream",
     "text": [
      "Epoch #38...\n",
      "\t\n"
     ]
    },
    {
     "name": "stdout",
     "output_type": "stream",
     "text": [
      "\tFinished 4 steps --> Train loss = 0.0884376, Valid loss = 0.14360231, \n",
      "    Dice = 0.8260197775030902, HD = 8.06225774829855\n"
     ]
    },
    {
     "name": "stdout",
     "output_type": "stream",
     "text": [
      "Epoch #39...\n",
      "\t\n"
     ]
    },
    {
     "name": "stdout",
     "output_type": "stream",
     "text": [
      "\tFinished 4 steps --> Train loss = 0.0818557, Valid loss = 0.13416588, \n",
      "    Dice = 0.8067333650944895, HD = 8.12403840463596\n"
     ]
    },
    {
     "name": "stdout",
     "output_type": "stream",
     "text": [
      "Epoch #40...\n",
      "\t\n"
     ]
    },
    {
     "name": "stdout",
     "output_type": "stream",
     "text": [
      "\tFinished 4 steps --> Train loss = 0.06871386, Valid loss = 0.136105, \n",
      "    Dice = 0.7899461400359067, HD = 8.306623862918075\n"
     ]
    },
    {
     "name": "stdout",
     "output_type": "stream",
     "text": [
      "Epoch #41...\n",
      "\t\n"
     ]
    },
    {
     "name": "stdout",
     "output_type": "stream",
     "text": [
      "\tFinished 4 steps --> Train loss = 0.0678837, Valid loss = 0.13601571, \n",
      "    Dice = 0.8288995493531036, HD = 8.06225774829855\n"
     ]
    },
    {
     "name": "stdout",
     "output_type": "stream",
     "text": [
      "Epoch #42...\n",
      "\t\n"
     ]
    },
    {
     "name": "stdout",
     "output_type": "stream",
     "text": [
      "\tFinished 4 steps --> Train loss = 0.06495936, Valid loss = 0.12306303, \n",
      "    Dice = 0.8251094009355666, HD = 8.06225774829855\n"
     ]
    },
    {
     "name": "stdout",
     "output_type": "stream",
     "text": [
      "Epoch #43...\n",
      "\t\n"
     ]
    },
    {
     "name": "stdout",
     "output_type": "stream",
     "text": [
      "\tFinished 4 steps --> Train loss = 0.07396589, Valid loss = 0.1414969, \n",
      "    Dice = 0.7948555096856145, HD = 8.12403840463596\n"
     ]
    },
    {
     "name": "stdout",
     "output_type": "stream",
     "text": [
      "Epoch #44...\n",
      "\t\n"
     ]
    },
    {
     "name": "stdout",
     "output_type": "stream",
     "text": [
      "\tFinished 4 steps --> Train loss = 0.06788431, Valid loss = 0.13377959, \n",
      "    Dice = 0.8359050445103857, HD = 8.06225774829855\n"
     ]
    },
    {
     "name": "stdout",
     "output_type": "stream",
     "text": [
      "Epoch #45...\n",
      "\t\n"
     ]
    },
    {
     "name": "stdout",
     "output_type": "stream",
     "text": [
      "\tFinished 4 steps --> Train loss = 0.062573165, Valid loss = 0.12951672, \n",
      "    Dice = 0.8116408306522375, HD = 8.306623862918075\n"
     ]
    },
    {
     "name": "stdout",
     "output_type": "stream",
     "text": [
      "Epoch #46...\n",
      "\t\n"
     ]
    },
    {
     "name": "stdout",
     "output_type": "stream",
     "text": [
      "\tFinished 4 steps --> Train loss = 0.05882974, Valid loss = 0.13054836, \n",
      "    Dice = 0.8228606544784145, HD = 8.06225774829855\n"
     ]
    },
    {
     "name": "stdout",
     "output_type": "stream",
     "text": [
      "Epoch #47...\n",
      "\t\n"
     ]
    },
    {
     "name": "stdout",
     "output_type": "stream",
     "text": [
      "\tFinished 4 steps --> Train loss = 0.053747147, Valid loss = 0.12651646, \n",
      "    Dice = 0.8403118683222639, HD = 7.54983443527075\n"
     ]
    },
    {
     "name": "stdout",
     "output_type": "stream",
     "text": [
      "Epoch #48...\n",
      "\t\n"
     ]
    },
    {
     "name": "stdout",
     "output_type": "stream",
     "text": [
      "\tFinished 4 steps --> Train loss = 0.061848834, Valid loss = 0.13414204, \n",
      "    Dice = 0.8039246223329699, HD = 8.06225774829855\n"
     ]
    },
    {
     "name": "stdout",
     "output_type": "stream",
     "text": [
      "Epoch #49...\n",
      "\t\n"
     ]
    },
    {
     "name": "stdout",
     "output_type": "stream",
     "text": [
      "\tFinished 4 steps --> Train loss = 0.08737902, Valid loss = 0.15008438, \n",
      "    Dice = 0.8085867620751341, HD = 8.246211251235321\n"
     ]
    },
    {
     "name": "stdout",
     "output_type": "stream",
     "text": [
      "Epoch #50...\n",
      "\t\n"
     ]
    },
    {
     "name": "stdout",
     "output_type": "stream",
     "text": [
      "\tFinished 4 steps --> Train loss = 0.07270475, Valid loss = 0.13641512, \n",
      "    Dice = 0.7974317817014446, HD = 8.12403840463596"
     ]
    },
    {
     "name": "stdout",
     "output_type": "stream",
     "text": [
      "\n"
     ]
    },
    {
     "name": "stdout",
     "output_type": "stream",
     "text": [
      "Epoch #51...\n",
      "\t\n"
     ]
    },
    {
     "name": "stdout",
     "output_type": "stream",
     "text": [
      "\tFinished 4 steps --> Train loss = 0.049626708, Valid loss = 0.13530064, \n",
      "    Dice = 0.8327319959590128, HD = 8.306623862918075\n"
     ]
    },
    {
     "name": "stdout",
     "output_type": "stream",
     "text": [
      "Epoch #52...\n",
      "\t\n"
     ]
    },
    {
     "name": "stdout",
     "output_type": "stream",
     "text": [
      "\tFinished 4 steps --> Train loss = 0.14462648, Valid loss = 0.22099274, \n",
      "    Dice = 0.747361174850849, HD = 7.280109889280518\n"
     ]
    },
    {
     "name": "stdout",
     "output_type": "stream",
     "text": [
      "Epoch #53...\n",
      "\t\n"
     ]
    },
    {
     "name": "stdout",
     "output_type": "stream",
     "text": [
      "\tFinished 4 steps --> Train loss = 0.04730709, Valid loss = 0.12849844, \n",
      "    Dice = 0.8362168396770473, HD = 8.06225774829855\n"
     ]
    },
    {
     "name": "stdout",
     "output_type": "stream",
     "text": [
      "Epoch #54...\n",
      "\t\n"
     ]
    },
    {
     "name": "stdout",
     "output_type": "stream",
     "text": [
      "\tFinished 4 steps --> Train loss = 0.05531004, Valid loss = 0.12538481, \n",
      "    Dice = 0.8279767370676462, HD = 7.681145747868608\n"
     ]
    },
    {
     "name": "stdout",
     "output_type": "stream",
     "text": [
      "Epoch #55...\n",
      "\t\n"
     ]
    },
    {
     "name": "stdout",
     "output_type": "stream",
     "text": [
      "\tFinished 4 steps --> Train loss = 0.0480697, Valid loss = 0.123579085, \n",
      "    Dice = 0.8255456276548997, HD = 7.54983443527075\n"
     ]
    },
    {
     "name": "stdout",
     "output_type": "stream",
     "text": [
      "Epoch #56...\n",
      "\t\n"
     ]
    },
    {
     "name": "stdout",
     "output_type": "stream",
     "text": [
      "\tFinished 4 steps --> Train loss = 0.07139346, Valid loss = 0.13622922, \n",
      "    Dice = 0.8330170777988615, HD = 8.06225774829855\n"
     ]
    },
    {
     "name": "stdout",
     "output_type": "stream",
     "text": [
      "Epoch #57...\n",
      "\t\n"
     ]
    },
    {
     "name": "stdout",
     "output_type": "stream",
     "text": [
      "\tFinished 4 steps --> Train loss = 0.04401505, Valid loss = 0.114362, \n",
      "    Dice = 0.844009922661608, HD = 5.196152422706632\n"
     ]
    },
    {
     "name": "stdout",
     "output_type": "stream",
     "text": [
      "Epoch #58...\n",
      "\t\n"
     ]
    },
    {
     "name": "stdout",
     "output_type": "stream",
     "text": [
      "\tFinished 4 steps --> Train loss = 0.055382907, Valid loss = 0.1326701, \n",
      "    Dice = 0.8237844533911428, HD = 8.12403840463596\n"
     ]
    },
    {
     "name": "stdout",
     "output_type": "stream",
     "text": [
      "Epoch #59...\n",
      "\t\n"
     ]
    },
    {
     "name": "stdout",
     "output_type": "stream",
     "text": [
      "\tFinished 4 steps --> Train loss = 0.052633062, Valid loss = 0.12399274, \n",
      "    Dice = 0.844964730601831, HD = 8.06225774829855\n"
     ]
    },
    {
     "name": "stdout",
     "output_type": "stream",
     "text": [
      "Epoch #60...\n",
      "\t\n"
     ]
    },
    {
     "name": "stdout",
     "output_type": "stream",
     "text": [
      "\tFinished 4 steps --> Train loss = 0.04186052, Valid loss = 0.11845827, \n",
      "    Dice = 0.836937463471654, HD = 8.12403840463596\n"
     ]
    },
    {
     "name": "stdout",
     "output_type": "stream",
     "text": [
      "Epoch #61...\n",
      "\t\n"
     ]
    },
    {
     "name": "stdout",
     "output_type": "stream",
     "text": [
      "\tFinished 4 steps --> Train loss = 0.043164, Valid loss = 0.12421566, \n",
      "    Dice = 0.8343834383438344, HD = 8.06225774829855\n"
     ]
    },
    {
     "name": "stdout",
     "output_type": "stream",
     "text": [
      "Epoch #62...\n",
      "\t\n"
     ]
    },
    {
     "name": "stdout",
     "output_type": "stream",
     "text": [
      "\tFinished 4 steps --> Train loss = 0.037765652, Valid loss = 0.12061936, \n",
      "    Dice = 0.8367317001613613, HD = 8.06225774829855\n"
     ]
    },
    {
     "name": "stdout",
     "output_type": "stream",
     "text": [
      "Epoch #63...\n",
      "\t\n"
     ]
    },
    {
     "name": "stdout",
     "output_type": "stream",
     "text": [
      "\tFinished 4 steps --> Train loss = 0.040497303, Valid loss = 0.117841244, \n",
      "    Dice = 0.8463132958246965, HD = 8.06225774829855\n"
     ]
    },
    {
     "name": "stdout",
     "output_type": "stream",
     "text": [
      "Epoch #64...\n",
      "\t\n"
     ]
    },
    {
     "name": "stdout",
     "output_type": "stream",
     "text": [
      "\tFinished 4 steps --> Train loss = 0.051736042, Valid loss = 0.12392038, \n",
      "    Dice = 0.8396617986164489, HD = 8.06225774829855\n"
     ]
    },
    {
     "name": "stdout",
     "output_type": "stream",
     "text": [
      "Epoch #65...\n",
      "\t\n"
     ]
    },
    {
     "name": "stdout",
     "output_type": "stream",
     "text": [
      "\tFinished 4 steps --> Train loss = 0.035068497, Valid loss = 0.12041265, \n",
      "    Dice = 0.8334794040315513, HD = 8.12403840463596\n"
     ]
    },
    {
     "name": "stdout",
     "output_type": "stream",
     "text": [
      "Epoch #66...\n",
      "\t\n"
     ]
    },
    {
     "name": "stdout",
     "output_type": "stream",
     "text": [
      "\tFinished 4 steps --> Train loss = 0.04720147, Valid loss = 0.13549054, \n",
      "    Dice = 0.8270696803530828, HD = 6.928203230275509\n"
     ]
    },
    {
     "name": "stdout",
     "output_type": "stream",
     "text": [
      "Epoch #67...\n",
      "\t\n"
     ]
    },
    {
     "name": "stdout",
     "output_type": "stream",
     "text": [
      "\tFinished 4 steps --> Train loss = 0.040977493, Valid loss = 0.12213457, \n",
      "    Dice = 0.8349660889223813, HD = 8.246211251235321\n"
     ]
    },
    {
     "name": "stdout",
     "output_type": "stream",
     "text": [
      "Epoch #68...\n",
      "\t\n"
     ]
    },
    {
     "name": "stdout",
     "output_type": "stream",
     "text": [
      "\tFinished 4 steps --> Train loss = 0.033109516, Valid loss = 0.11686212, \n",
      "    Dice = 0.8437956204379562, HD = 6.928203230275509\n"
     ]
    },
    {
     "name": "stdout",
     "output_type": "stream",
     "text": [
      "Epoch #69...\n",
      "\t\n"
     ]
    },
    {
     "name": "stdout",
     "output_type": "stream",
     "text": [
      "\tFinished 4 steps --> Train loss = 0.036000848, Valid loss = 0.126441, \n",
      "    Dice = 0.8310565932534151, HD = 8.12403840463596\n"
     ]
    },
    {
     "name": "stdout",
     "output_type": "stream",
     "text": [
      "Epoch #70...\n",
      "\t\n"
     ]
    },
    {
     "name": "stdout",
     "output_type": "stream",
     "text": [
      "\tFinished 4 steps --> Train loss = 0.044434324, Valid loss = 0.1192587, \n",
      "    Dice = 0.8461074230537116, HD = 5.196152422706632\n"
     ]
    },
    {
     "name": "stdout",
     "output_type": "stream",
     "text": [
      "Epoch #71...\n",
      "\t\n"
     ]
    },
    {
     "name": "stdout",
     "output_type": "stream",
     "text": [
      "\tFinished 4 steps --> Train loss = 0.03261803, Valid loss = 0.116785586, \n",
      "    Dice = 0.8361058874584116, HD = 6.928203230275509\n"
     ]
    },
    {
     "name": "stdout",
     "output_type": "stream",
     "text": [
      "Epoch #72...\n",
      "\t\n"
     ]
    },
    {
     "name": "stdout",
     "output_type": "stream",
     "text": [
      "\tFinished 4 steps --> Train loss = 0.034603328, Valid loss = 0.117788434, \n",
      "    Dice = 0.8398576512455516, HD = 8.12403840463596\n"
     ]
    },
    {
     "name": "stdout",
     "output_type": "stream",
     "text": [
      "Epoch #73...\n",
      "\t\n"
     ]
    },
    {
     "name": "stdout",
     "output_type": "stream",
     "text": [
      "\tFinished 4 steps --> Train loss = 0.041096717, Valid loss = 0.12884402, \n",
      "    Dice = 0.8303423314733825, HD = 8.246211251235321\n"
     ]
    },
    {
     "name": "stdout",
     "output_type": "stream",
     "text": [
      "Epoch #74...\n",
      "\t\n"
     ]
    },
    {
     "name": "stdout",
     "output_type": "stream",
     "text": [
      "\tFinished 4 steps --> Train loss = 0.039349973, Valid loss = 0.11544973, \n",
      "    Dice = 0.847630473905219, HD = 8.12403840463596\n"
     ]
    },
    {
     "name": "stdout",
     "output_type": "stream",
     "text": [
      "Epoch #75...\n",
      "\t\n"
     ]
    },
    {
     "name": "stdout",
     "output_type": "stream",
     "text": [
      "\tFinished 4 steps --> Train loss = 0.031535476, Valid loss = 0.11952025, \n",
      "    Dice = 0.8376189799687456, HD = 6.928203230275509\n"
     ]
    },
    {
     "name": "stdout",
     "output_type": "stream",
     "text": [
      "Epoch #76...\n",
      "\t\n"
     ]
    },
    {
     "name": "stdout",
     "output_type": "stream",
     "text": [
      "\tFinished 4 steps --> Train loss = 0.027969852, Valid loss = 0.1219061, \n",
      "    Dice = 0.8363065505922649, HD = 8.12403840463596\n"
     ]
    },
    {
     "name": "stdout",
     "output_type": "stream",
     "text": [
      "Epoch #77...\n",
      "\t\n"
     ]
    },
    {
     "name": "stdout",
     "output_type": "stream",
     "text": [
      "\tFinished 4 steps --> Train loss = 0.045825616, Valid loss = 0.11945754, \n",
      "    Dice = 0.848816029143898, HD = 8.12403840463596\n"
     ]
    },
    {
     "name": "stdout",
     "output_type": "stream",
     "text": [
      "Epoch #78...\n",
      "\t\n"
     ]
    },
    {
     "name": "stdout",
     "output_type": "stream",
     "text": [
      "\tFinished 4 steps --> Train loss = 0.030486807, Valid loss = 0.123185754, \n",
      "    Dice = 0.8411582794489738, HD = 6.928203230275509\n"
     ]
    },
    {
     "name": "stdout",
     "output_type": "stream",
     "text": [
      "Epoch #79...\n",
      "\t\n"
     ]
    },
    {
     "name": "stdout",
     "output_type": "stream",
     "text": [
      "\tFinished 4 steps --> Train loss = 0.0277033, Valid loss = 0.122311056, \n",
      "    Dice = 0.835820895522388, HD = 8.12403840463596\n"
     ]
    },
    {
     "name": "stdout",
     "output_type": "stream",
     "text": [
      "Epoch #80...\n",
      "\t\n"
     ]
    },
    {
     "name": "stdout",
     "output_type": "stream",
     "text": [
      "\tFinished 4 steps --> Train loss = 0.050096065, Valid loss = 0.12633151, \n",
      "    Dice = 0.8357231920199502, HD = 8.12403840463596\n"
     ]
    },
    {
     "name": "stdout",
     "output_type": "stream",
     "text": [
      "Epoch #81...\n",
      "\t\n"
     ]
    },
    {
     "name": "stdout",
     "output_type": "stream",
     "text": [
      "\tFinished 4 steps --> Train loss = 0.027099773, Valid loss = 0.12150538, \n",
      "    Dice = 0.8400727578004757, HD = 6.928203230275509\n"
     ]
    },
    {
     "name": "stdout",
     "output_type": "stream",
     "text": [
      "Epoch #82...\n",
      "\t\n"
     ]
    },
    {
     "name": "stdout",
     "output_type": "stream",
     "text": [
      "\tFinished 4 steps --> Train loss = 0.023746505, Valid loss = 0.117370605, \n",
      "    Dice = 0.8379038047379755, HD = 8.06225774829855\n"
     ]
    },
    {
     "name": "stdout",
     "output_type": "stream",
     "text": [
      "Epoch #83...\n",
      "\t\n"
     ]
    },
    {
     "name": "stdout",
     "output_type": "stream",
     "text": [
      "\tFinished 4 steps --> Train loss = 0.040788203, Valid loss = 0.12218386, \n",
      "    Dice = 0.8362187835146315, HD = 8.246211251235321\n"
     ]
    },
    {
     "name": "stdout",
     "output_type": "stream",
     "text": [
      "Epoch #84...\n",
      "\t\n"
     ]
    },
    {
     "name": "stdout",
     "output_type": "stream",
     "text": [
      "\tFinished 4 steps --> Train loss = 0.022359625, Valid loss = 0.119276226, \n",
      "    Dice = 0.8399772209567198, HD = 8.12403840463596\n"
     ]
    },
    {
     "name": "stdout",
     "output_type": "stream",
     "text": [
      "Epoch #85...\n",
      "\t\n"
     ]
    },
    {
     "name": "stdout",
     "output_type": "stream",
     "text": [
      "\tFinished 4 steps --> Train loss = 0.023783475, Valid loss = 0.11406118, \n",
      "    Dice = 0.8422876949740035, HD = 8.12403840463596\n"
     ]
    },
    {
     "name": "stdout",
     "output_type": "stream",
     "text": [
      "Epoch #86...\n",
      "\t\n"
     ]
    },
    {
     "name": "stdout",
     "output_type": "stream",
     "text": [
      "\tFinished 4 steps --> Train loss = 0.02574341, Valid loss = 0.116758645, \n",
      "    Dice = 0.8432480666270077, HD = 8.12403840463596\n"
     ]
    },
    {
     "name": "stdout",
     "output_type": "stream",
     "text": [
      "Epoch #87...\n",
      "\t\n"
     ]
    },
    {
     "name": "stdout",
     "output_type": "stream",
     "text": [
      "\tFinished 4 steps --> Train loss = 0.026912734, Valid loss = 0.122599065, \n",
      "    Dice = 0.8439716312056738, HD = 8.12403840463596\n"
     ]
    },
    {
     "name": "stdout",
     "output_type": "stream",
     "text": [
      "Epoch #88...\n",
      "\t\n"
     ]
    },
    {
     "name": "stdout",
     "output_type": "stream",
     "text": [
      "\tFinished 4 steps --> Train loss = 0.029125452, Valid loss = 0.1176126, \n",
      "    Dice = 0.8436435868331441, HD = 6.928203230275509\n"
     ]
    },
    {
     "name": "stdout",
     "output_type": "stream",
     "text": [
      "Epoch #89...\n",
      "\t\n"
     ]
    },
    {
     "name": "stdout",
     "output_type": "stream",
     "text": [
      "\tFinished 4 steps --> Train loss = 0.025951385, Valid loss = 0.119306326, \n",
      "    Dice = 0.8378536016331292, HD = 8.246211251235321\n"
     ]
    },
    {
     "name": "stdout",
     "output_type": "stream",
     "text": [
      "Epoch #90...\n",
      "\t\n"
     ]
    },
    {
     "name": "stdout",
     "output_type": "stream",
     "text": [
      "\tFinished 4 steps --> Train loss = 0.027065873, Valid loss = 0.116045356, \n",
      "    Dice = 0.8417588991923423, HD = 6.928203230275509\n"
     ]
    },
    {
     "name": "stdout",
     "output_type": "stream",
     "text": [
      "Epoch #91...\n",
      "\t\n"
     ]
    },
    {
     "name": "stdout",
     "output_type": "stream",
     "text": [
      "\tFinished 4 steps --> Train loss = 0.024255678, Valid loss = 0.11705041, \n",
      "    Dice = 0.8436681222707424, HD = 6.928203230275509\n"
     ]
    },
    {
     "name": "stdout",
     "output_type": "stream",
     "text": [
      "Epoch #92...\n",
      "\t\n"
     ]
    },
    {
     "name": "stdout",
     "output_type": "stream",
     "text": [
      "\tFinished 4 steps --> Train loss = 0.026463285, Valid loss = 0.12138361, \n",
      "    Dice = 0.8457008244994111, HD = 8.12403840463596\n"
     ]
    },
    {
     "name": "stdout",
     "output_type": "stream",
     "text": [
      "Epoch #93...\n",
      "\t\n"
     ]
    },
    {
     "name": "stdout",
     "output_type": "stream",
     "text": [
      "\tFinished 4 steps --> Train loss = 0.02638805, Valid loss = 0.113731265, \n",
      "    Dice = 0.8478229212174166, HD = 5.385164807134504\n"
     ]
    },
    {
     "name": "stdout",
     "output_type": "stream",
     "text": [
      "Epoch #94...\n",
      "\t\n"
     ]
    },
    {
     "name": "stdout",
     "output_type": "stream",
     "text": [
      "\tFinished 4 steps --> Train loss = 0.023015797, Valid loss = 0.12134004, \n",
      "    Dice = 0.8396708286038592, HD = 7.483314773547883\n"
     ]
    },
    {
     "name": "stdout",
     "output_type": "stream",
     "text": [
      "Epoch #95...\n",
      "\t\n"
     ]
    },
    {
     "name": "stdout",
     "output_type": "stream",
     "text": [
      "\tFinished 4 steps --> Train loss = 0.029307976, Valid loss = 0.11979622, \n",
      "    Dice = 0.8438298511949497, HD = 8.06225774829855\n"
     ]
    },
    {
     "name": "stdout",
     "output_type": "stream",
     "text": [
      "Epoch #96...\n",
      "\t\n"
     ]
    },
    {
     "name": "stdout",
     "output_type": "stream",
     "text": [
      "\tFinished 4 steps --> Train loss = 0.023965314, Valid loss = 0.11539137, \n",
      "    Dice = 0.8561362301820317, HD = 14.560219778561036\n"
     ]
    },
    {
     "name": "stdout",
     "output_type": "stream",
     "text": [
      "Epoch #97...\n",
      "\t\n"
     ]
    },
    {
     "name": "stdout",
     "output_type": "stream",
     "text": [
      "\tFinished 4 steps --> Train loss = 0.019681484, Valid loss = 0.11829746, \n",
      "    Dice = 0.8333333333333334, HD = 8.246211251235321\n"
     ]
    },
    {
     "name": "stdout",
     "output_type": "stream",
     "text": [
      "Epoch #98...\n",
      "\t\n"
     ]
    },
    {
     "name": "stdout",
     "output_type": "stream",
     "text": [
      "\tFinished 4 steps --> Train loss = 0.019607082, Valid loss = 0.11676127, \n",
      "    Dice = 0.8481012658227848, HD = 6.928203230275509\n"
     ]
    },
    {
     "name": "stdout",
     "output_type": "stream",
     "text": [
      "Epoch #99...\n",
      "\t\n"
     ]
    },
    {
     "name": "stdout",
     "output_type": "stream",
     "text": [
      "\tFinished 4 steps --> Train loss = 0.032455683, Valid loss = 0.119330704, \n",
      "    Dice = 0.8451173353520061, HD = 8.12403840463596\n"
     ]
    },
    {
     "name": "stdout",
     "output_type": "stream",
     "text": [
      "Epoch #100...\n",
      "\t\n"
     ]
    },
    {
     "name": "stdout",
     "output_type": "stream",
     "text": [
      "\tFinished 4 steps --> Train loss = 0.021451041, Valid loss = 0.113628745, \n",
      "    Dice = 0.8450620934358368, HD = 6.928203230275509\n"
     ]
    },
    {
     "name": "stdout",
     "output_type": "stream",
     "text": [
      "Epoch #101...\n",
      "\t\n"
     ]
    },
    {
     "name": "stdout",
     "output_type": "stream",
     "text": [
      "\tFinished 4 steps --> Train loss = 0.021653444, Valid loss = 0.12372935, \n",
      "    Dice = 0.8374301675977653, HD = 7.483314773547883\n"
     ]
    },
    {
     "name": "stdout",
     "output_type": "stream",
     "text": [
      "Epoch #102...\n",
      "\t\n"
     ]
    },
    {
     "name": "stdout",
     "output_type": "stream",
     "text": [
      "\tFinished 4 steps --> Train loss = 0.025495932, Valid loss = 0.11518085, \n",
      "    Dice = 0.8501711054902544, HD = 6.928203230275509\n"
     ]
    },
    {
     "name": "stdout",
     "output_type": "stream",
     "text": [
      "Epoch #103...\n",
      "\t\n"
     ]
    },
    {
     "name": "stdout",
     "output_type": "stream",
     "text": [
      "\tFinished 4 steps --> Train loss = 0.019346118, Valid loss = 0.114592254, \n",
      "    Dice = 0.8522660388463802, HD = 6.928203230275509\n"
     ]
    },
    {
     "name": "stdout",
     "output_type": "stream",
     "text": [
      "Epoch #104...\n",
      "\t\n"
     ]
    },
    {
     "name": "stdout",
     "output_type": "stream",
     "text": [
      "\tFinished 4 steps --> Train loss = 0.018891111, Valid loss = 0.12113762, \n",
      "    Dice = 0.8336644904910587, HD = 8.246211251235321\n"
     ]
    },
    {
     "name": "stdout",
     "output_type": "stream",
     "text": [
      "Epoch #105...\n",
      "\t\n"
     ]
    },
    {
     "name": "stdout",
     "output_type": "stream",
     "text": [
      "\tFinished 4 steps --> Train loss = 0.018686384, Valid loss = 0.11424464, \n",
      "    Dice = 0.8508093918623305, HD = 6.928203230275509\n"
     ]
    },
    {
     "name": "stdout",
     "output_type": "stream",
     "text": [
      "Epoch #106...\n",
      "\t\n"
     ]
    },
    {
     "name": "stdout",
     "output_type": "stream",
     "text": [
      "\tFinished 4 steps --> Train loss = 0.020445302, Valid loss = 0.11570811, \n",
      "    Dice = 0.8519994097683341, HD = 6.928203230275509\n"
     ]
    },
    {
     "name": "stdout",
     "output_type": "stream",
     "text": [
      "Epoch #107...\n",
      "\t\n"
     ]
    },
    {
     "name": "stdout",
     "output_type": "stream",
     "text": [
      "\tFinished 4 steps --> Train loss = 0.016783789, Valid loss = 0.11891228, \n",
      "    Dice = 0.8385689354275742, HD = 6.928203230275509\n"
     ]
    },
    {
     "name": "stdout",
     "output_type": "stream",
     "text": [
      "Epoch #108...\n",
      "\t\n"
     ]
    },
    {
     "name": "stdout",
     "output_type": "stream",
     "text": [
      "\tFinished 4 steps --> Train loss = 0.0150010735, Valid loss = 0.114885926, \n",
      "    Dice = 0.8490401396160558, HD = 6.928203230275509\n"
     ]
    },
    {
     "name": "stdout",
     "output_type": "stream",
     "text": [
      "Epoch #109...\n",
      "\t\n"
     ]
    },
    {
     "name": "stdout",
     "output_type": "stream",
     "text": [
      "\tFinished 4 steps --> Train loss = 0.020974636, Valid loss = 0.11380327, \n",
      "    Dice = 0.8486734845116348, HD = 6.928203230275509\n"
     ]
    },
    {
     "name": "stdout",
     "output_type": "stream",
     "text": [
      "Epoch #110...\n",
      "\t\n"
     ]
    },
    {
     "name": "stdout",
     "output_type": "stream",
     "text": [
      "\tFinished 4 steps --> Train loss = 0.017950267, Valid loss = 0.12049776, \n",
      "    Dice = 0.8407182160440196, HD = 6.928203230275509\n"
     ]
    },
    {
     "name": "stdout",
     "output_type": "stream",
     "text": [
      "Epoch #111...\n",
      "\t\n"
     ]
    },
    {
     "name": "stdout",
     "output_type": "stream",
     "text": [
      "\tFinished 4 steps --> Train loss = 0.018154696, Valid loss = 0.12344968, \n",
      "    Dice = 0.8385032688830157, HD = 6.928203230275509\n"
     ]
    },
    {
     "name": "stdout",
     "output_type": "stream",
     "text": [
      "Epoch #112...\n",
      "\t\n"
     ]
    },
    {
     "name": "stdout",
     "output_type": "stream",
     "text": [
      "\tFinished 4 steps --> Train loss = 0.02124463, Valid loss = 0.11291915, \n",
      "    Dice = 0.8494670754854723, HD = 14.560219778561036\n"
     ]
    },
    {
     "name": "stdout",
     "output_type": "stream",
     "text": [
      "Epoch #113...\n",
      "\t\n"
     ]
    },
    {
     "name": "stdout",
     "output_type": "stream",
     "text": [
      "\tFinished 4 steps --> Train loss = 0.02170211, Valid loss = 0.12346393, \n",
      "    Dice = 0.8400234397890419, HD = 7.483314773547883\n"
     ]
    },
    {
     "name": "stdout",
     "output_type": "stream",
     "text": [
      "Epoch #114...\n",
      "\t\n"
     ]
    },
    {
     "name": "stdout",
     "output_type": "stream",
     "text": [
      "\tFinished 4 steps --> Train loss = 0.015894562, Valid loss = 0.11514205, \n",
      "    Dice = 0.8373642288196959, HD = 8.246211251235321\n"
     ]
    },
    {
     "name": "stdout",
     "output_type": "stream",
     "text": [
      "Epoch #115...\n",
      "\t\n"
     ]
    },
    {
     "name": "stdout",
     "output_type": "stream",
     "text": [
      "\tFinished 4 steps --> Train loss = 0.014871597, Valid loss = 0.114435256, \n",
      "    Dice = 0.8536196141012622, HD = 6.928203230275509\n"
     ]
    },
    {
     "name": "stdout",
     "output_type": "stream",
     "text": [
      "Epoch #116...\n",
      "\t\n"
     ]
    },
    {
     "name": "stdout",
     "output_type": "stream",
     "text": [
      "\tFinished 4 steps --> Train loss = 0.015319526, Valid loss = 0.11688399, \n",
      "    Dice = 0.8417078129538194, HD = 14.560219778561036\n"
     ]
    },
    {
     "name": "stdout",
     "output_type": "stream",
     "text": [
      "Epoch #117...\n",
      "\t\n"
     ]
    },
    {
     "name": "stdout",
     "output_type": "stream",
     "text": [
      "\tFinished 4 steps --> Train loss = 0.0133353025, Valid loss = 0.11502671, \n",
      "    Dice = 0.8447062203706364, HD = 6.928203230275509\n"
     ]
    },
    {
     "name": "stdout",
     "output_type": "stream",
     "text": [
      "Epoch #118...\n",
      "\t\n"
     ]
    },
    {
     "name": "stdout",
     "output_type": "stream",
     "text": [
      "\tFinished 4 steps --> Train loss = 0.013550475, Valid loss = 0.11837119, \n",
      "    Dice = 0.8465532160369196, HD = 6.928203230275509\n"
     ]
    },
    {
     "name": "stdout",
     "output_type": "stream",
     "text": [
      "Epoch #119...\n",
      "\t\n"
     ]
    },
    {
     "name": "stdout",
     "output_type": "stream",
     "text": [
      "\tFinished 4 steps --> Train loss = 0.014504686, Valid loss = 0.11587441, \n",
      "    Dice = 0.8457292271934922, HD = 14.560219778561036\n"
     ]
    },
    {
     "name": "stdout",
     "output_type": "stream",
     "text": [
      "Epoch #120...\n",
      "\t\n"
     ]
    },
    {
     "name": "stdout",
     "output_type": "stream",
     "text": [
      "\tFinished 4 steps --> Train loss = 0.01404801, Valid loss = 0.11706883, \n",
      "    Dice = 0.844724132884531, HD = 5.385164807134504\n"
     ]
    },
    {
     "name": "stdout",
     "output_type": "stream",
     "text": [
      "Epoch #121...\n",
      "\t\n"
     ]
    },
    {
     "name": "stdout",
     "output_type": "stream",
     "text": [
      "\tFinished 4 steps --> Train loss = 0.013672903, Valid loss = 0.12266511, \n",
      "    Dice = 0.8398316970546985, HD = 7.483314773547883\n"
     ]
    },
    {
     "name": "stdout",
     "output_type": "stream",
     "text": [
      "Epoch #122...\n",
      "\t\n"
     ]
    },
    {
     "name": "stdout",
     "output_type": "stream",
     "text": [
      "\tFinished 4 steps --> Train loss = 0.012296051, Valid loss = 0.120764256, \n",
      "    Dice = 0.841941857183178, HD = 6.928203230275509\n"
     ]
    },
    {
     "name": "stdout",
     "output_type": "stream",
     "text": [
      "Epoch #123...\n",
      "\t\n"
     ]
    },
    {
     "name": "stdout",
     "output_type": "stream",
     "text": [
      "\tFinished 4 steps --> Train loss = 0.03583829, Valid loss = 0.1234712, \n",
      "    Dice = 0.8496852448948258, HD = 4.58257569495584\n"
     ]
    },
    {
     "name": "stdout",
     "output_type": "stream",
     "text": [
      "Epoch #124...\n",
      "\t\n"
     ]
    },
    {
     "name": "stdout",
     "output_type": "stream",
     "text": [
      "\tFinished 4 steps --> Train loss = 0.013272032, Valid loss = 0.118484855, \n",
      "    Dice = 0.8404658341518171, HD = 14.560219778561036\n"
     ]
    },
    {
     "name": "stdout",
     "output_type": "stream",
     "text": [
      "Epoch #125...\n",
      "\t\n"
     ]
    },
    {
     "name": "stdout",
     "output_type": "stream",
     "text": [
      "\tFinished 4 steps --> Train loss = 0.025866851, Valid loss = 0.1308127, \n",
      "    Dice = 0.8272499303427139, HD = 6.928203230275509\n"
     ]
    },
    {
     "name": "stdout",
     "output_type": "stream",
     "text": [
      "Epoch #126...\n",
      "\t\n"
     ]
    },
    {
     "name": "stdout",
     "output_type": "stream",
     "text": [
      "\tFinished 4 steps --> Train loss = 0.033955395, Valid loss = 0.12420565, \n",
      "    Dice = 0.8425911678719803, HD = 5.477225575051661\n"
     ]
    },
    {
     "name": "stdout",
     "output_type": "stream",
     "text": [
      "Epoch #127...\n",
      "\t\n"
     ]
    },
    {
     "name": "stdout",
     "output_type": "stream",
     "text": [
      "\tFinished 4 steps --> Train loss = 0.021423683, Valid loss = 0.13204074, \n",
      "    Dice = 0.8377645143787303, HD = 14.560219778561036\n"
     ]
    },
    {
     "name": "stdout",
     "output_type": "stream",
     "text": [
      "Epoch #128...\n",
      "\t\n"
     ]
    },
    {
     "name": "stdout",
     "output_type": "stream",
     "text": [
      "\tFinished 4 steps --> Train loss = 0.023066744, Valid loss = 0.12709534, \n",
      "    Dice = 0.8301945044766903, HD = 8.366600265340756\n"
     ]
    },
    {
     "name": "stdout",
     "output_type": "stream",
     "text": [
      "Epoch #129...\n",
      "\t\n"
     ]
    },
    {
     "name": "stdout",
     "output_type": "stream",
     "text": [
      "\tFinished 4 steps --> Train loss = 0.034319803, Valid loss = 0.12897289, \n",
      "    Dice = 0.8294377763739734, HD = 6.4031242374328485\n"
     ]
    },
    {
     "name": "stdout",
     "output_type": "stream",
     "text": [
      "Epoch #130...\n",
      "\t\n"
     ]
    },
    {
     "name": "stdout",
     "output_type": "stream",
     "text": [
      "\tFinished 4 steps --> Train loss = 0.015335232, Valid loss = 0.12311262, \n",
      "    Dice = 0.8351219512195122, HD = 6.928203230275509\n"
     ]
    },
    {
     "name": "stdout",
     "output_type": "stream",
     "text": [
      "Epoch #131...\n",
      "\t\n"
     ]
    },
    {
     "name": "stdout",
     "output_type": "stream",
     "text": [
      "\tFinished 4 steps --> Train loss = 0.020479187, Valid loss = 0.11906701, \n",
      "    Dice = 0.8422933730454207, HD = 5.385164807134504\n"
     ]
    },
    {
     "name": "stdout",
     "output_type": "stream",
     "text": [
      "Epoch #132...\n",
      "\t\n"
     ]
    },
    {
     "name": "stdout",
     "output_type": "stream",
     "text": [
      "\tFinished 4 steps --> Train loss = 0.012097895, Valid loss = 0.12086815, \n",
      "    Dice = 0.8415099674819737, HD = 5.385164807134504\n"
     ]
    },
    {
     "name": "stdout",
     "output_type": "stream",
     "text": [
      "Epoch #133...\n",
      "\t\n"
     ]
    },
    {
     "name": "stdout",
     "output_type": "stream",
     "text": [
      "\tFinished 4 steps --> Train loss = 0.013134718, Valid loss = 0.116788626, \n",
      "    Dice = 0.8445756457564576, HD = 5.385164807134504\n"
     ]
    },
    {
     "name": "stdout",
     "output_type": "stream",
     "text": [
      "Epoch #134...\n",
      "\t\n"
     ]
    },
    {
     "name": "stdout",
     "output_type": "stream",
     "text": [
      "\tFinished 4 steps --> Train loss = 0.016198322, Valid loss = 0.11911434, \n",
      "    Dice = 0.8421209413166518, HD = 5.477225575051661\n"
     ]
    },
    {
     "name": "stdout",
     "output_type": "stream",
     "text": [
      "Epoch #135...\n",
      "\t\n"
     ]
    },
    {
     "name": "stdout",
     "output_type": "stream",
     "text": [
      "\tFinished 4 steps --> Train loss = 0.013008773, Valid loss = 0.122519255, \n",
      "    Dice = 0.8369188063844553, HD = 6.928203230275509\n"
     ]
    },
    {
     "name": "stdout",
     "output_type": "stream",
     "text": [
      "Epoch #136...\n",
      "\t\n"
     ]
    },
    {
     "name": "stdout",
     "output_type": "stream",
     "text": [
      "\tFinished 4 steps --> Train loss = 0.0206161, Valid loss = 0.1210686, \n",
      "    Dice = 0.8382868465172992, HD = 8.366600265340756\n"
     ]
    },
    {
     "name": "stdout",
     "output_type": "stream",
     "text": [
      "Epoch #137...\n",
      "\t\n"
     ]
    },
    {
     "name": "stdout",
     "output_type": "stream",
     "text": [
      "\tFinished 4 steps --> Train loss = 0.010099024, Valid loss = 0.118873596, \n",
      "    Dice = 0.8455497382198953, HD = 6.928203230275509\n"
     ]
    },
    {
     "name": "stdout",
     "output_type": "stream",
     "text": [
      "Epoch #138...\n",
      "\t\n"
     ]
    },
    {
     "name": "stdout",
     "output_type": "stream",
     "text": [
      "\tFinished 4 steps --> Train loss = 0.012762785, Valid loss = 0.121837795, \n",
      "    Dice = 0.8371898522442153, HD = 6.928203230275509\n"
     ]
    },
    {
     "name": "stdout",
     "output_type": "stream",
     "text": [
      "Epoch #139...\n",
      "\t\n"
     ]
    },
    {
     "name": "stdout",
     "output_type": "stream",
     "text": [
      "\tFinished 4 steps --> Train loss = 0.026310205, Valid loss = 0.124406576, \n",
      "    Dice = 0.8389189189189189, HD = 8.774964387392123\n"
     ]
    },
    {
     "name": "stdout",
     "output_type": "stream",
     "text": [
      "Epoch #140...\n",
      "\t\n"
     ]
    },
    {
     "name": "stdout",
     "output_type": "stream",
     "text": [
      "\tFinished 4 steps --> Train loss = 0.009809434, Valid loss = 0.12016934, \n",
      "    Dice = 0.8404074702886248, HD = 6.928203230275509\n"
     ]
    },
    {
     "name": "stdout",
     "output_type": "stream",
     "text": [
      "Epoch #141...\n",
      "\t\n"
     ]
    },
    {
     "name": "stdout",
     "output_type": "stream",
     "text": [
      "\tFinished 4 steps --> Train loss = 0.008752167, Valid loss = 0.11972284, \n",
      "    Dice = 0.840011448196909, HD = 6.928203230275509\n"
     ]
    },
    {
     "name": "stdout",
     "output_type": "stream",
     "text": [
      "Epoch #142...\n",
      "\t\n"
     ]
    },
    {
     "name": "stdout",
     "output_type": "stream",
     "text": [
      "\tFinished 4 steps --> Train loss = 0.028429598, Valid loss = 0.12565947, \n",
      "    Dice = 0.8362728265959107, HD = 8.774964387392123\n"
     ]
    },
    {
     "name": "stdout",
     "output_type": "stream",
     "text": [
      "Epoch #143...\n",
      "\t\n"
     ]
    },
    {
     "name": "stdout",
     "output_type": "stream",
     "text": [
      "\tFinished 4 steps --> Train loss = 0.018169269, Valid loss = 0.13090509, \n",
      "    Dice = 0.832150655021834, HD = 14.560219778561036"
     ]
    },
    {
     "name": "stdout",
     "output_type": "stream",
     "text": [
      "\n",
      "Epoch #144...\n",
      "\t\n"
     ]
    },
    {
     "name": "stdout",
     "output_type": "stream",
     "text": [
      "\tFinished 4 steps --> Train loss = 0.009967506, Valid loss = 0.120690525, \n",
      "    Dice = 0.8414776032577079, HD = 6.928203230275509\n"
     ]
    },
    {
     "name": "stdout",
     "output_type": "stream",
     "text": [
      "Epoch #145...\n",
      "\t\n"
     ]
    },
    {
     "name": "stdout",
     "output_type": "stream",
     "text": [
      "\tFinished 4 steps --> Train loss = 0.019617528, Valid loss = 0.12239742, \n",
      "    Dice = 0.8335110434120335, HD = 5.385164807134504\n"
     ]
    },
    {
     "name": "stdout",
     "output_type": "stream",
     "text": [
      "Epoch #146...\n",
      "\t\n"
     ]
    },
    {
     "name": "stdout",
     "output_type": "stream",
     "text": [
      "\tFinished 4 steps --> Train loss = 0.012300998, Valid loss = 0.12609851, \n",
      "    Dice = 0.8423417099536712, HD = 14.560219778561036\n"
     ]
    },
    {
     "name": "stdout",
     "output_type": "stream",
     "text": [
      "Epoch #147...\n",
      "\t\n"
     ]
    },
    {
     "name": "stdout",
     "output_type": "stream",
     "text": [
      "\tFinished 4 steps --> Train loss = 0.011407062, Valid loss = 0.11730713, \n",
      "    Dice = 0.8427377986223069, HD = 6.928203230275509\n"
     ]
    },
    {
     "name": "stdout",
     "output_type": "stream",
     "text": [
      "Epoch #148...\n",
      "\t\n"
     ]
    },
    {
     "name": "stdout",
     "output_type": "stream",
     "text": [
      "\tFinished 4 steps --> Train loss = 0.011675149, Valid loss = 0.12196243, \n",
      "    Dice = 0.8422745212688203, HD = 14.560219778561036\n"
     ]
    },
    {
     "name": "stdout",
     "output_type": "stream",
     "text": [
      "Epoch #149...\n",
      "\t\n"
     ]
    },
    {
     "name": "stdout",
     "output_type": "stream",
     "text": [
      "\tFinished 4 steps --> Train loss = 0.011445165, Valid loss = 0.12092817, \n",
      "    Dice = 0.8453252908229212, HD = 14.560219778561036\n"
     ]
    },
    {
     "name": "stdout",
     "output_type": "stream",
     "text": [
      "Epoch #150...\n",
      "\t\n"
     ]
    },
    {
     "name": "stdout",
     "output_type": "stream",
     "text": [
      "\tFinished 4 steps --> Train loss = 0.010597333, Valid loss = 0.11580598, \n",
      "    Dice = 0.843614248479583, HD = 5.385164807134504\n"
     ]
    },
    {
     "name": "stdout",
     "output_type": "stream",
     "text": [
      "Epoch #151...\n",
      "\t\n"
     ]
    },
    {
     "name": "stdout",
     "output_type": "stream",
     "text": [
      "\tFinished 4 steps --> Train loss = 0.009382904, Valid loss = 0.12438148, \n",
      "    Dice = 0.8419080559158381, HD = 6.928203230275509\n"
     ]
    },
    {
     "name": "stdout",
     "output_type": "stream",
     "text": [
      "Epoch #152...\n",
      "\t\n"
     ]
    },
    {
     "name": "stdout",
     "output_type": "stream",
     "text": [
      "\tFinished 4 steps --> Train loss = 0.010895476, Valid loss = 0.11441356, \n",
      "    Dice = 0.8404099560761347, HD = 6.928203230275509\n"
     ]
    },
    {
     "name": "stdout",
     "output_type": "stream",
     "text": [
      "Epoch #153...\n",
      "\t\n"
     ]
    },
    {
     "name": "stdout",
     "output_type": "stream",
     "text": [
      "\tFinished 4 steps --> Train loss = 0.009526253, Valid loss = 0.1221177, \n",
      "    Dice = 0.842396850852894, HD = 6.928203230275509\n"
     ]
    },
    {
     "name": "stdout",
     "output_type": "stream",
     "text": [
      "Epoch #154...\n",
      "\t\n"
     ]
    },
    {
     "name": "stdout",
     "output_type": "stream",
     "text": [
      "\tFinished 4 steps --> Train loss = 0.0072252154, Valid loss = 0.116835296, \n",
      "    Dice = 0.8456185200965772, HD = 6.928203230275509\n"
     ]
    },
    {
     "name": "stdout",
     "output_type": "stream",
     "text": [
      "Epoch #155...\n",
      "\t\n"
     ]
    },
    {
     "name": "stdout",
     "output_type": "stream",
     "text": [
      "\tFinished 4 steps --> Train loss = 0.0061020255, Valid loss = 0.12070751, \n",
      "    Dice = 0.8396509798312115, HD = 6.928203230275509\n"
     ]
    },
    {
     "name": "stdout",
     "output_type": "stream",
     "text": [
      "Epoch #156...\n",
      "\t\n"
     ]
    },
    {
     "name": "stdout",
     "output_type": "stream",
     "text": [
      "\tFinished 4 steps --> Train loss = 0.007420078, Valid loss = 0.118766844, \n",
      "    Dice = 0.8401454545454545, HD = 6.928203230275509\n"
     ]
    },
    {
     "name": "stdout",
     "output_type": "stream",
     "text": [
      "Epoch #157...\n",
      "\t\n"
     ]
    },
    {
     "name": "stdout",
     "output_type": "stream",
     "text": [
      "\tFinished 4 steps --> Train loss = 0.0072948933, Valid loss = 0.11828655, \n",
      "    Dice = 0.844963503649635, HD = 6.928203230275509\n"
     ]
    },
    {
     "name": "stdout",
     "output_type": "stream",
     "text": [
      "Epoch #158...\n",
      "\t\n"
     ]
    },
    {
     "name": "stdout",
     "output_type": "stream",
     "text": [
      "\tFinished 4 steps --> Train loss = 0.0069180876, Valid loss = 0.12351036, \n",
      "    Dice = 0.8370130783293489, HD = 14.560219778561036\n"
     ]
    },
    {
     "name": "stdout",
     "output_type": "stream",
     "text": [
      "Epoch #159...\n",
      "\t\n"
     ]
    },
    {
     "name": "stdout",
     "output_type": "stream",
     "text": [
      "\tFinished 4 steps --> Train loss = 0.0057229847, Valid loss = 0.11937815, \n",
      "    Dice = 0.8410491615307438, HD = 6.928203230275509\n"
     ]
    },
    {
     "name": "stdout",
     "output_type": "stream",
     "text": [
      "Epoch #160...\n",
      "\t\n"
     ]
    },
    {
     "name": "stdout",
     "output_type": "stream",
     "text": [
      "\tFinished 4 steps --> Train loss = 0.014823228, Valid loss = 0.123509824, \n",
      "    Dice = 0.8391922213911742, HD = 6.928203230275509\n"
     ]
    },
    {
     "name": "stdout",
     "output_type": "stream",
     "text": [
      "Epoch #161...\n",
      "\t\n"
     ]
    },
    {
     "name": "stdout",
     "output_type": "stream",
     "text": [
      "\tFinished 4 steps --> Train loss = 0.0066613257, Valid loss = 0.12314272, \n",
      "    Dice = 0.8391726466863656, HD = 14.560219778561036\n"
     ]
    },
    {
     "name": "stdout",
     "output_type": "stream",
     "text": [
      "Epoch #162...\n",
      "\t\n"
     ]
    },
    {
     "name": "stdout",
     "output_type": "stream",
     "text": [
      "\tFinished 4 steps --> Train loss = 0.011941671, Valid loss = 0.13054752, \n",
      "    Dice = 0.8370694368507381, HD = 14.560219778561036\n"
     ]
    },
    {
     "name": "stdout",
     "output_type": "stream",
     "text": [
      "Epoch #163...\n",
      "\t\n"
     ]
    },
    {
     "name": "stdout",
     "output_type": "stream",
     "text": [
      "\tFinished 4 steps --> Train loss = 0.022913784, Valid loss = 0.12421322, \n",
      "    Dice = 0.8391205458680819, HD = 6.928203230275509\n"
     ]
    },
    {
     "name": "stdout",
     "output_type": "stream",
     "text": [
      "Epoch #164...\n",
      "\t\n"
     ]
    },
    {
     "name": "stdout",
     "output_type": "stream",
     "text": [
      "\tFinished 4 steps --> Train loss = 0.0061261654, Valid loss = 0.12235439, \n",
      "    Dice = 0.84, HD = 14.560219778561036\n"
     ]
    },
    {
     "name": "stdout",
     "output_type": "stream",
     "text": [
      "Epoch #165...\n",
      "\t\n"
     ]
    },
    {
     "name": "stdout",
     "output_type": "stream",
     "text": [
      "\tFinished 4 steps --> Train loss = 0.007984698, Valid loss = 0.12577629, \n",
      "    Dice = 0.8403525954946132, HD = 14.560219778561036\n"
     ]
    },
    {
     "name": "stdout",
     "output_type": "stream",
     "text": [
      "Epoch #166...\n",
      "\t\n"
     ]
    },
    {
     "name": "stdout",
     "output_type": "stream",
     "text": [
      "\tFinished 4 steps --> Train loss = 0.018930152, Valid loss = 0.12319392, \n",
      "    Dice = 0.8416453216814826, HD = 6.928203230275509\n"
     ]
    },
    {
     "name": "stdout",
     "output_type": "stream",
     "text": [
      "Epoch #167...\n",
      "\t\n"
     ]
    },
    {
     "name": "stdout",
     "output_type": "stream",
     "text": [
      "\tFinished 4 steps --> Train loss = 0.011386529, Valid loss = 0.12926471, \n",
      "    Dice = 0.8322624743677375, HD = 14.560219778561036\n"
     ]
    },
    {
     "name": "stdout",
     "output_type": "stream",
     "text": [
      "Epoch #168...\n",
      "\t\n"
     ]
    },
    {
     "name": "stdout",
     "output_type": "stream",
     "text": [
      "\tFinished 4 steps --> Train loss = 0.009220645, Valid loss = 0.12285143, \n",
      "    Dice = 0.8451688009313155, HD = 14.560219778561036\n"
     ]
    },
    {
     "name": "stdout",
     "output_type": "stream",
     "text": [
      "Epoch #169...\n",
      "\t\n"
     ]
    },
    {
     "name": "stdout",
     "output_type": "stream",
     "text": [
      "\tFinished 4 steps --> Train loss = 0.012465045, Valid loss = 0.12133515, \n",
      "    Dice = 0.8421683138664271, HD = 6.928203230275509\n"
     ]
    },
    {
     "name": "stdout",
     "output_type": "stream",
     "text": [
      "Epoch #170...\n",
      "\t\n"
     ]
    },
    {
     "name": "stdout",
     "output_type": "stream",
     "text": [
      "\tFinished 4 steps --> Train loss = 0.009172142, Valid loss = 0.12890655, \n",
      "    Dice = 0.8247993357320786, HD = 14.560219778561036\n"
     ]
    },
    {
     "name": "stdout",
     "output_type": "stream",
     "text": [
      "Epoch #171...\n",
      "\t\n"
     ]
    },
    {
     "name": "stdout",
     "output_type": "stream",
     "text": [
      "\tFinished 4 steps --> Train loss = 0.009668618, Valid loss = 0.12223023, \n",
      "    Dice = 0.8459614535824629, HD = 6.928203230275509\n"
     ]
    },
    {
     "name": "stdout",
     "output_type": "stream",
     "text": [
      "Epoch #172...\n",
      "\t\n"
     ]
    },
    {
     "name": "stdout",
     "output_type": "stream",
     "text": [
      "\tFinished 4 steps --> Train loss = 0.006833717, Valid loss = 0.120485246, \n",
      "    Dice = 0.8409256294571387, HD = 7.0\n"
     ]
    },
    {
     "name": "stdout",
     "output_type": "stream",
     "text": [
      "Epoch #173...\n",
      "\t\n"
     ]
    },
    {
     "name": "stdout",
     "output_type": "stream",
     "text": [
      "\tFinished 4 steps --> Train loss = 0.006622836, Valid loss = 0.12549359, \n",
      "    Dice = 0.8348493462194428, HD = 14.560219778561036\n"
     ]
    },
    {
     "name": "stdout",
     "output_type": "stream",
     "text": [
      "Epoch #174...\n",
      "\t\n"
     ]
    },
    {
     "name": "stdout",
     "output_type": "stream",
     "text": [
      "\tFinished 4 steps --> Train loss = 0.0076097697, Valid loss = 0.12072939, \n",
      "    Dice = 0.8445543114730261, HD = 14.560219778561036\n"
     ]
    },
    {
     "name": "stdout",
     "output_type": "stream",
     "text": [
      "Epoch #175...\n",
      "\t\n"
     ]
    },
    {
     "name": "stdout",
     "output_type": "stream",
     "text": [
      "\tFinished 4 steps --> Train loss = 0.005637586, Valid loss = 0.12203759, \n",
      "    Dice = 0.8408564814814815, HD = 7.0"
     ]
    },
    {
     "name": "stdout",
     "output_type": "stream",
     "text": [
      "\n"
     ]
    },
    {
     "name": "stdout",
     "output_type": "stream",
     "text": [
      "Epoch #176...\n",
      "\t\n"
     ]
    },
    {
     "name": "stdout",
     "output_type": "stream",
     "text": [
      "\tFinished 4 steps --> Train loss = 0.0042922795, Valid loss = 0.122051954, \n",
      "    Dice = 0.8393499208974543, HD = 14.560219778561036\n"
     ]
    },
    {
     "name": "stdout",
     "output_type": "stream",
     "text": [
      "Epoch #177...\n",
      "\t\n"
     ]
    },
    {
     "name": "stdout",
     "output_type": "stream",
     "text": [
      "\tFinished 4 steps --> Train loss = 0.0062436014, Valid loss = 0.11988258, \n",
      "    Dice = 0.8441728502837189, HD = 14.560219778561036\n"
     ]
    },
    {
     "name": "stdout",
     "output_type": "stream",
     "text": [
      "Epoch #178...\n",
      "\t\n"
     ]
    },
    {
     "name": "stdout",
     "output_type": "stream",
     "text": [
      "\tFinished 4 steps --> Train loss = 0.0045516193, Valid loss = 0.12554723, \n",
      "    Dice = 0.8343454314362378, HD = 14.560219778561036\n"
     ]
    },
    {
     "name": "stdout",
     "output_type": "stream",
     "text": [
      "Epoch #179...\n",
      "\t\n"
     ]
    },
    {
     "name": "stdout",
     "output_type": "stream",
     "text": [
      "\tFinished 4 steps --> Train loss = 0.0051180273, Valid loss = 0.12016064, \n",
      "    Dice = 0.8415812591508053, HD = 14.560219778561036\n"
     ]
    },
    {
     "name": "stdout",
     "output_type": "stream",
     "text": [
      "Epoch #180...\n",
      "\t\n"
     ]
    },
    {
     "name": "stdout",
     "output_type": "stream",
     "text": [
      "\tFinished 4 steps --> Train loss = 0.0040768087, Valid loss = 0.123924375, \n",
      "    Dice = 0.8421655686049843, HD = 14.560219778561036\n"
     ]
    },
    {
     "name": "stdout",
     "output_type": "stream",
     "text": [
      "Epoch #181...\n",
      "\t\n"
     ]
    },
    {
     "name": "stdout",
     "output_type": "stream",
     "text": [
      "\tFinished 4 steps --> Train loss = 0.0041186213, Valid loss = 0.123494804, \n",
      "    Dice = 0.8385815602836879, HD = 14.560219778561036\n"
     ]
    },
    {
     "name": "stdout",
     "output_type": "stream",
     "text": [
      "Epoch #182...\n",
      "\t\n"
     ]
    },
    {
     "name": "stdout",
     "output_type": "stream",
     "text": [
      "\tFinished 4 steps --> Train loss = 0.006540969, Valid loss = 0.122923076, \n",
      "    Dice = 0.84007650434015, HD = 6.928203230275509\n"
     ]
    },
    {
     "name": "stdout",
     "output_type": "stream",
     "text": [
      "Epoch #183...\n",
      "\t\n"
     ]
    },
    {
     "name": "stdout",
     "output_type": "stream",
     "text": [
      "\tFinished 4 steps --> Train loss = 0.0038568676, Valid loss = 0.12564206, \n",
      "    Dice = 0.8385826771653543, HD = 14.560219778561036\n"
     ]
    },
    {
     "name": "stdout",
     "output_type": "stream",
     "text": [
      "Epoch #184...\n",
      "\t\n"
     ]
    },
    {
     "name": "stdout",
     "output_type": "stream",
     "text": [
      "\tFinished 4 steps --> Train loss = 0.0031778067, Valid loss = 0.12259287, \n",
      "    Dice = 0.8414968935124982, HD = 7.0\n"
     ]
    },
    {
     "name": "stdout",
     "output_type": "stream",
     "text": [
      "Epoch #185...\n",
      "\t\n"
     ]
    },
    {
     "name": "stdout",
     "output_type": "stream",
     "text": [
      "\tFinished 4 steps --> Train loss = 0.0030459017, Valid loss = 0.122814, \n",
      "    Dice = 0.8426674364896074, HD = 14.560219778561036\n"
     ]
    },
    {
     "name": "stdout",
     "output_type": "stream",
     "text": [
      "Epoch #186...\n",
      "\t\n"
     ]
    },
    {
     "name": "stdout",
     "output_type": "stream",
     "text": [
      "\tFinished 4 steps --> Train loss = 0.0027769953, Valid loss = 0.12542462, \n",
      "    Dice = 0.8377957217736224, HD = 14.560219778561036\n"
     ]
    },
    {
     "name": "stdout",
     "output_type": "stream",
     "text": [
      "Epoch #187...\n",
      "\t\n"
     ]
    },
    {
     "name": "stdout",
     "output_type": "stream",
     "text": [
      "\tFinished 4 steps --> Train loss = 0.003396362, Valid loss = 0.122002184, \n",
      "    Dice = 0.8393767292849862, HD = 6.928203230275509\n"
     ]
    },
    {
     "name": "stdout",
     "output_type": "stream",
     "text": [
      "Epoch #188...\n",
      "\t\n"
     ]
    },
    {
     "name": "stdout",
     "output_type": "stream",
     "text": [
      "\tFinished 4 steps --> Train loss = 0.0023517758, Valid loss = 0.1244849, \n",
      "    Dice = 0.8384879725085911, HD = 6.928203230275509\n"
     ]
    },
    {
     "name": "stdout",
     "output_type": "stream",
     "text": [
      "Epoch #189...\n",
      "\t\n"
     ]
    },
    {
     "name": "stdout",
     "output_type": "stream",
     "text": [
      "\tFinished 4 steps --> Train loss = 0.0022775978, Valid loss = 0.12505007, \n",
      "    Dice = 0.8389769967138163, HD = 13.341664064126334\n"
     ]
    },
    {
     "name": "stdout",
     "output_type": "stream",
     "text": [
      "Epoch #190...\n",
      "\t\n"
     ]
    },
    {
     "name": "stdout",
     "output_type": "stream",
     "text": [
      "\tFinished 4 steps --> Train loss = 0.0034032166, Valid loss = 0.12309009, \n",
      "    Dice = 0.8370737394345672, HD = 6.928203230275509\n"
     ]
    },
    {
     "name": "stdout",
     "output_type": "stream",
     "text": [
      "Epoch #191...\n",
      "\t\n"
     ]
    },
    {
     "name": "stdout",
     "output_type": "stream",
     "text": [
      "\tFinished 4 steps --> Train loss = 0.0024805516, Valid loss = 0.12627977, \n",
      "    Dice = 0.8365234651921168, HD = 13.601470508735444\n"
     ]
    },
    {
     "name": "stdout",
     "output_type": "stream",
     "text": [
      "Epoch #192...\n",
      "\t\n"
     ]
    },
    {
     "name": "stdout",
     "output_type": "stream",
     "text": [
      "\tFinished 4 steps --> Train loss = 0.0024950206, Valid loss = 0.12348819, \n",
      "    Dice = 0.8382331643736423, HD = 13.341664064126334\n"
     ]
    },
    {
     "name": "stdout",
     "output_type": "stream",
     "text": [
      "Epoch #193...\n",
      "\t\n"
     ]
    },
    {
     "name": "stdout",
     "output_type": "stream",
     "text": [
      "\tFinished 4 steps --> Train loss = 0.0022259355, Valid loss = 0.12469345, \n",
      "    Dice = 0.8394455674270863, HD = 13.341664064126334\n"
     ]
    },
    {
     "name": "stdout",
     "output_type": "stream",
     "text": [
      "Epoch #194...\n",
      "\t\n"
     ]
    },
    {
     "name": "stdout",
     "output_type": "stream",
     "text": [
      "\tFinished 4 steps --> Train loss = 0.0020692796, Valid loss = 0.12608719, \n",
      "    Dice = 0.8357954545454546, HD = 13.601470508735444\n"
     ]
    },
    {
     "name": "stdout",
     "output_type": "stream",
     "text": [
      "Epoch #195...\n",
      "\t\n"
     ]
    },
    {
     "name": "stdout",
     "output_type": "stream",
     "text": [
      "\tFinished 4 steps --> Train loss = 0.0027021617, Valid loss = 0.12319821, \n",
      "    Dice = 0.8402435488547405, HD = 13.601470508735444\n"
     ]
    },
    {
     "name": "stdout",
     "output_type": "stream",
     "text": [
      "Epoch #196...\n",
      "\t\n"
     ]
    },
    {
     "name": "stdout",
     "output_type": "stream",
     "text": [
      "\tFinished 4 steps --> Train loss = 0.0019545704, Valid loss = 0.12678927, \n",
      "    Dice = 0.8337859082463913, HD = 13.601470508735444\n"
     ]
    },
    {
     "name": "stdout",
     "output_type": "stream",
     "text": [
      "Epoch #197...\n",
      "\t\n"
     ]
    },
    {
     "name": "stdout",
     "output_type": "stream",
     "text": [
      "\tFinished 4 steps --> Train loss = 0.0020914674, Valid loss = 0.12386507, \n",
      "    Dice = 0.8384859867090436, HD = 13.341664064126334\n"
     ]
    },
    {
     "name": "stdout",
     "output_type": "stream",
     "text": [
      "Epoch #198...\n",
      "\t\n"
     ]
    },
    {
     "name": "stdout",
     "output_type": "stream",
     "text": [
      "\tFinished 4 steps --> Train loss = 0.0018177927, Valid loss = 0.12600017, \n",
      "    Dice = 0.8370963132323521, HD = 13.601470508735444\n"
     ]
    },
    {
     "name": "stdout",
     "output_type": "stream",
     "text": [
      "Epoch #199...\n",
      "\t\n"
     ]
    },
    {
     "name": "stdout",
     "output_type": "stream",
     "text": [
      "\tFinished 4 steps --> Train loss = 0.0017044842, Valid loss = 0.1260196, \n",
      "    Dice = 0.8336448598130841, HD = 13.341664064126334\n"
     ]
    },
    {
     "name": "stdout",
     "output_type": "stream",
     "text": [
      "Epoch #200...\n",
      "\t\n"
     ]
    },
    {
     "name": "stdout",
     "output_type": "stream",
     "text": [
      "\tFinished 4 steps --> Train loss = 0.0019185245, Valid loss = 0.12441212, \n",
      "    Dice = 0.8381144586997261, HD = 13.601470508735444"
     ]
    },
    {
     "name": "stdout",
     "output_type": "stream",
     "text": [
      "\n"
     ]
    },
    {
     "name": "stdout",
     "output_type": "stream",
     "text": [
      "Epoch #201...\n",
      "\t\n"
     ]
    },
    {
     "name": "stdout",
     "output_type": "stream",
     "text": [
      "\tFinished 4 steps --> Train loss = 0.0017347187, Valid loss = 0.12723923, \n",
      "    Dice = 0.8352337514253135, HD = 13.601470508735444\n"
     ]
    },
    {
     "name": "stdout",
     "output_type": "stream",
     "text": [
      "Epoch #202...\n",
      "\t\n"
     ]
    },
    {
     "name": "stdout",
     "output_type": "stream",
     "text": [
      "\tFinished 4 steps --> Train loss = 0.0021936595, Valid loss = 0.1243881, \n",
      "    Dice = 0.8379676808851361, HD = 13.341664064126334\n"
     ]
    },
    {
     "name": "stdout",
     "output_type": "stream",
     "text": [
      "Epoch #203...\n",
      "\t\n"
     ]
    },
    {
     "name": "stdout",
     "output_type": "stream",
     "text": [
      "\tFinished 4 steps --> Train loss = 0.0017273724, Valid loss = 0.12730497, \n",
      "    Dice = 0.8357234133181882, HD = 13.601470508735444\n"
     ]
    },
    {
     "name": "stdout",
     "output_type": "stream",
     "text": [
      "Epoch #204...\n",
      "\t\n"
     ]
    },
    {
     "name": "stdout",
     "output_type": "stream",
     "text": [
      "\tFinished 4 steps --> Train loss = 0.0016563982, Valid loss = 0.1256612, \n",
      "    Dice = 0.835479670091159, HD = 13.341664064126334\n"
     ]
    },
    {
     "name": "stdout",
     "output_type": "stream",
     "text": [
      "Epoch #205...\n",
      "\t\n"
     ]
    },
    {
     "name": "stdout",
     "output_type": "stream",
     "text": [
      "\tFinished 4 steps --> Train loss = 0.0015212893, Valid loss = 0.12613076, \n",
      "    Dice = 0.8361079219288174, HD = 13.601470508735444\n"
     ]
    },
    {
     "name": "stdout",
     "output_type": "stream",
     "text": [
      "Epoch #206...\n",
      "\t\n"
     ]
    },
    {
     "name": "stdout",
     "output_type": "stream",
     "text": [
      "\tFinished 4 steps --> Train loss = 0.0014585108, Valid loss = 0.12668264, \n",
      "    Dice = 0.8353126341393619, HD = 13.601470508735444\n"
     ]
    },
    {
     "name": "stdout",
     "output_type": "stream",
     "text": [
      "Epoch #207...\n",
      "\t\n"
     ]
    },
    {
     "name": "stdout",
     "output_type": "stream",
     "text": [
      "\tFinished 4 steps --> Train loss = 0.0016764551, Valid loss = 0.12567759, \n",
      "    Dice = 0.8346365479293368, HD = 13.341664064126334\n"
     ]
    },
    {
     "name": "stdout",
     "output_type": "stream",
     "text": [
      "Epoch #208...\n",
      "\t\n"
     ]
    },
    {
     "name": "stdout",
     "output_type": "stream",
     "text": [
      "\tFinished 4 steps --> Train loss = 0.0014829338, Valid loss = 0.12742126, \n",
      "    Dice = 0.8349708101950734, HD = 14.560219778561036\n"
     ]
    },
    {
     "name": "stdout",
     "output_type": "stream",
     "text": [
      "Epoch #209...\n",
      "\t\n"
     ]
    },
    {
     "name": "stdout",
     "output_type": "stream",
     "text": [
      "\tFinished 4 steps --> Train loss = 0.0016780496, Valid loss = 0.1256451, \n",
      "    Dice = 0.835820895522388, HD = 13.601470508735444\n"
     ]
    },
    {
     "name": "stdout",
     "output_type": "stream",
     "text": [
      "Epoch #210...\n",
      "\t\n"
     ]
    },
    {
     "name": "stdout",
     "output_type": "stream",
     "text": [
      "\tFinished 4 steps --> Train loss = 0.0013951659, Valid loss = 0.12744582, \n",
      "    Dice = 0.834189497716895, HD = 13.601470508735444\n"
     ]
    },
    {
     "name": "stdout",
     "output_type": "stream",
     "text": [
      "Epoch #211...\n",
      "\t\n"
     ]
    },
    {
     "name": "stdout",
     "output_type": "stream",
     "text": [
      "\tFinished 4 steps --> Train loss = 0.0014577359, Valid loss = 0.12605923, \n",
      "    Dice = 0.8356658490838262, HD = 13.601470508735444\n"
     ]
    },
    {
     "name": "stdout",
     "output_type": "stream",
     "text": [
      "Epoch #212...\n",
      "\t\n"
     ]
    },
    {
     "name": "stdout",
     "output_type": "stream",
     "text": [
      "\tFinished 4 steps --> Train loss = 0.0013053268, Valid loss = 0.12698328, \n",
      "    Dice = 0.8340022935779816, HD = 13.601470508735444\n"
     ]
    },
    {
     "name": "stdout",
     "output_type": "stream",
     "text": [
      "Epoch #213...\n",
      "\t\n"
     ]
    },
    {
     "name": "stdout",
     "output_type": "stream",
     "text": [
      "\tFinished 4 steps --> Train loss = 0.0012979805, Valid loss = 0.1267888, \n",
      "    Dice = 0.8346026727978157, HD = 13.601470508735444\n"
     ]
    },
    {
     "name": "stdout",
     "output_type": "stream",
     "text": [
      "Epoch #214...\n",
      "\t\n"
     ]
    },
    {
     "name": "stdout",
     "output_type": "stream",
     "text": [
      "\tFinished 4 steps --> Train loss = 0.001286, Valid loss = 0.12665492, \n",
      "    Dice = 0.8348676639815881, HD = 13.601470508735444\n"
     ]
    },
    {
     "name": "stdout",
     "output_type": "stream",
     "text": [
      "Epoch #215...\n",
      "\t\n"
     ]
    },
    {
     "name": "stdout",
     "output_type": "stream",
     "text": [
      "\tFinished 4 steps --> Train loss = 0.0012237877, Valid loss = 0.12732106, \n",
      "    Dice = 0.8335243553008596, HD = 13.601470508735444\n"
     ]
    },
    {
     "name": "stdout",
     "output_type": "stream",
     "text": [
      "Epoch #216...\n",
      "\t\n"
     ]
    },
    {
     "name": "stdout",
     "output_type": "stream",
     "text": [
      "\tFinished 4 steps --> Train loss = 0.0012855977, Valid loss = 0.12664407, \n",
      "    Dice = 0.8349178910976663, HD = 13.601470508735444\n"
     ]
    },
    {
     "name": "stdout",
     "output_type": "stream",
     "text": [
      "Epoch #217...\n",
      "\t\n"
     ]
    },
    {
     "name": "stdout",
     "output_type": "stream",
     "text": [
      "\tFinished 4 steps --> Train loss = 0.0011907667, Valid loss = 0.12758285, \n",
      "    Dice = 0.833357173508797, HD = 13.601470508735444\n"
     ]
    },
    {
     "name": "stdout",
     "output_type": "stream",
     "text": [
      "Epoch #218...\n",
      "\t\n"
     ]
    },
    {
     "name": "stdout",
     "output_type": "stream",
     "text": [
      "\tFinished 4 steps --> Train loss = 0.0012464076, Valid loss = 0.1268512, \n",
      "    Dice = 0.8342939481268011, HD = 13.601470508735444\n"
     ]
    },
    {
     "name": "stdout",
     "output_type": "stream",
     "text": [
      "Epoch #219...\n",
      "\t\n"
     ]
    },
    {
     "name": "stdout",
     "output_type": "stream",
     "text": [
      "\tFinished 4 steps --> Train loss = 0.0011552125, Valid loss = 0.12755418, \n",
      "    Dice = 0.8336914482165879, HD = 13.601470508735444\n"
     ]
    },
    {
     "name": "stdout",
     "output_type": "stream",
     "text": [
      "Epoch #220...\n",
      "\t\n"
     ]
    },
    {
     "name": "stdout",
     "output_type": "stream",
     "text": [
      "\tFinished 4 steps --> Train loss = 0.0011779517, Valid loss = 0.12717599, \n",
      "    Dice = 0.8342446043165468, HD = 13.601470508735444\n"
     ]
    },
    {
     "name": "stdout",
     "output_type": "stream",
     "text": [
      "Epoch #221...\n",
      "\t\n"
     ]
    },
    {
     "name": "stdout",
     "output_type": "stream",
     "text": [
      "\tFinished 4 steps --> Train loss = 0.001121074, Valid loss = 0.1274488, \n",
      "    Dice = 0.8335483870967741, HD = 13.601470508735444\n"
     ]
    },
    {
     "name": "stdout",
     "output_type": "stream",
     "text": [
      "Epoch #222...\n",
      "\t\n"
     ]
    },
    {
     "name": "stdout",
     "output_type": "stream",
     "text": [
      "\tFinished 4 steps --> Train loss = 0.0011167079, Valid loss = 0.12741172, \n",
      "    Dice = 0.8336926836280005, HD = 13.601470508735444\n"
     ]
    },
    {
     "name": "stdout",
     "output_type": "stream",
     "text": [
      "Epoch #223...\n",
      "\t\n"
     ]
    },
    {
     "name": "stdout",
     "output_type": "stream",
     "text": [
      "\tFinished 4 steps --> Train loss = 0.0010958314, Valid loss = 0.12741464, \n",
      "    Dice = 0.8337882488148255, HD = 13.601470508735444\n"
     ]
    },
    {
     "name": "stdout",
     "output_type": "stream",
     "text": [
      "Epoch #224...\n",
      "\t\n"
     ]
    },
    {
     "name": "stdout",
     "output_type": "stream",
     "text": [
      "\tFinished 4 steps --> Train loss = 0.0010706037, Valid loss = 0.1276114, \n",
      "    Dice = 0.8335965541995692, HD = 13.601470508735444\n"
     ]
    },
    {
     "name": "stdout",
     "output_type": "stream",
     "text": [
      "Epoch #225...\n",
      "\t\n"
     ]
    },
    {
     "name": "stdout",
     "output_type": "stream",
     "text": [
      "\tFinished 4 steps --> Train loss = 0.0010739863, Valid loss = 0.1274383, \n",
      "    Dice = 0.8332854268467951, HD = 13.601470508735444\n"
     ]
    },
    {
     "name": "stdout",
     "output_type": "stream",
     "text": [
      "Epoch #226...\n",
      "\t\n"
     ]
    },
    {
     "name": "stdout",
     "output_type": "stream",
     "text": [
      "\tFinished 4 steps --> Train loss = 0.0010417104, Valid loss = 0.12765098, \n",
      "    Dice = 0.8336443232381225, HD = 13.601470508735444\n"
     ]
    },
    {
     "name": "stdout",
     "output_type": "stream",
     "text": [
      "Epoch #227...\n",
      "\t\n"
     ]
    },
    {
     "name": "stdout",
     "output_type": "stream",
     "text": [
      "\tFinished 4 steps --> Train loss = 0.0010448098, Valid loss = 0.12753266, \n",
      "    Dice = 0.8332854268467951, HD = 13.601470508735444\n"
     ]
    },
    {
     "name": "stdout",
     "output_type": "stream",
     "text": [
      "Epoch #228...\n",
      "\t\n"
     ]
    },
    {
     "name": "stdout",
     "output_type": "stream",
     "text": [
      "\tFinished 4 steps --> Train loss = 0.0010141283, Valid loss = 0.12773246, \n",
      "    Dice = 0.8335246842709529, HD = 13.601470508735444\n"
     ]
    },
    {
     "name": "stdout",
     "output_type": "stream",
     "text": [
      "Epoch #229...\n",
      "\t\n"
     ]
    },
    {
     "name": "stdout",
     "output_type": "stream",
     "text": [
      "\tFinished 4 steps --> Train loss = 0.0010113269, Valid loss = 0.1277132, \n",
      "    Dice = 0.833117723156533, HD = 13.601470508735444\n"
     ]
    },
    {
     "name": "stdout",
     "output_type": "stream",
     "text": [
      "Epoch #230...\n",
      "\t\n"
     ]
    },
    {
     "name": "stdout",
     "output_type": "stream",
     "text": [
      "\tFinished 4 steps --> Train loss = 0.0009910166, Valid loss = 0.12785679, \n",
      "    Dice = 0.8329985652797705, HD = 13.601470508735444\n"
     ]
    },
    {
     "name": "stdout",
     "output_type": "stream",
     "text": [
      "Epoch #231...\n",
      "\t\n"
     ]
    },
    {
     "name": "stdout",
     "output_type": "stream",
     "text": [
      "\tFinished 4 steps --> Train loss = 0.0009818375, Valid loss = 0.12786788, \n",
      "    Dice = 0.8326870601752119, HD = 13.601470508735444\n"
     ]
    },
    {
     "name": "stdout",
     "output_type": "stream",
     "text": [
      "Epoch #232...\n",
      "\t\n"
     ]
    },
    {
     "name": "stdout",
     "output_type": "stream",
     "text": [
      "\tFinished 4 steps --> Train loss = 0.00097090006, Valid loss = 0.12787682, \n",
      "    Dice = 0.8322089852160184, HD = 13.601470508735444\n"
     ]
    },
    {
     "name": "stdout",
     "output_type": "stream",
     "text": [
      "Epoch #233...\n",
      "\t\n"
     ]
    },
    {
     "name": "stdout",
     "output_type": "stream",
     "text": [
      "\tFinished 4 steps --> Train loss = 0.0009562373, Valid loss = 0.1279558, \n",
      "    Dice = 0.8323765786452354, HD = 13.601470508735444\n"
     ]
    },
    {
     "name": "stdout",
     "output_type": "stream",
     "text": [
      "Epoch #234...\n",
      "\t\n"
     ]
    },
    {
     "name": "stdout",
     "output_type": "stream",
     "text": [
      "\tFinished 4 steps --> Train loss = 0.0009485483, Valid loss = 0.12791103, \n",
      "    Dice = 0.8319219176115975, HD = 13.601470508735444\n"
     ]
    },
    {
     "name": "stdout",
     "output_type": "stream",
     "text": [
      "Epoch #235...\n",
      "\t\n"
     ]
    },
    {
     "name": "stdout",
     "output_type": "stream",
     "text": [
      "\tFinished 4 steps --> Train loss = 0.00093238056, Valid loss = 0.1280359, \n",
      "    Dice = 0.8321377331420373, HD = 13.601470508735444\n"
     ]
    },
    {
     "name": "stdout",
     "output_type": "stream",
     "text": [
      "Epoch #236...\n",
      "\t\n"
     ]
    },
    {
     "name": "stdout",
     "output_type": "stream",
     "text": [
      "\tFinished 4 steps --> Train loss = 0.0009256005, Valid loss = 0.12802428, \n",
      "    Dice = 0.8319219176115975, HD = 13.601470508735444\n"
     ]
    },
    {
     "name": "stdout",
     "output_type": "stream",
     "text": [
      "Epoch #237...\n",
      "\t\n"
     ]
    },
    {
     "name": "stdout",
     "output_type": "stream",
     "text": [
      "\tFinished 4 steps --> Train loss = 0.0009111017, Valid loss = 0.12808669, \n",
      "    Dice = 0.831731458901162, HD = 13.601470508735444\n"
     ]
    },
    {
     "name": "stdout",
     "output_type": "stream",
     "text": [
      "Epoch #238...\n",
      "\t\n"
     ]
    },
    {
     "name": "stdout",
     "output_type": "stream",
     "text": [
      "\tFinished 4 steps --> Train loss = 0.00090397894, Valid loss = 0.12808281, \n",
      "    Dice = 0.832089552238806, HD = 13.601470508735444\n"
     ]
    },
    {
     "name": "stdout",
     "output_type": "stream",
     "text": [
      "Epoch #239...\n",
      "\t\n"
     ]
    },
    {
     "name": "stdout",
     "output_type": "stream",
     "text": [
      "\tFinished 4 steps --> Train loss = 0.0008903444, Valid loss = 0.12811577, \n",
      "    Dice = 0.831779721784024, HD = 13.601470508735444\n"
     ]
    },
    {
     "name": "stdout",
     "output_type": "stream",
     "text": [
      "Epoch #240...\n",
      "\t\n"
     ]
    },
    {
     "name": "stdout",
     "output_type": "stream",
     "text": [
      "\tFinished 4 steps --> Train loss = 0.0008804202, Valid loss = 0.1281687, \n",
      "    Dice = 0.8320183617845359, HD = 13.601470508735444\n"
     ]
    },
    {
     "name": "stdout",
     "output_type": "stream",
     "text": [
      "Epoch #241...\n",
      "\t\n"
     ]
    },
    {
     "name": "stdout",
     "output_type": "stream",
     "text": [
      "\tFinished 4 steps --> Train loss = 0.0008700788, Valid loss = 0.12820512, \n",
      "    Dice = 0.8316831683168316, HD = 13.601470508735444\n"
     ]
    },
    {
     "name": "stdout",
     "output_type": "stream",
     "text": [
      "Epoch #242...\n",
      "\t\n"
     ]
    },
    {
     "name": "stdout",
     "output_type": "stream",
     "text": [
      "\tFinished 4 steps --> Train loss = 0.00085780025, Valid loss = 0.12824774, \n",
      "    Dice = 0.8316831683168316, HD = 13.601470508735444\n"
     ]
    },
    {
     "name": "stdout",
     "output_type": "stream",
     "text": [
      "Epoch #243...\n",
      "\t\n"
     ]
    },
    {
     "name": "stdout",
     "output_type": "stream",
     "text": [
      "\tFinished 4 steps --> Train loss = 0.0008491576, Valid loss = 0.1282562, \n",
      "    Dice = 0.8316831683168316, HD = 13.601470508735444\n"
     ]
    },
    {
     "name": "stdout",
     "output_type": "stream",
     "text": [
      "Epoch #244...\n",
      "\t\n"
     ]
    },
    {
     "name": "stdout",
     "output_type": "stream",
     "text": [
      "\tFinished 4 steps --> Train loss = 0.00083716214, Valid loss = 0.1283412, \n",
      "    Dice = 0.8320183617845359, HD = 13.601470508735444\n"
     ]
    },
    {
     "name": "stdout",
     "output_type": "stream",
     "text": [
      "Epoch #245...\n",
      "\t\n"
     ]
    },
    {
     "name": "stdout",
     "output_type": "stream",
     "text": [
      "\tFinished 4 steps --> Train loss = 0.0008300245, Valid loss = 0.1283741, \n",
      "    Dice = 0.8316831683168316, HD = 13.601470508735444\n"
     ]
    },
    {
     "name": "stdout",
     "output_type": "stream",
     "text": [
      "Epoch #246...\n",
      "\t\n"
     ]
    },
    {
     "name": "stdout",
     "output_type": "stream",
     "text": [
      "\tFinished 4 steps --> Train loss = 0.0008177906, Valid loss = 0.12847197, \n",
      "    Dice = 0.8315638450502152, HD = 13.601470508735444\n"
     ]
    },
    {
     "name": "stdout",
     "output_type": "stream",
     "text": [
      "Epoch #247...\n",
      "\t\n"
     ]
    },
    {
     "name": "stdout",
     "output_type": "stream",
     "text": [
      "\tFinished 4 steps --> Train loss = 0.00080887973, Valid loss = 0.12850577, \n",
      "    Dice = 0.8312769010043042, HD = 13.601470508735444\n"
     ]
    },
    {
     "name": "stdout",
     "output_type": "stream",
     "text": [
      "Epoch #248...\n",
      "\t\n"
     ]
    },
    {
     "name": "stdout",
     "output_type": "stream",
     "text": [
      "\tFinished 4 steps --> Train loss = 0.00079894066, Valid loss = 0.12859881, \n",
      "    Dice = 0.8312769010043042, HD = 13.601470508735444\n"
     ]
    },
    {
     "name": "stdout",
     "output_type": "stream",
     "text": [
      "Epoch #249...\n",
      "\t\n"
     ]
    },
    {
     "name": "stdout",
     "output_type": "stream",
     "text": [
      "\tFinished 4 steps --> Train loss = 0.00078994036, Valid loss = 0.1286329, \n",
      "    Dice = 0.831157653134414, HD = 13.601470508735444\n"
     ]
    },
    {
     "name": "stdout",
     "output_type": "stream",
     "text": [
      "Epoch #250...\n",
      "\t\n"
     ]
    },
    {
     "name": "stdout",
     "output_type": "stream",
     "text": [
      "\tFinished 4 steps --> Train loss = 0.0007827282, Valid loss = 0.12867856, \n",
      "    Dice = 0.8313253012048193, HD = 13.601470508735444"
     ]
    },
    {
     "name": "stdout",
     "output_type": "stream",
     "text": [
      "\n"
     ]
    }
   ],
   "source": [
    "num_epochs_dice = 250\n",
    "epoch_times_dice = []\n",
    "step_times_dice = []\n",
    "epoch_train_losses_dice = []\n",
    "epoch_valid_losses_dice = []\n",
    "train_dice_metric_epoch_dice = []\n",
    "valid_dice_metric_epoch_dice = []\n",
    "train_hd_metric_epoch_dice = []\n",
    "valid_hd_metric_epoch_dice = []\n",
    "all_dice_metric_epoch_dice = []\n",
    "all_hd_metric_epoch_dice = []\n",
    "model1 = unet3D_new(1, 2) |> gpu\n",
    "model_ps = Flux.params(model1)\n",
    "optimizer = Adam() \n",
    "for epoch_idx = 1:num_epochs_dice\n",
    "    curr_time_epoch, curr_times_step, curr_train_losses, curr_valid_losses, curr_train_dice, curr_train_hd, curr_all_dice, \n",
    "    curr_valid_dice, curr_valid_hd, curr_all_hd = train_1_epoch_with_DICE!(epoch_idx, model1, model_ps, traindl, validdl, optimizer)\n",
    "    # Record data\n",
    "    push!(epoch_times_dice, curr_time_epoch)\n",
    "    for i in curr_times_step\n",
    "        push!(step_times_dice, i)\n",
    "    end\n",
    "    push!(epoch_train_losses_dice, curr_train_losses)\n",
    "    push!(epoch_valid_losses_dice, curr_valid_losses)\n",
    "    push!(train_dice_metric_epoch_dice, curr_train_dice)\n",
    "    push!(valid_dice_metric_epoch_dice, curr_valid_dice)\n",
    "    push!(train_hd_metric_epoch_dice, curr_train_hd)\n",
    "    push!(valid_hd_metric_epoch_dice, curr_valid_hd)\n",
    "    push!(all_dice_metric_epoch_dice, curr_all_dice)\n",
    "    push!(all_hd_metric_epoch_dice, curr_all_hd)\n",
    "    if epoch_idx % 25 == 0\n",
    "        #save model\n",
    "        savetaskmodel(string(\"savedmodels/Dice_\", epoch_idx, \".jld2\"), task, model1, force = true) # saving as cpu model\n",
    "    end\n",
    "end"
   ]
  },
  {
   "attachments": {},
   "cell_type": "markdown",
   "metadata": {},
   "source": [
    "## Inspect results"
   ]
  },
  {
   "cell_type": "code",
   "execution_count": 54,
   "metadata": {},
   "outputs": [],
   "source": [
    "# model_trained = learner1.model\n",
    "model_trained = model1\n",
    "(example1, ) = validdl\n",
    "img_mask, mask_dtm = example1\n",
    "x1, y1 = img_mask[1], img_mask[2] |> cpu\n",
    "y_pred1 = model_trained(x1) |> cpu\n",
    "chan_idx = 5;"
   ]
  },
  {
   "cell_type": "code",
   "execution_count": 55,
   "metadata": {},
   "outputs": [
    {
     "data": {
      "image/png": "[encoded data removed]",
      "text/plain": [
       "Scene (800px, 600px):\n",
       "  0 Plots\n",
       "  1 Child Scene:\n",
       "    └ Scene (800px, 600px)"
      ]
     },
     "metadata": {},
     "output_type": "display_data"
    }
   ],
   "source": [
    "CairoMakie.heatmap(y1[43,:,:,1,1])"
   ]
  },
  {
   "cell_type": "code",
   "execution_count": 56,
   "metadata": {},
   "outputs": [
    {
     "data": {
      "image/png": "[encoded data removed]",
      "text/plain": [
       "Scene (800px, 600px):\n",
       "  0 Plots\n",
       "  1 Child Scene:\n",
       "    └ Scene (800px, 600px)"
      ]
     },
     "metadata": {},
     "output_type": "display_data"
    }
   ],
   "source": [
    "CairoMakie.heatmap(y_pred1[43,:,:,2,1])"
   ]
  },
  {
   "attachments": {},
   "cell_type": "markdown",
   "metadata": {},
   "source": [
    "## Load saved model from disk"
   ]
  },
  {
   "cell_type": "code",
   "execution_count": 29,
   "metadata": {},
   "outputs": [],
   "source": [
    "task_from_disk, model_from_disk = loadtaskmodel(\"savedmodels/Dice_25.jld2\");"
   ]
  },
  {
   "attachments": {},
   "cell_type": "markdown",
   "metadata": {},
   "source": [
    "## Inspect results"
   ]
  },
  {
   "cell_type": "code",
   "execution_count": 53,
   "metadata": {},
   "outputs": [
    {
     "ename": "UndefVarError",
     "evalue": "UndefVarError: model_from_disk not defined",
     "output_type": "error",
     "traceback": [
      "UndefVarError: model_from_disk not defined\n",
      "\n",
      "Stacktrace:\n",
      " [1] top-level scope\n",
      "   @ c:\\Users\\wenbl13\\Desktop\\Wenbo_Timing\\train_loop_julia.ipynb:1"
     ]
    }
   ],
   "source": [
    "model_trained = model_from_disk |> gpu\n",
    "(example1, ) = validdl\n",
    "img_mask, mask_dtm = example1\n",
    "x1, y1 = img_mask[1], img_mask[2] |> cpu\n",
    "y_pred1 = model_trained(x1) |> cpu\n",
    "chan_idx = 5;"
   ]
  },
  {
   "cell_type": "code",
   "execution_count": 31,
   "metadata": {},
   "outputs": [
    {
     "data": {
      "image/png": "[encoded data removed]",
      "text/plain": [
       "Scene (800px, 600px):\n",
       "  0 Plots\n",
       "  1 Child Scene:\n",
       "    └ Scene (800px, 600px)"
      ]
     },
     "metadata": {},
     "output_type": "display_data"
    }
   ],
   "source": [
    "CairoMakie.heatmap(y1[43,:,:,1,1])"
   ]
  },
  {
   "cell_type": "code",
   "execution_count": 32,
   "metadata": {},
   "outputs": [
    {
     "data": {
      "image/png": "[encoded data removed]",
      "text/plain": [
       "Scene (800px, 600px):\n",
       "  0 Plots\n",
       "  1 Child Scene:\n",
       "    └ Scene (800px, 600px)"
      ]
     },
     "metadata": {},
     "output_type": "display_data"
    }
   ],
   "source": [
    "CairoMakie.heatmap(y_pred1[43,:,:,2,1])"
   ]
  },
  {
   "attachments": {},
   "cell_type": "markdown",
   "metadata": {},
   "source": [
    "# Train, Loss = Dice+HD"
   ]
  },
  {
   "cell_type": "code",
   "execution_count": 51,
   "metadata": {},
   "outputs": [
    {
     "name": "stdout",
     "output_type": "stream",
     "text": [
      "Epoch #1..."
     ]
    },
    {
     "name": "stdout",
     "output_type": "stream",
     "text": [
      "\n"
     ]
    },
    {
     "name": "stdout",
     "output_type": "stream",
     "text": [
      "\tFinished 4 steps --> Train loss = 1.2868733, Valid loss = 1.2935271\n"
     ]
    },
    {
     "name": "stdout",
     "output_type": "stream",
     "text": [
      "Epoch #2...\n"
     ]
    },
    {
     "name": "stdout",
     "output_type": "stream",
     "text": [
      "\tFinished 4 steps --> Train loss = 1.3732244, Valid loss = 1.3819201\n"
     ]
    },
    {
     "name": "stdout",
     "output_type": "stream",
     "text": [
      "Epoch #3...\n"
     ]
    },
    {
     "name": "stdout",
     "output_type": "stream",
     "text": [
      "\tFinished 4 steps --> Train loss = 1.3065536, Valid loss = 1.3104681\n"
     ]
    },
    {
     "name": "stdout",
     "output_type": "stream",
     "text": [
      "Epoch #4...\n"
     ]
    },
    {
     "name": "stdout",
     "output_type": "stream",
     "text": [
      "\tFinished 4 steps --> Train loss = 1.1033342, Valid loss = 1.1080294\n"
     ]
    },
    {
     "name": "stdout",
     "output_type": "stream",
     "text": [
      "Epoch #5...\n"
     ]
    },
    {
     "name": "stdout",
     "output_type": "stream",
     "text": [
      "\tFinished 4 steps --> Train loss = 0.7727181, Valid loss = 0.7725904\n"
     ]
    },
    {
     "name": "stdout",
     "output_type": "stream",
     "text": [
      "Epoch #6...\n"
     ]
    },
    {
     "name": "stdout",
     "output_type": "stream",
     "text": [
      "\tFinished 4 steps --> Train loss = 0.468644, Valid loss = 0.46272948\n"
     ]
    },
    {
     "name": "stdout",
     "output_type": "stream",
     "text": [
      "Epoch #7...\n"
     ]
    },
    {
     "name": "stdout",
     "output_type": "stream",
     "text": [
      "\tFinished 4 steps --> Train loss = 0.38132516, Valid loss = 0.37080112\n"
     ]
    },
    {
     "name": "stdout",
     "output_type": "stream",
     "text": [
      "Epoch #8...\n"
     ]
    },
    {
     "name": "stdout",
     "output_type": "stream",
     "text": [
      "\tFinished 4 steps --> Train loss = 0.25890604, Valid loss = 0.22381021\n"
     ]
    },
    {
     "name": "stdout",
     "output_type": "stream",
     "text": [
      "Epoch #9...\n"
     ]
    },
    {
     "name": "stdout",
     "output_type": "stream",
     "text": [
      "\tFinished 4 steps --> Train loss = 0.43340802, Valid loss = 0.3855308\n"
     ]
    },
    {
     "name": "stdout",
     "output_type": "stream",
     "text": [
      "Epoch #10...\n"
     ]
    },
    {
     "name": "stdout",
     "output_type": "stream",
     "text": [
      "\tFinished 4 steps --> Train loss = 0.21050546, Valid loss = 0.21145721\n"
     ]
    },
    {
     "name": "stdout",
     "output_type": "stream",
     "text": [
      "Epoch #11...\n"
     ]
    },
    {
     "name": "stdout",
     "output_type": "stream",
     "text": [
      "\tFinished 4 steps --> Train loss = 0.1928979, Valid loss = 0.17806037\n"
     ]
    },
    {
     "name": "stdout",
     "output_type": "stream",
     "text": [
      "Epoch #12..."
     ]
    },
    {
     "name": "stdout",
     "output_type": "stream",
     "text": [
      "\n"
     ]
    },
    {
     "name": "stdout",
     "output_type": "stream",
     "text": [
      "\tFinished 4 steps --> Train loss = 0.32455605, Valid loss = 0.2917272\n"
     ]
    },
    {
     "name": "stdout",
     "output_type": "stream",
     "text": [
      "Epoch #13...\n"
     ]
    },
    {
     "name": "stdout",
     "output_type": "stream",
     "text": [
      "\tFinished 4 steps --> Train loss = 0.1754393, Valid loss = 0.16735254\n"
     ]
    },
    {
     "name": "stdout",
     "output_type": "stream",
     "text": [
      "Epoch #14...\n"
     ]
    },
    {
     "name": "stdout",
     "output_type": "stream",
     "text": [
      "\tFinished 4 steps --> Train loss = 0.14201784, Valid loss = 0.1659755\n"
     ]
    },
    {
     "name": "stdout",
     "output_type": "stream",
     "text": [
      "Epoch #15...\n"
     ]
    },
    {
     "name": "stdout",
     "output_type": "stream",
     "text": [
      "\tFinished 4 steps --> Train loss = 0.150755, Valid loss = 0.15685336\n"
     ]
    },
    {
     "name": "stdout",
     "output_type": "stream",
     "text": [
      "Epoch #16...\n"
     ]
    },
    {
     "name": "stdout",
     "output_type": "stream",
     "text": [
      "\tFinished 4 steps --> Train loss = 0.17572263, Valid loss = 0.15714069\n"
     ]
    },
    {
     "name": "stdout",
     "output_type": "stream",
     "text": [
      "Epoch #17...\n"
     ]
    },
    {
     "name": "stdout",
     "output_type": "stream",
     "text": [
      "\tFinished 4 steps --> Train loss = 0.16816211, Valid loss = 0.19246492\n"
     ]
    },
    {
     "name": "stdout",
     "output_type": "stream",
     "text": [
      "Epoch #18...\n"
     ]
    },
    {
     "name": "stdout",
     "output_type": "stream",
     "text": [
      "\tFinished 4 steps --> Train loss = 0.12669815, Valid loss = 0.14816305\n"
     ]
    },
    {
     "name": "stdout",
     "output_type": "stream",
     "text": [
      "Epoch #19...\n"
     ]
    },
    {
     "name": "stdout",
     "output_type": "stream",
     "text": [
      "\tFinished 4 steps --> Train loss = 0.11986314, Valid loss = 0.1463253\n"
     ]
    },
    {
     "name": "stdout",
     "output_type": "stream",
     "text": [
      "Epoch #20...\n"
     ]
    },
    {
     "name": "stdout",
     "output_type": "stream",
     "text": [
      "\tFinished 4 steps --> Train loss = 0.18747976, Valid loss = 0.21723318\n"
     ]
    },
    {
     "name": "stdout",
     "output_type": "stream",
     "text": [
      "Epoch #21...\n"
     ]
    },
    {
     "name": "stdout",
     "output_type": "stream",
     "text": [
      "\tFinished 4 steps --> Train loss = 0.11575134, Valid loss = 0.13410172\n"
     ]
    },
    {
     "name": "stdout",
     "output_type": "stream",
     "text": [
      "Epoch #22...\n"
     ]
    },
    {
     "name": "stdout",
     "output_type": "stream",
     "text": [
      "\tFinished 4 steps --> Train loss = 0.10105769, Valid loss = 0.14456268\n"
     ]
    },
    {
     "name": "stdout",
     "output_type": "stream",
     "text": [
      "Epoch #23...\n"
     ]
    },
    {
     "name": "stdout",
     "output_type": "stream",
     "text": [
      "\tFinished 4 steps --> Train loss = 0.099450774, Valid loss = 0.13162173\n"
     ]
    },
    {
     "name": "stdout",
     "output_type": "stream",
     "text": [
      "Epoch #24...\n"
     ]
    },
    {
     "name": "stdout",
     "output_type": "stream",
     "text": [
      "\tFinished 4 steps --> Train loss = 0.11686067, Valid loss = 0.13736533\n"
     ]
    },
    {
     "name": "stdout",
     "output_type": "stream",
     "text": [
      "Epoch #25...\n"
     ]
    },
    {
     "name": "stdout",
     "output_type": "stream",
     "text": [
      "\tFinished 4 steps --> Train loss = 0.09002989, Valid loss = 0.14007436\n"
     ]
    },
    {
     "name": "stdout",
     "output_type": "stream",
     "text": [
      "Epoch #26...\n"
     ]
    },
    {
     "name": "stdout",
     "output_type": "stream",
     "text": [
      "\tFinished 4 steps --> Train loss = 0.0914336, Valid loss = 0.13578552\n"
     ]
    },
    {
     "name": "stdout",
     "output_type": "stream",
     "text": [
      "Epoch #27...\n"
     ]
    },
    {
     "name": "stdout",
     "output_type": "stream",
     "text": [
      "\tFinished 4 steps --> Train loss = 0.094357096, Valid loss = 0.13011847\n"
     ]
    },
    {
     "name": "stdout",
     "output_type": "stream",
     "text": [
      "Epoch #28...\n"
     ]
    },
    {
     "name": "stdout",
     "output_type": "stream",
     "text": [
      "\tFinished 4 steps --> Train loss = 0.09146415, Valid loss = 0.13517076\n"
     ]
    },
    {
     "name": "stdout",
     "output_type": "stream",
     "text": [
      "Epoch #29...\n"
     ]
    },
    {
     "name": "stdout",
     "output_type": "stream",
     "text": [
      "\tFinished 4 steps --> Train loss = 0.08092147, Valid loss = 0.1435406\n"
     ]
    },
    {
     "name": "stdout",
     "output_type": "stream",
     "text": [
      "Epoch #30...\n"
     ]
    },
    {
     "name": "stdout",
     "output_type": "stream",
     "text": [
      "\tFinished 4 steps --> Train loss = 0.0865058, Valid loss = 0.1274826\n"
     ]
    }
   ],
   "source": [
    "num_epochs_dice_hd = 30\n",
    "epoch_times_dice_hd = []\n",
    "step_times_dice_hd = []\n",
    "epoch_train_losses_dice_hd = []\n",
    "epoch_valid_losses_dice_hd = []\n",
    "train_dice_metric_epoch_dice_hd = []\n",
    "valid_dice_metric_epoch_dice_hd = []\n",
    "train_hd_metric_epoch_dice_hd = []\n",
    "valid_hd_metric_epoch_dice_hd = []\n",
    "all_dice_metric_epoch_dice_hd = []\n",
    "all_hd_metric_epoch_dice_hd = []\n",
    "model2 = unet3D_new(1, 2) |> gpu\n",
    "model_ps2 = Flux.params(model2)\n",
    "optimizer = Adam(0.001) \n",
    "for epoch_idx = 1:num_epochs_dice_hd\n",
    "    # curr_time_epoch, curr_times_step, curr_train_losses, curr_valid_losses, curr_train_dice, curr_train_hd, curr_all_dice, \n",
    "    # curr_valid_dice, curr_valid_hd, curr_all_hd = train_1_epoch_with_DICE_and_HD!(epoch_idx, model2, model_ps2, traindl, validdl, optimizer)\n",
    "    curr_time_epoch, curr_times_step, curr_train_losses, curr_valid_losses =\n",
    "    train_1_epoch_with_DICE_and_HD!(epoch_idx, model2, model_ps2, traindl, validdl, optimizer)\n",
    "    \n",
    "    # Record data\n",
    "    push!(epoch_times_dice_hd, curr_time_epoch)\n",
    "    for i in curr_times_step\n",
    "        push!(step_times_dice_hd, i)\n",
    "    end\n",
    "    push!(epoch_train_losses_dice_hd, curr_train_losses)\n",
    "    push!(epoch_valid_losses_dice_hd, curr_valid_losses)\n",
    "    # push!(train_dice_metric_epoch_dice_hd, curr_train_dice)\n",
    "    # push!(valid_dice_metric_epoch_dice_hd, curr_valid_dice)\n",
    "    # push!(train_hd_metric_epoch_dice_hd, curr_train_hd)\n",
    "    # push!(valid_hd_metric_epoch_dice_hd, curr_valid_hd)\n",
    "    # push!(all_dice_metric_epoch_dice_hd, curr_all_dice)\n",
    "    # push!(all_hd_metric_epoch_dice_hd, curr_all_hd)\n",
    "    # if epoch_idx % 25 == 0\n",
    "    #     #save model\n",
    "    #     savetaskmodel(string(\"savedmodels/Dice_HD_\", epoch_idx, \".jld2\"), task, model2, force = true) # saving as cpu model\n",
    "    # end\n",
    "end"
   ]
  },
  {
   "cell_type": "code",
   "execution_count": 56,
   "metadata": {},
   "outputs": [
    {
     "name": "stdout",
     "output_type": "stream",
     "text": [
      "Epoch #31...\n"
     ]
    },
    {
     "name": "stdout",
     "output_type": "stream",
     "text": [
      "\tFinished 4 steps --> Train loss = 0.078799255, Valid loss = 0.11661805\n"
     ]
    },
    {
     "name": "stdout",
     "output_type": "stream",
     "text": [
      "Epoch #32..."
     ]
    },
    {
     "name": "stdout",
     "output_type": "stream",
     "text": [
      "\n"
     ]
    },
    {
     "name": "stdout",
     "output_type": "stream",
     "text": [
      "\tFinished 4 steps --> Train loss = 0.1025033, Valid loss = 0.17401455\n"
     ]
    },
    {
     "name": "stdout",
     "output_type": "stream",
     "text": [
      "Epoch #33...\n"
     ]
    },
    {
     "name": "stdout",
     "output_type": "stream",
     "text": [
      "\tFinished 4 steps --> Train loss = 0.09508128, Valid loss = 0.13422167\n"
     ]
    },
    {
     "name": "stdout",
     "output_type": "stream",
     "text": [
      "Epoch #34...\n"
     ]
    },
    {
     "name": "stdout",
     "output_type": "stream",
     "text": [
      "\tFinished 4 steps --> Train loss = 0.088401064, Valid loss = 0.13430265\n"
     ]
    },
    {
     "name": "stdout",
     "output_type": "stream",
     "text": [
      "Epoch #35...\n"
     ]
    },
    {
     "name": "stdout",
     "output_type": "stream",
     "text": [
      "\tFinished 4 steps --> Train loss = 0.089860424, Valid loss = 0.13752995\n"
     ]
    },
    {
     "name": "stdout",
     "output_type": "stream",
     "text": [
      "Epoch #36...\n"
     ]
    },
    {
     "name": "stdout",
     "output_type": "stream",
     "text": [
      "\tFinished 4 steps --> Train loss = 0.07274474, Valid loss = 0.12901036\n"
     ]
    },
    {
     "name": "stdout",
     "output_type": "stream",
     "text": [
      "Epoch #37...\n"
     ]
    },
    {
     "name": "stdout",
     "output_type": "stream",
     "text": [
      "\tFinished 4 steps --> Train loss = 0.09026569, Valid loss = 0.1350077\n"
     ]
    },
    {
     "name": "stdout",
     "output_type": "stream",
     "text": [
      "Epoch #38...\n"
     ]
    },
    {
     "name": "stdout",
     "output_type": "stream",
     "text": [
      "\tFinished 4 steps --> Train loss = 0.09330239, Valid loss = 0.125802\n"
     ]
    },
    {
     "name": "stdout",
     "output_type": "stream",
     "text": [
      "Epoch #39...\n"
     ]
    },
    {
     "name": "stdout",
     "output_type": "stream",
     "text": [
      "\tFinished 4 steps --> Train loss = 0.0675874, Valid loss = 0.13199575\n"
     ]
    },
    {
     "name": "stdout",
     "output_type": "stream",
     "text": [
      "Epoch #40...\n"
     ]
    },
    {
     "name": "stdout",
     "output_type": "stream",
     "text": [
      "\tFinished 4 steps --> Train loss = 0.07999539, Valid loss = 0.14252764\n"
     ]
    },
    {
     "name": "stdout",
     "output_type": "stream",
     "text": [
      "Epoch #41..."
     ]
    },
    {
     "name": "stdout",
     "output_type": "stream",
     "text": [
      "\n"
     ]
    },
    {
     "name": "stdout",
     "output_type": "stream",
     "text": [
      "\tFinished 4 steps --> Train loss = 0.08097537, Valid loss = 0.12511162\n"
     ]
    },
    {
     "name": "stdout",
     "output_type": "stream",
     "text": [
      "Epoch #42...\n"
     ]
    },
    {
     "name": "stdout",
     "output_type": "stream",
     "text": [
      "\tFinished 4 steps --> Train loss = 0.096460566, Valid loss = 0.13741149\n"
     ]
    },
    {
     "name": "stdout",
     "output_type": "stream",
     "text": [
      "Epoch #43...\n"
     ]
    },
    {
     "name": "stdout",
     "output_type": "stream",
     "text": [
      "\tFinished 4 steps --> Train loss = 0.06899989, Valid loss = 0.14163214\n"
     ]
    },
    {
     "name": "stdout",
     "output_type": "stream",
     "text": [
      "Epoch #44...\n"
     ]
    },
    {
     "name": "stdout",
     "output_type": "stream",
     "text": [
      "\tFinished 4 steps --> Train loss = 0.06708348, Valid loss = 0.12879533\n"
     ]
    },
    {
     "name": "stdout",
     "output_type": "stream",
     "text": [
      "Epoch #45...\n"
     ]
    },
    {
     "name": "stdout",
     "output_type": "stream",
     "text": [
      "\tFinished 4 steps --> Train loss = 0.07000455, Valid loss = 0.11861293\n"
     ]
    },
    {
     "name": "stdout",
     "output_type": "stream",
     "text": [
      "Epoch #46...\n"
     ]
    },
    {
     "name": "stdout",
     "output_type": "stream",
     "text": [
      "\tFinished 4 steps --> Train loss = 0.075033195, Valid loss = 0.134984\n"
     ]
    },
    {
     "name": "stdout",
     "output_type": "stream",
     "text": [
      "Epoch #47...\n"
     ]
    },
    {
     "name": "stdout",
     "output_type": "stream",
     "text": [
      "\tFinished 4 steps --> Train loss = 0.06148418, Valid loss = 0.11588784\n"
     ]
    },
    {
     "name": "stdout",
     "output_type": "stream",
     "text": [
      "Epoch #48...\n"
     ]
    },
    {
     "name": "stdout",
     "output_type": "stream",
     "text": [
      "\tFinished 4 steps --> Train loss = 0.057770006, Valid loss = 0.1178076\n"
     ]
    },
    {
     "name": "stdout",
     "output_type": "stream",
     "text": [
      "Epoch #49...\n"
     ]
    },
    {
     "name": "stdout",
     "output_type": "stream",
     "text": [
      "\tFinished 4 steps --> Train loss = 0.061695214, Valid loss = 0.12834457\n"
     ]
    },
    {
     "name": "stdout",
     "output_type": "stream",
     "text": [
      "Epoch #50...\n"
     ]
    },
    {
     "name": "stdout",
     "output_type": "stream",
     "text": [
      "\tFinished 4 steps --> Train loss = 0.06033177, Valid loss = 0.12543789\n"
     ]
    },
    {
     "name": "stdout",
     "output_type": "stream",
     "text": [
      "Epoch #51...\n"
     ]
    },
    {
     "name": "stdout",
     "output_type": "stream",
     "text": [
      "\tFinished 4 steps --> Train loss = 0.062304374, Valid loss = 0.1233555\n"
     ]
    },
    {
     "name": "stdout",
     "output_type": "stream",
     "text": [
      "Epoch #52...\n"
     ]
    },
    {
     "name": "stdout",
     "output_type": "stream",
     "text": [
      "\tFinished 4 steps --> Train loss = 0.08978575, Valid loss = 0.13729158\n"
     ]
    },
    {
     "name": "stdout",
     "output_type": "stream",
     "text": [
      "Epoch #53...\n"
     ]
    },
    {
     "name": "stdout",
     "output_type": "stream",
     "text": [
      "\tFinished 4 steps --> Train loss = 0.056162126, Valid loss = 0.119194545\n"
     ]
    },
    {
     "name": "stdout",
     "output_type": "stream",
     "text": [
      "Epoch #54...\n"
     ]
    },
    {
     "name": "stdout",
     "output_type": "stream",
     "text": [
      "\tFinished 4 steps --> Train loss = 0.056637824, Valid loss = 0.1259237\n"
     ]
    },
    {
     "name": "stdout",
     "output_type": "stream",
     "text": [
      "Epoch #55...\n"
     ]
    },
    {
     "name": "stdout",
     "output_type": "stream",
     "text": [
      "\tFinished 4 steps --> Train loss = 0.05487997, Valid loss = 0.12316519\n"
     ]
    },
    {
     "name": "stdout",
     "output_type": "stream",
     "text": [
      "Epoch #56...\n"
     ]
    },
    {
     "name": "stdout",
     "output_type": "stream",
     "text": [
      "\tFinished 4 steps --> Train loss = 0.07121291, Valid loss = 0.11063227\n"
     ]
    },
    {
     "name": "stdout",
     "output_type": "stream",
     "text": [
      "Epoch #57...\n"
     ]
    },
    {
     "name": "stdout",
     "output_type": "stream",
     "text": [
      "\tFinished 4 steps --> Train loss = 0.059108045, Valid loss = 0.13554394\n"
     ]
    },
    {
     "name": "stdout",
     "output_type": "stream",
     "text": [
      "Epoch #58...\n"
     ]
    },
    {
     "name": "stdout",
     "output_type": "stream",
     "text": [
      "\tFinished 4 steps --> Train loss = 0.058873508, Valid loss = 0.12702166\n"
     ]
    },
    {
     "name": "stdout",
     "output_type": "stream",
     "text": [
      "Epoch #59...\n"
     ]
    },
    {
     "name": "stdout",
     "output_type": "stream",
     "text": [
      "\tFinished 4 steps --> Train loss = 0.051525865, Valid loss = 0.12063251\n"
     ]
    },
    {
     "name": "stdout",
     "output_type": "stream",
     "text": [
      "Epoch #60...\n"
     ]
    },
    {
     "name": "stdout",
     "output_type": "stream",
     "text": [
      "\tFinished 4 steps --> Train loss = 0.049221095, Valid loss = 0.10986381\n"
     ]
    },
    {
     "name": "stdout",
     "output_type": "stream",
     "text": [
      "Epoch #61...\n"
     ]
    },
    {
     "name": "stdout",
     "output_type": "stream",
     "text": [
      "\tFinished 4 steps --> Train loss = 0.04765518, Valid loss = 0.116891615\n"
     ]
    },
    {
     "name": "stdout",
     "output_type": "stream",
     "text": [
      "Epoch #62...\n"
     ]
    },
    {
     "name": "stdout",
     "output_type": "stream",
     "text": [
      "\tFinished 4 steps --> Train loss = 0.05301625, Valid loss = 0.12632515\n"
     ]
    },
    {
     "name": "stdout",
     "output_type": "stream",
     "text": [
      "Epoch #63...\n"
     ]
    },
    {
     "name": "stdout",
     "output_type": "stream",
     "text": [
      "\tFinished 4 steps --> Train loss = 0.052809317, Valid loss = 0.109860085\n"
     ]
    },
    {
     "name": "stdout",
     "output_type": "stream",
     "text": [
      "Epoch #64...\n"
     ]
    },
    {
     "name": "stdout",
     "output_type": "stream",
     "text": [
      "\tFinished 4 steps --> Train loss = 0.056025945, Valid loss = 0.12522289\n"
     ]
    },
    {
     "name": "stdout",
     "output_type": "stream",
     "text": [
      "Epoch #65...\n"
     ]
    },
    {
     "name": "stdout",
     "output_type": "stream",
     "text": [
      "\tFinished 4 steps --> Train loss = 0.044529222, Valid loss = 0.11333\n"
     ]
    },
    {
     "name": "stdout",
     "output_type": "stream",
     "text": [
      "Epoch #66...\n"
     ]
    },
    {
     "name": "stdout",
     "output_type": "stream",
     "text": [
      "\tFinished 4 steps --> Train loss = 0.050642196, Valid loss = 0.12537831\n"
     ]
    },
    {
     "name": "stdout",
     "output_type": "stream",
     "text": [
      "Epoch #67...\n"
     ]
    },
    {
     "name": "stdout",
     "output_type": "stream",
     "text": [
      "\tFinished 4 steps --> Train loss = 0.05585309, Valid loss = 0.11918598\n"
     ]
    },
    {
     "name": "stdout",
     "output_type": "stream",
     "text": [
      "Epoch #68...\n"
     ]
    },
    {
     "name": "stdout",
     "output_type": "stream",
     "text": [
      "\tFinished 4 steps --> Train loss = 0.042781923, Valid loss = 0.10683299\n"
     ]
    },
    {
     "name": "stdout",
     "output_type": "stream",
     "text": [
      "Epoch #69...\n"
     ]
    },
    {
     "name": "stdout",
     "output_type": "stream",
     "text": [
      "\tFinished 4 steps --> Train loss = 0.049902435, Valid loss = 0.12737276\n"
     ]
    },
    {
     "name": "stdout",
     "output_type": "stream",
     "text": [
      "Epoch #70...\n"
     ]
    },
    {
     "name": "stdout",
     "output_type": "stream",
     "text": [
      "\tFinished 4 steps --> Train loss = 0.041800264, Valid loss = 0.11497851\n"
     ]
    },
    {
     "name": "stdout",
     "output_type": "stream",
     "text": [
      "Epoch #71...\n"
     ]
    },
    {
     "name": "stdout",
     "output_type": "stream",
     "text": [
      "\tFinished 4 steps --> Train loss = 0.045971688, Valid loss = 0.119545564\n"
     ]
    },
    {
     "name": "stdout",
     "output_type": "stream",
     "text": [
      "Epoch #72...\n"
     ]
    },
    {
     "name": "stdout",
     "output_type": "stream",
     "text": [
      "\tFinished 4 steps --> Train loss = 0.049999323, Valid loss = 0.12153455\n"
     ]
    },
    {
     "name": "stdout",
     "output_type": "stream",
     "text": [
      "Epoch #73...\n"
     ]
    },
    {
     "name": "stdout",
     "output_type": "stream",
     "text": [
      "\tFinished 4 steps --> Train loss = 0.038366083, Valid loss = 0.11386943\n"
     ]
    },
    {
     "name": "stdout",
     "output_type": "stream",
     "text": [
      "Epoch #74...\n"
     ]
    },
    {
     "name": "stdout",
     "output_type": "stream",
     "text": [
      "\tFinished 4 steps --> Train loss = 0.052394748, Valid loss = 0.122937985\n"
     ]
    },
    {
     "name": "stdout",
     "output_type": "stream",
     "text": [
      "Epoch #75...\n"
     ]
    },
    {
     "name": "stdout",
     "output_type": "stream",
     "text": [
      "\tFinished 4 steps --> Train loss = 0.04042976, Valid loss = 0.10771316\n"
     ]
    },
    {
     "name": "stdout",
     "output_type": "stream",
     "text": [
      "Epoch #76...\n"
     ]
    },
    {
     "name": "stdout",
     "output_type": "stream",
     "text": [
      "\tFinished 4 steps --> Train loss = 0.03607242, Valid loss = 0.11368026\n"
     ]
    },
    {
     "name": "stdout",
     "output_type": "stream",
     "text": [
      "Epoch #77...\n"
     ]
    },
    {
     "name": "stdout",
     "output_type": "stream",
     "text": [
      "\tFinished 4 steps --> Train loss = 0.038913902, Valid loss = 0.12056734\n"
     ]
    },
    {
     "name": "stdout",
     "output_type": "stream",
     "text": [
      "Epoch #78...\n"
     ]
    },
    {
     "name": "stdout",
     "output_type": "stream",
     "text": [
      "\tFinished 4 steps --> Train loss = 0.04274134, Valid loss = 0.100892685\n"
     ]
    },
    {
     "name": "stdout",
     "output_type": "stream",
     "text": [
      "Epoch #79...\n"
     ]
    },
    {
     "name": "stdout",
     "output_type": "stream",
     "text": [
      "\tFinished 4 steps --> Train loss = 0.0364232, Valid loss = 0.12359795\n"
     ]
    },
    {
     "name": "stdout",
     "output_type": "stream",
     "text": [
      "Epoch #80...\n"
     ]
    },
    {
     "name": "stdout",
     "output_type": "stream",
     "text": [
      "\tFinished 4 steps --> Train loss = 0.04956431, Valid loss = 0.12756392\n"
     ]
    },
    {
     "name": "stdout",
     "output_type": "stream",
     "text": [
      "Epoch #81...\n"
     ]
    },
    {
     "name": "stdout",
     "output_type": "stream",
     "text": [
      "\tFinished 4 steps --> Train loss = 0.037841838, Valid loss = 0.11127955\n"
     ]
    },
    {
     "name": "stdout",
     "output_type": "stream",
     "text": [
      "Epoch #82...\n"
     ]
    },
    {
     "name": "stdout",
     "output_type": "stream",
     "text": [
      "\tFinished 4 steps --> Train loss = 0.047709845, Valid loss = 0.11545228\n"
     ]
    },
    {
     "name": "stdout",
     "output_type": "stream",
     "text": [
      "Epoch #83...\n"
     ]
    },
    {
     "name": "stdout",
     "output_type": "stream",
     "text": [
      "\tFinished 4 steps --> Train loss = 0.036000546, Valid loss = 0.11032451\n"
     ]
    },
    {
     "name": "stdout",
     "output_type": "stream",
     "text": [
      "Epoch #84...\n"
     ]
    },
    {
     "name": "stdout",
     "output_type": "stream",
     "text": [
      "\tFinished 4 steps --> Train loss = 0.038029905, Valid loss = 0.12024299\n"
     ]
    },
    {
     "name": "stdout",
     "output_type": "stream",
     "text": [
      "Epoch #85...\n"
     ]
    },
    {
     "name": "stdout",
     "output_type": "stream",
     "text": [
      "\tFinished 4 steps --> Train loss = 0.047052197, Valid loss = 0.110538825\n"
     ]
    },
    {
     "name": "stdout",
     "output_type": "stream",
     "text": [
      "Epoch #86...\n"
     ]
    },
    {
     "name": "stdout",
     "output_type": "stream",
     "text": [
      "\tFinished 4 steps --> Train loss = 0.037809327, Valid loss = 0.11282226\n"
     ]
    },
    {
     "name": "stdout",
     "output_type": "stream",
     "text": [
      "Epoch #87...\n"
     ]
    },
    {
     "name": "stdout",
     "output_type": "stream",
     "text": [
      "\tFinished 4 steps --> Train loss = 0.047380686, Valid loss = 0.12847398\n"
     ]
    },
    {
     "name": "stdout",
     "output_type": "stream",
     "text": [
      "Epoch #88...\n"
     ]
    },
    {
     "name": "stdout",
     "output_type": "stream",
     "text": [
      "\tFinished 4 steps --> Train loss = 0.03914514, Valid loss = 0.11017847\n"
     ]
    },
    {
     "name": "stdout",
     "output_type": "stream",
     "text": [
      "Epoch #89...\n"
     ]
    },
    {
     "name": "stdout",
     "output_type": "stream",
     "text": [
      "\tFinished 4 steps --> Train loss = 0.035428897, Valid loss = 0.11387514\n"
     ]
    },
    {
     "name": "stdout",
     "output_type": "stream",
     "text": [
      "Epoch #90...\n"
     ]
    },
    {
     "name": "stdout",
     "output_type": "stream",
     "text": [
      "\tFinished 4 steps --> Train loss = 0.048529096, Valid loss = 0.11658017\n"
     ]
    },
    {
     "name": "stdout",
     "output_type": "stream",
     "text": [
      "Epoch #91...\n"
     ]
    },
    {
     "name": "stdout",
     "output_type": "stream",
     "text": [
      "\tFinished 4 steps --> Train loss = 0.03503929, Valid loss = 0.107642435\n"
     ]
    },
    {
     "name": "stdout",
     "output_type": "stream",
     "text": [
      "Epoch #92...\n"
     ]
    },
    {
     "name": "stdout",
     "output_type": "stream",
     "text": [
      "\tFinished 4 steps --> Train loss = 0.03543847, Valid loss = 0.11060428\n"
     ]
    },
    {
     "name": "stdout",
     "output_type": "stream",
     "text": [
      "Epoch #93...\n"
     ]
    },
    {
     "name": "stdout",
     "output_type": "stream",
     "text": [
      "\tFinished 4 steps --> Train loss = 0.03994632, Valid loss = 0.11244492\n"
     ]
    },
    {
     "name": "stdout",
     "output_type": "stream",
     "text": [
      "Epoch #94...\n"
     ]
    },
    {
     "name": "stdout",
     "output_type": "stream",
     "text": [
      "\tFinished 4 steps --> Train loss = 0.037094604, Valid loss = 0.110663936\n"
     ]
    },
    {
     "name": "stdout",
     "output_type": "stream",
     "text": [
      "Epoch #95...\n"
     ]
    },
    {
     "name": "stdout",
     "output_type": "stream",
     "text": [
      "\tFinished 4 steps --> Train loss = 0.029253189, Valid loss = 0.10547585\n"
     ]
    },
    {
     "name": "stdout",
     "output_type": "stream",
     "text": [
      "Epoch #96...\n"
     ]
    },
    {
     "name": "stdout",
     "output_type": "stream",
     "text": [
      "\tFinished 4 steps --> Train loss = 0.031112198, Valid loss = 0.10619933\n"
     ]
    },
    {
     "name": "stdout",
     "output_type": "stream",
     "text": [
      "Epoch #97...\n"
     ]
    },
    {
     "name": "stdout",
     "output_type": "stream",
     "text": [
      "\tFinished 4 steps --> Train loss = 0.0317601, Valid loss = 0.10723574\n"
     ]
    },
    {
     "name": "stdout",
     "output_type": "stream",
     "text": [
      "Epoch #98...\n"
     ]
    },
    {
     "name": "stdout",
     "output_type": "stream",
     "text": [
      "\tFinished 4 steps --> Train loss = 0.029037066, Valid loss = 0.10872521\n"
     ]
    },
    {
     "name": "stdout",
     "output_type": "stream",
     "text": [
      "Epoch #99...\n"
     ]
    },
    {
     "name": "stdout",
     "output_type": "stream",
     "text": [
      "\tFinished 4 steps --> Train loss = 0.030411873, Valid loss = 0.111311585\n"
     ]
    },
    {
     "name": "stdout",
     "output_type": "stream",
     "text": [
      "Epoch #100...\n"
     ]
    },
    {
     "name": "stdout",
     "output_type": "stream",
     "text": [
      "\tFinished 4 steps --> Train loss = 0.0291727, Valid loss = 0.103268586\n"
     ]
    },
    {
     "name": "stdout",
     "output_type": "stream",
     "text": [
      "Epoch #101...\n"
     ]
    },
    {
     "name": "stdout",
     "output_type": "stream",
     "text": [
      "\tFinished 4 steps --> Train loss = 0.03134773, Valid loss = 0.11204239\n"
     ]
    },
    {
     "name": "stdout",
     "output_type": "stream",
     "text": [
      "Epoch #102...\n"
     ]
    },
    {
     "name": "stdout",
     "output_type": "stream",
     "text": [
      "\tFinished 4 steps --> Train loss = 0.037814017, Valid loss = 0.11962338\n"
     ]
    },
    {
     "name": "stdout",
     "output_type": "stream",
     "text": [
      "Epoch #103...\n"
     ]
    },
    {
     "name": "stdout",
     "output_type": "stream",
     "text": [
      "\tFinished 4 steps --> Train loss = 0.031297326, Valid loss = 0.11084666\n"
     ]
    },
    {
     "name": "stdout",
     "output_type": "stream",
     "text": [
      "Epoch #104...\n"
     ]
    },
    {
     "name": "stdout",
     "output_type": "stream",
     "text": [
      "\tFinished 4 steps --> Train loss = 0.035210207, Valid loss = 0.1123804\n"
     ]
    },
    {
     "name": "stdout",
     "output_type": "stream",
     "text": [
      "Epoch #105...\n"
     ]
    },
    {
     "name": "stdout",
     "output_type": "stream",
     "text": [
      "\tFinished 4 steps --> Train loss = 0.027541425, Valid loss = 0.10968179\n"
     ]
    },
    {
     "name": "stdout",
     "output_type": "stream",
     "text": [
      "Epoch #106...\n"
     ]
    },
    {
     "name": "stdout",
     "output_type": "stream",
     "text": [
      "\tFinished 4 steps --> Train loss = 0.03418662, Valid loss = 0.11420396\n"
     ]
    },
    {
     "name": "stdout",
     "output_type": "stream",
     "text": [
      "Epoch #107...\n"
     ]
    },
    {
     "name": "stdout",
     "output_type": "stream",
     "text": [
      "\tFinished 4 steps --> Train loss = 0.029654257, Valid loss = 0.105814844\n"
     ]
    },
    {
     "name": "stdout",
     "output_type": "stream",
     "text": [
      "Epoch #108...\n"
     ]
    },
    {
     "name": "stdout",
     "output_type": "stream",
     "text": [
      "\tFinished 4 steps --> Train loss = 0.025280757, Valid loss = 0.1047388\n"
     ]
    },
    {
     "name": "stdout",
     "output_type": "stream",
     "text": [
      "Epoch #109...\n"
     ]
    },
    {
     "name": "stdout",
     "output_type": "stream",
     "text": [
      "\tFinished 4 steps --> Train loss = 0.034433067, Valid loss = 0.12344934\n"
     ]
    },
    {
     "name": "stdout",
     "output_type": "stream",
     "text": [
      "Epoch #110...\n"
     ]
    },
    {
     "name": "stdout",
     "output_type": "stream",
     "text": [
      "\tFinished 4 steps --> Train loss = 0.03264477, Valid loss = 0.10418379\n"
     ]
    },
    {
     "name": "stdout",
     "output_type": "stream",
     "text": [
      "Epoch #111...\n"
     ]
    },
    {
     "name": "stdout",
     "output_type": "stream",
     "text": [
      "\tFinished 4 steps --> Train loss = 0.02782027, Valid loss = 0.11160852\n"
     ]
    },
    {
     "name": "stdout",
     "output_type": "stream",
     "text": [
      "Epoch #112...\n"
     ]
    },
    {
     "name": "stdout",
     "output_type": "stream",
     "text": [
      "\tFinished 4 steps --> Train loss = 0.031468518, Valid loss = 0.11758122\n"
     ]
    },
    {
     "name": "stdout",
     "output_type": "stream",
     "text": [
      "Epoch #113...\n"
     ]
    },
    {
     "name": "stdout",
     "output_type": "stream",
     "text": [
      "\tFinished 4 steps --> Train loss = 0.026048372, Valid loss = 0.10473599\n"
     ]
    },
    {
     "name": "stdout",
     "output_type": "stream",
     "text": [
      "Epoch #114...\n"
     ]
    },
    {
     "name": "stdout",
     "output_type": "stream",
     "text": [
      "\tFinished 4 steps --> Train loss = 0.028277297, Valid loss = 0.11133424\n"
     ]
    },
    {
     "name": "stdout",
     "output_type": "stream",
     "text": [
      "Epoch #115...\n"
     ]
    },
    {
     "name": "stdout",
     "output_type": "stream",
     "text": [
      "\tFinished 4 steps --> Train loss = 0.046691105, Valid loss = 0.128396\n"
     ]
    },
    {
     "name": "stdout",
     "output_type": "stream",
     "text": [
      "Epoch #116...\n"
     ]
    },
    {
     "name": "stdout",
     "output_type": "stream",
     "text": [
      "\tFinished 4 steps --> Train loss = 0.03530981, Valid loss = 0.1107677\n"
     ]
    },
    {
     "name": "stdout",
     "output_type": "stream",
     "text": [
      "Epoch #117...\n"
     ]
    },
    {
     "name": "stdout",
     "output_type": "stream",
     "text": [
      "\tFinished 4 steps --> Train loss = 0.032230083, Valid loss = 0.10864848\n"
     ]
    },
    {
     "name": "stdout",
     "output_type": "stream",
     "text": [
      "Epoch #118...\n"
     ]
    },
    {
     "name": "stdout",
     "output_type": "stream",
     "text": [
      "\tFinished 4 steps --> Train loss = 0.03136521, Valid loss = 0.11695004\n"
     ]
    },
    {
     "name": "stdout",
     "output_type": "stream",
     "text": [
      "Epoch #119...\n"
     ]
    },
    {
     "name": "stdout",
     "output_type": "stream",
     "text": [
      "\tFinished 4 steps --> Train loss = 0.02796648, Valid loss = 0.10962236\n"
     ]
    },
    {
     "name": "stdout",
     "output_type": "stream",
     "text": [
      "Epoch #120...\n"
     ]
    },
    {
     "name": "stdout",
     "output_type": "stream",
     "text": [
      "\tFinished 4 steps --> Train loss = 0.025537835, Valid loss = 0.10815156\n"
     ]
    },
    {
     "name": "stdout",
     "output_type": "stream",
     "text": [
      "Epoch #121...\n"
     ]
    },
    {
     "name": "stdout",
     "output_type": "stream",
     "text": [
      "\tFinished 4 steps --> Train loss = 0.023790663, Valid loss = 0.11067046\n"
     ]
    },
    {
     "name": "stdout",
     "output_type": "stream",
     "text": [
      "Epoch #122...\n"
     ]
    },
    {
     "name": "stdout",
     "output_type": "stream",
     "text": [
      "\tFinished 4 steps --> Train loss = 0.038914546, Valid loss = 0.10773601\n"
     ]
    },
    {
     "name": "stdout",
     "output_type": "stream",
     "text": [
      "Epoch #123...\n"
     ]
    },
    {
     "name": "stdout",
     "output_type": "stream",
     "text": [
      "\tFinished 4 steps --> Train loss = 0.032537613, Valid loss = 0.119541734\n"
     ]
    },
    {
     "name": "stdout",
     "output_type": "stream",
     "text": [
      "Epoch #124...\n"
     ]
    },
    {
     "name": "stdout",
     "output_type": "stream",
     "text": [
      "\tFinished 4 steps --> Train loss = 0.024568118, Valid loss = 0.10978059\n"
     ]
    },
    {
     "name": "stdout",
     "output_type": "stream",
     "text": [
      "Epoch #125...\n"
     ]
    },
    {
     "name": "stdout",
     "output_type": "stream",
     "text": [
      "\tFinished 4 steps --> Train loss = 0.035657775, Valid loss = 0.10376406\n"
     ]
    },
    {
     "name": "stdout",
     "output_type": "stream",
     "text": [
      "Epoch #126...\n"
     ]
    },
    {
     "name": "stdout",
     "output_type": "stream",
     "text": [
      "\tFinished 4 steps --> Train loss = 0.03183787, Valid loss = 0.12384636\n"
     ]
    },
    {
     "name": "stdout",
     "output_type": "stream",
     "text": [
      "Epoch #127...\n"
     ]
    },
    {
     "name": "stdout",
     "output_type": "stream",
     "text": [
      "\tFinished 4 steps --> Train loss = 0.024338301, Valid loss = 0.10357395\n"
     ]
    },
    {
     "name": "stdout",
     "output_type": "stream",
     "text": [
      "Epoch #128...\n"
     ]
    },
    {
     "name": "stdout",
     "output_type": "stream",
     "text": [
      "\tFinished 4 steps --> Train loss = 0.024737682, Valid loss = 0.11130855\n"
     ]
    },
    {
     "name": "stdout",
     "output_type": "stream",
     "text": [
      "Epoch #129...\n"
     ]
    },
    {
     "name": "stdout",
     "output_type": "stream",
     "text": [
      "\tFinished 4 steps --> Train loss = 0.022384627, Valid loss = 0.10507682\n"
     ]
    },
    {
     "name": "stdout",
     "output_type": "stream",
     "text": [
      "Epoch #130...\n"
     ]
    },
    {
     "name": "stdout",
     "output_type": "stream",
     "text": [
      "\tFinished 4 steps --> Train loss = 0.027956456, Valid loss = 0.10746198\n"
     ]
    },
    {
     "name": "stdout",
     "output_type": "stream",
     "text": [
      "Epoch #131...\n"
     ]
    },
    {
     "name": "stdout",
     "output_type": "stream",
     "text": [
      "\tFinished 4 steps --> Train loss = 0.024266195, Valid loss = 0.1078666\n"
     ]
    },
    {
     "name": "stdout",
     "output_type": "stream",
     "text": [
      "Epoch #132...\n"
     ]
    },
    {
     "name": "stdout",
     "output_type": "stream",
     "text": [
      "\tFinished 4 steps --> Train loss = 0.020758187, Valid loss = 0.10242961\n"
     ]
    },
    {
     "name": "stdout",
     "output_type": "stream",
     "text": [
      "Epoch #133...\n"
     ]
    },
    {
     "name": "stdout",
     "output_type": "stream",
     "text": [
      "\tFinished 4 steps --> Train loss = 0.020064466, Valid loss = 0.110169634\n"
     ]
    },
    {
     "name": "stdout",
     "output_type": "stream",
     "text": [
      "Epoch #134...\n"
     ]
    },
    {
     "name": "stdout",
     "output_type": "stream",
     "text": [
      "\tFinished 4 steps --> Train loss = 0.020968357, Valid loss = 0.10396836\n"
     ]
    },
    {
     "name": "stdout",
     "output_type": "stream",
     "text": [
      "Epoch #135...\n"
     ]
    },
    {
     "name": "stdout",
     "output_type": "stream",
     "text": [
      "\tFinished 4 steps --> Train loss = 0.022814248, Valid loss = 0.11014658\n"
     ]
    },
    {
     "name": "stdout",
     "output_type": "stream",
     "text": [
      "Epoch #136...\n"
     ]
    },
    {
     "name": "stdout",
     "output_type": "stream",
     "text": [
      "\tFinished 4 steps --> Train loss = 0.022622425, Valid loss = 0.10541885\n"
     ]
    },
    {
     "name": "stdout",
     "output_type": "stream",
     "text": [
      "Epoch #137...\n"
     ]
    },
    {
     "name": "stdout",
     "output_type": "stream",
     "text": [
      "\tFinished 4 steps --> Train loss = 0.019815026, Valid loss = 0.109204486\n"
     ]
    },
    {
     "name": "stdout",
     "output_type": "stream",
     "text": [
      "Epoch #138...\n"
     ]
    },
    {
     "name": "stdout",
     "output_type": "stream",
     "text": [
      "\tFinished 4 steps --> Train loss = 0.020524163, Valid loss = 0.10576679\n"
     ]
    },
    {
     "name": "stdout",
     "output_type": "stream",
     "text": [
      "Epoch #139...\n"
     ]
    },
    {
     "name": "stdout",
     "output_type": "stream",
     "text": [
      "\tFinished 4 steps --> Train loss = 0.01858775, Valid loss = 0.105417974\n"
     ]
    },
    {
     "name": "stdout",
     "output_type": "stream",
     "text": [
      "Epoch #140...\n"
     ]
    },
    {
     "name": "stdout",
     "output_type": "stream",
     "text": [
      "\tFinished 4 steps --> Train loss = 0.020465327, Valid loss = 0.1093723\n"
     ]
    },
    {
     "name": "stdout",
     "output_type": "stream",
     "text": [
      "Epoch #141...\n"
     ]
    },
    {
     "name": "stdout",
     "output_type": "stream",
     "text": [
      "\tFinished 4 steps --> Train loss = 0.01898199, Valid loss = 0.10355588\n"
     ]
    },
    {
     "name": "stdout",
     "output_type": "stream",
     "text": [
      "Epoch #142...\n"
     ]
    },
    {
     "name": "stdout",
     "output_type": "stream",
     "text": [
      "\tFinished 4 steps --> Train loss = 0.017636068, Valid loss = 0.10765608\n"
     ]
    },
    {
     "name": "stdout",
     "output_type": "stream",
     "text": [
      "Epoch #143...\n"
     ]
    },
    {
     "name": "stdout",
     "output_type": "stream",
     "text": [
      "\tFinished 4 steps --> Train loss = 0.020044973, Valid loss = 0.107322104\n"
     ]
    },
    {
     "name": "stdout",
     "output_type": "stream",
     "text": [
      "Epoch #144...\n"
     ]
    },
    {
     "name": "stdout",
     "output_type": "stream",
     "text": [
      "\tFinished 4 steps --> Train loss = 0.017159458, Valid loss = 0.10531335\n"
     ]
    },
    {
     "name": "stdout",
     "output_type": "stream",
     "text": [
      "Epoch #145...\n"
     ]
    },
    {
     "name": "stdout",
     "output_type": "stream",
     "text": [
      "\tFinished 4 steps --> Train loss = 0.017465577, Valid loss = 0.10734598\n"
     ]
    },
    {
     "name": "stdout",
     "output_type": "stream",
     "text": [
      "Epoch #146...\n"
     ]
    },
    {
     "name": "stdout",
     "output_type": "stream",
     "text": [
      "\tFinished 4 steps --> Train loss = 0.017490927, Valid loss = 0.10540228\n"
     ]
    },
    {
     "name": "stdout",
     "output_type": "stream",
     "text": [
      "Epoch #147...\n"
     ]
    },
    {
     "name": "stdout",
     "output_type": "stream",
     "text": [
      "\tFinished 4 steps --> Train loss = 0.016712638, Valid loss = 0.10800396\n"
     ]
    },
    {
     "name": "stdout",
     "output_type": "stream",
     "text": [
      "Epoch #148...\n"
     ]
    },
    {
     "name": "stdout",
     "output_type": "stream",
     "text": [
      "\tFinished 4 steps --> Train loss = 0.01746153, Valid loss = 0.10377899\n"
     ]
    },
    {
     "name": "stdout",
     "output_type": "stream",
     "text": [
      "Epoch #149...\n"
     ]
    },
    {
     "name": "stdout",
     "output_type": "stream",
     "text": [
      "\tFinished 4 steps --> Train loss = 0.01677052, Valid loss = 0.105719894\n"
     ]
    },
    {
     "name": "stdout",
     "output_type": "stream",
     "text": [
      "Epoch #150...\n"
     ]
    },
    {
     "name": "stdout",
     "output_type": "stream",
     "text": [
      "\tFinished 4 steps --> Train loss = 0.023430625, Valid loss = 0.11454339\n"
     ]
    },
    {
     "name": "stdout",
     "output_type": "stream",
     "text": [
      "Epoch #151..."
     ]
    },
    {
     "name": "stdout",
     "output_type": "stream",
     "text": [
      "\n"
     ]
    },
    {
     "name": "stdout",
     "output_type": "stream",
     "text": [
      "\tFinished 4 steps --> Train loss = 0.023231324, Valid loss = 0.10740601\n"
     ]
    },
    {
     "name": "stdout",
     "output_type": "stream",
     "text": [
      "Epoch #152...\n"
     ]
    },
    {
     "name": "stdout",
     "output_type": "stream",
     "text": [
      "\tFinished 4 steps --> Train loss = 0.024453983, Valid loss = 0.10743112\n"
     ]
    },
    {
     "name": "stdout",
     "output_type": "stream",
     "text": [
      "Epoch #153...\n"
     ]
    },
    {
     "name": "stdout",
     "output_type": "stream",
     "text": [
      "\tFinished 4 steps --> Train loss = 0.02266006, Valid loss = 0.10763302\n"
     ]
    },
    {
     "name": "stdout",
     "output_type": "stream",
     "text": [
      "Epoch #154...\n"
     ]
    },
    {
     "name": "stdout",
     "output_type": "stream",
     "text": [
      "\tFinished 4 steps --> Train loss = 0.018945623, Valid loss = 0.107920736\n"
     ]
    },
    {
     "name": "stdout",
     "output_type": "stream",
     "text": [
      "Epoch #155...\n"
     ]
    },
    {
     "name": "stdout",
     "output_type": "stream",
     "text": [
      "\tFinished 4 steps --> Train loss = 0.02035679, Valid loss = 0.1003507\n"
     ]
    },
    {
     "name": "stdout",
     "output_type": "stream",
     "text": [
      "Epoch #156...\n"
     ]
    },
    {
     "name": "stdout",
     "output_type": "stream",
     "text": [
      "\tFinished 4 steps --> Train loss = 0.020195229, Valid loss = 0.110813156\n"
     ]
    },
    {
     "name": "stdout",
     "output_type": "stream",
     "text": [
      "Epoch #157...\n"
     ]
    },
    {
     "name": "stdout",
     "output_type": "stream",
     "text": [
      "\tFinished 4 steps --> Train loss = 0.015828244, Valid loss = 0.10529564\n"
     ]
    },
    {
     "name": "stdout",
     "output_type": "stream",
     "text": [
      "Epoch #158...\n"
     ]
    },
    {
     "name": "stdout",
     "output_type": "stream",
     "text": [
      "\tFinished 4 steps --> Train loss = 0.019165378, Valid loss = 0.097948104\n"
     ]
    },
    {
     "name": "stdout",
     "output_type": "stream",
     "text": [
      "Epoch #159...\n"
     ]
    },
    {
     "name": "stdout",
     "output_type": "stream",
     "text": [
      "\tFinished 4 steps --> Train loss = 0.021506691, Valid loss = 0.11409515\n"
     ]
    },
    {
     "name": "stdout",
     "output_type": "stream",
     "text": [
      "Epoch #160...\n"
     ]
    },
    {
     "name": "stdout",
     "output_type": "stream",
     "text": [
      "\tFinished 4 steps --> Train loss = 0.018343125, Valid loss = 0.10075408\n"
     ]
    },
    {
     "name": "stdout",
     "output_type": "stream",
     "text": [
      "Epoch #161...\n"
     ]
    },
    {
     "name": "stdout",
     "output_type": "stream",
     "text": [
      "\tFinished 4 steps --> Train loss = 0.01589274, Valid loss = 0.10549643\n"
     ]
    },
    {
     "name": "stdout",
     "output_type": "stream",
     "text": [
      "Epoch #162...\n"
     ]
    },
    {
     "name": "stdout",
     "output_type": "stream",
     "text": [
      "\tFinished 4 steps --> Train loss = 0.023513129, Valid loss = 0.109832205\n"
     ]
    },
    {
     "name": "stdout",
     "output_type": "stream",
     "text": [
      "Epoch #163..."
     ]
    },
    {
     "name": "stdout",
     "output_type": "stream",
     "text": [
      "\n"
     ]
    },
    {
     "name": "stdout",
     "output_type": "stream",
     "text": [
      "\tFinished 4 steps --> Train loss = 0.021743465, Valid loss = 0.10493636\n"
     ]
    },
    {
     "name": "stdout",
     "output_type": "stream",
     "text": [
      "Epoch #164...\n"
     ]
    },
    {
     "name": "stdout",
     "output_type": "stream",
     "text": [
      "\tFinished 4 steps --> Train loss = 0.01518726, Valid loss = 0.10748006\n"
     ]
    },
    {
     "name": "stdout",
     "output_type": "stream",
     "text": [
      "Epoch #165..."
     ]
    },
    {
     "name": "stdout",
     "output_type": "stream",
     "text": [
      "\n"
     ]
    },
    {
     "name": "stdout",
     "output_type": "stream",
     "text": [
      "\tFinished 4 steps --> Train loss = 0.020161383, Valid loss = 0.10189475\n"
     ]
    },
    {
     "name": "stdout",
     "output_type": "stream",
     "text": [
      "Epoch #166...\n"
     ]
    },
    {
     "name": "stdout",
     "output_type": "stream",
     "text": [
      "\tFinished 4 steps --> Train loss = 0.017472073, Valid loss = 0.105694205\n"
     ]
    },
    {
     "name": "stdout",
     "output_type": "stream",
     "text": [
      "Epoch #167...\n"
     ]
    },
    {
     "name": "stdout",
     "output_type": "stream",
     "text": [
      "\tFinished 4 steps --> Train loss = 0.017122606, Valid loss = 0.10386537\n"
     ]
    },
    {
     "name": "stdout",
     "output_type": "stream",
     "text": [
      "Epoch #168...\n"
     ]
    },
    {
     "name": "stdout",
     "output_type": "stream",
     "text": [
      "\tFinished 4 steps --> Train loss = 0.013741196, Valid loss = 0.107244775\n"
     ]
    },
    {
     "name": "stdout",
     "output_type": "stream",
     "text": [
      "Epoch #169...\n"
     ]
    },
    {
     "name": "stdout",
     "output_type": "stream",
     "text": [
      "\tFinished 4 steps --> Train loss = 0.01393329, Valid loss = 0.101428255\n"
     ]
    },
    {
     "name": "stdout",
     "output_type": "stream",
     "text": [
      "Epoch #170...\n"
     ]
    },
    {
     "name": "stdout",
     "output_type": "stream",
     "text": [
      "\tFinished 4 steps --> Train loss = 0.015983999, Valid loss = 0.10923661\n"
     ]
    },
    {
     "name": "stdout",
     "output_type": "stream",
     "text": [
      "Epoch #171...\n"
     ]
    },
    {
     "name": "stdout",
     "output_type": "stream",
     "text": [
      "\tFinished 4 steps --> Train loss = 0.012645607, Valid loss = 0.10150588\n"
     ]
    },
    {
     "name": "stdout",
     "output_type": "stream",
     "text": [
      "Epoch #172...\n"
     ]
    },
    {
     "name": "stdout",
     "output_type": "stream",
     "text": [
      "\tFinished 4 steps --> Train loss = 0.01181392, Valid loss = 0.10355063\n"
     ]
    },
    {
     "name": "stdout",
     "output_type": "stream",
     "text": [
      "Epoch #173...\n"
     ]
    },
    {
     "name": "stdout",
     "output_type": "stream",
     "text": [
      "\tFinished 4 steps --> Train loss = 0.014009452, Valid loss = 0.10786259\n"
     ]
    },
    {
     "name": "stdout",
     "output_type": "stream",
     "text": [
      "Epoch #174...\n"
     ]
    },
    {
     "name": "stdout",
     "output_type": "stream",
     "text": [
      "\tFinished 4 steps --> Train loss = 0.013279876, Valid loss = 0.100917354\n"
     ]
    },
    {
     "name": "stdout",
     "output_type": "stream",
     "text": [
      "Epoch #175...\n"
     ]
    },
    {
     "name": "stdout",
     "output_type": "stream",
     "text": [
      "\tFinished 4 steps --> Train loss = 0.0122641595, Valid loss = 0.10722814\n"
     ]
    },
    {
     "name": "stdout",
     "output_type": "stream",
     "text": [
      "Epoch #176...\n"
     ]
    },
    {
     "name": "stdout",
     "output_type": "stream",
     "text": [
      "\tFinished 4 steps --> Train loss = 0.01574983, Valid loss = 0.10777228\n"
     ]
    },
    {
     "name": "stdout",
     "output_type": "stream",
     "text": [
      "Epoch #177...\n"
     ]
    },
    {
     "name": "stdout",
     "output_type": "stream",
     "text": [
      "\tFinished 4 steps --> Train loss = 0.012710866, Valid loss = 0.10445841\n"
     ]
    },
    {
     "name": "stdout",
     "output_type": "stream",
     "text": [
      "Epoch #178...\n"
     ]
    },
    {
     "name": "stdout",
     "output_type": "stream",
     "text": [
      "\tFinished 4 steps --> Train loss = 0.012414722, Valid loss = 0.10382053\n"
     ]
    },
    {
     "name": "stdout",
     "output_type": "stream",
     "text": [
      "Epoch #179...\n"
     ]
    },
    {
     "name": "stdout",
     "output_type": "stream",
     "text": [
      "\tFinished 4 steps --> Train loss = 0.0122271655, Valid loss = 0.10514895\n"
     ]
    },
    {
     "name": "stdout",
     "output_type": "stream",
     "text": [
      "Epoch #180...\n"
     ]
    },
    {
     "name": "stdout",
     "output_type": "stream",
     "text": [
      "\tFinished 4 steps --> Train loss = 0.011553643, Valid loss = 0.10414014\n"
     ]
    },
    {
     "name": "stdout",
     "output_type": "stream",
     "text": [
      "Epoch #181...\n"
     ]
    },
    {
     "name": "stdout",
     "output_type": "stream",
     "text": [
      "\tFinished 4 steps --> Train loss = 0.011653516, Valid loss = 0.10111717\n"
     ]
    },
    {
     "name": "stdout",
     "output_type": "stream",
     "text": [
      "Epoch #182...\n"
     ]
    },
    {
     "name": "stdout",
     "output_type": "stream",
     "text": [
      "\tFinished 4 steps --> Train loss = 0.011135859, Valid loss = 0.1065857\n"
     ]
    },
    {
     "name": "stdout",
     "output_type": "stream",
     "text": [
      "Epoch #183...\n"
     ]
    },
    {
     "name": "stdout",
     "output_type": "stream",
     "text": [
      "\tFinished 4 steps --> Train loss = 0.016083919, Valid loss = 0.10758773\n"
     ]
    },
    {
     "name": "stdout",
     "output_type": "stream",
     "text": [
      "Epoch #184...\n"
     ]
    },
    {
     "name": "stdout",
     "output_type": "stream",
     "text": [
      "\tFinished 4 steps --> Train loss = 0.011260139, Valid loss = 0.101401135\n"
     ]
    },
    {
     "name": "stdout",
     "output_type": "stream",
     "text": [
      "Epoch #185...\n"
     ]
    },
    {
     "name": "stdout",
     "output_type": "stream",
     "text": [
      "\tFinished 4 steps --> Train loss = 0.010815321, Valid loss = 0.10395847\n"
     ]
    },
    {
     "name": "stdout",
     "output_type": "stream",
     "text": [
      "Epoch #186...\n"
     ]
    },
    {
     "name": "stdout",
     "output_type": "stream",
     "text": [
      "\tFinished 4 steps --> Train loss = 0.023603298, Valid loss = 0.11468382\n"
     ]
    },
    {
     "name": "stdout",
     "output_type": "stream",
     "text": [
      "Epoch #187...\n"
     ]
    },
    {
     "name": "stdout",
     "output_type": "stream",
     "text": [
      "\tFinished 4 steps --> Train loss = 0.011718114, Valid loss = 0.10147412\n"
     ]
    },
    {
     "name": "stdout",
     "output_type": "stream",
     "text": [
      "Epoch #188...\n"
     ]
    },
    {
     "name": "stdout",
     "output_type": "stream",
     "text": [
      "\tFinished 4 steps --> Train loss = 0.015828876, Valid loss = 0.09856174\n"
     ]
    },
    {
     "name": "stdout",
     "output_type": "stream",
     "text": [
      "Epoch #189...\n"
     ]
    },
    {
     "name": "stdout",
     "output_type": "stream",
     "text": [
      "\tFinished 4 steps --> Train loss = 0.0208859, Valid loss = 0.115390345\n"
     ]
    },
    {
     "name": "stdout",
     "output_type": "stream",
     "text": [
      "Epoch #190..."
     ]
    },
    {
     "name": "stdout",
     "output_type": "stream",
     "text": [
      "\n"
     ]
    },
    {
     "name": "stdout",
     "output_type": "stream",
     "text": [
      "\tFinished 4 steps --> Train loss = 0.012145233, Valid loss = 0.09933726\n"
     ]
    },
    {
     "name": "stdout",
     "output_type": "stream",
     "text": [
      "Epoch #191...\n"
     ]
    },
    {
     "name": "stdout",
     "output_type": "stream",
     "text": [
      "\tFinished 4 steps --> Train loss = 0.013130863, Valid loss = 0.09964316\n"
     ]
    },
    {
     "name": "stdout",
     "output_type": "stream",
     "text": [
      "Epoch #192...\n"
     ]
    },
    {
     "name": "stdout",
     "output_type": "stream",
     "text": [
      "\tFinished 4 steps --> Train loss = 0.020250194, Valid loss = 0.11342565\n"
     ]
    },
    {
     "name": "stdout",
     "output_type": "stream",
     "text": [
      "Epoch #193...\n"
     ]
    },
    {
     "name": "stdout",
     "output_type": "stream",
     "text": [
      "\tFinished 4 steps --> Train loss = 0.02540227, Valid loss = 0.10386034\n"
     ]
    },
    {
     "name": "stdout",
     "output_type": "stream",
     "text": [
      "Epoch #194...\n"
     ]
    },
    {
     "name": "stdout",
     "output_type": "stream",
     "text": [
      "\tFinished 4 steps --> Train loss = 0.014875993, Valid loss = 0.10475319\n"
     ]
    },
    {
     "name": "stdout",
     "output_type": "stream",
     "text": [
      "Epoch #195...\n"
     ]
    },
    {
     "name": "stdout",
     "output_type": "stream",
     "text": [
      "\tFinished 4 steps --> Train loss = 0.024777472, Valid loss = 0.1127591\n"
     ]
    },
    {
     "name": "stdout",
     "output_type": "stream",
     "text": [
      "Epoch #196...\n"
     ]
    },
    {
     "name": "stdout",
     "output_type": "stream",
     "text": [
      "\tFinished 4 steps --> Train loss = 0.03958767, Valid loss = 0.11230842\n"
     ]
    },
    {
     "name": "stdout",
     "output_type": "stream",
     "text": [
      "Epoch #197...\n"
     ]
    },
    {
     "name": "stdout",
     "output_type": "stream",
     "text": [
      "\tFinished 4 steps --> Train loss = 0.031530894, Valid loss = 0.11841496\n"
     ]
    },
    {
     "name": "stdout",
     "output_type": "stream",
     "text": [
      "Epoch #198...\n"
     ]
    },
    {
     "name": "stdout",
     "output_type": "stream",
     "text": [
      "\tFinished 4 steps --> Train loss = 0.013631552, Valid loss = 0.09949516\n"
     ]
    },
    {
     "name": "stdout",
     "output_type": "stream",
     "text": [
      "Epoch #199...\n"
     ]
    },
    {
     "name": "stdout",
     "output_type": "stream",
     "text": [
      "\tFinished 4 steps --> Train loss = 0.015752412, Valid loss = 0.098218456\n"
     ]
    },
    {
     "name": "stdout",
     "output_type": "stream",
     "text": [
      "Epoch #200...\n"
     ]
    },
    {
     "name": "stdout",
     "output_type": "stream",
     "text": [
      "\tFinished 4 steps --> Train loss = 0.017321035, Valid loss = 0.10553919\n"
     ]
    },
    {
     "name": "stdout",
     "output_type": "stream",
     "text": [
      "Epoch #201...\n"
     ]
    },
    {
     "name": "stdout",
     "output_type": "stream",
     "text": [
      "\tFinished 4 steps --> Train loss = 0.012423938, Valid loss = 0.1005518\n"
     ]
    },
    {
     "name": "stdout",
     "output_type": "stream",
     "text": [
      "Epoch #202...\n"
     ]
    },
    {
     "name": "stdout",
     "output_type": "stream",
     "text": [
      "\tFinished 4 steps --> Train loss = 0.012819084, Valid loss = 0.103236645\n"
     ]
    },
    {
     "name": "stdout",
     "output_type": "stream",
     "text": [
      "Epoch #203...\n"
     ]
    },
    {
     "name": "stdout",
     "output_type": "stream",
     "text": [
      "\tFinished 4 steps --> Train loss = 0.009530184, Valid loss = 0.101549156\n"
     ]
    },
    {
     "name": "stdout",
     "output_type": "stream",
     "text": [
      "Epoch #204...\n"
     ]
    },
    {
     "name": "stdout",
     "output_type": "stream",
     "text": [
      "\tFinished 4 steps --> Train loss = 0.009029992, Valid loss = 0.10034691\n"
     ]
    },
    {
     "name": "stdout",
     "output_type": "stream",
     "text": [
      "Epoch #205...\n"
     ]
    },
    {
     "name": "stdout",
     "output_type": "stream",
     "text": [
      "\tFinished 4 steps --> Train loss = 0.010935938, Valid loss = 0.104332626\n"
     ]
    },
    {
     "name": "stdout",
     "output_type": "stream",
     "text": [
      "Epoch #206...\n"
     ]
    },
    {
     "name": "stdout",
     "output_type": "stream",
     "text": [
      "\tFinished 4 steps --> Train loss = 0.010164874, Valid loss = 0.0974631\n"
     ]
    },
    {
     "name": "stdout",
     "output_type": "stream",
     "text": [
      "Epoch #207...\n"
     ]
    },
    {
     "name": "stdout",
     "output_type": "stream",
     "text": [
      "\tFinished 4 steps --> Train loss = 0.010038388, Valid loss = 0.10368799\n"
     ]
    },
    {
     "name": "stdout",
     "output_type": "stream",
     "text": [
      "Epoch #208...\n"
     ]
    },
    {
     "name": "stdout",
     "output_type": "stream",
     "text": [
      "\tFinished 4 steps --> Train loss = 0.008660516, Valid loss = 0.10018163\n"
     ]
    },
    {
     "name": "stdout",
     "output_type": "stream",
     "text": [
      "Epoch #209...\n"
     ]
    },
    {
     "name": "stdout",
     "output_type": "stream",
     "text": [
      "\tFinished 4 steps --> Train loss = 0.008483447, Valid loss = 0.0987111\n"
     ]
    },
    {
     "name": "stdout",
     "output_type": "stream",
     "text": [
      "Epoch #210...\n"
     ]
    },
    {
     "name": "stdout",
     "output_type": "stream",
     "text": [
      "\tFinished 4 steps --> Train loss = 0.010324059, Valid loss = 0.1044726\n"
     ]
    },
    {
     "name": "stdout",
     "output_type": "stream",
     "text": [
      "Epoch #211...\n"
     ]
    },
    {
     "name": "stdout",
     "output_type": "stream",
     "text": [
      "\tFinished 4 steps --> Train loss = 0.008444744, Valid loss = 0.09800814\n"
     ]
    },
    {
     "name": "stdout",
     "output_type": "stream",
     "text": [
      "Epoch #212...\n"
     ]
    },
    {
     "name": "stdout",
     "output_type": "stream",
     "text": [
      "\tFinished 4 steps --> Train loss = 0.008410465, Valid loss = 0.102026775\n"
     ]
    },
    {
     "name": "stdout",
     "output_type": "stream",
     "text": [
      "Epoch #213...\n"
     ]
    },
    {
     "name": "stdout",
     "output_type": "stream",
     "text": [
      "\tFinished 4 steps --> Train loss = 0.008518462, Valid loss = 0.10071071\n"
     ]
    },
    {
     "name": "stdout",
     "output_type": "stream",
     "text": [
      "Epoch #214..."
     ]
    },
    {
     "name": "stdout",
     "output_type": "stream",
     "text": [
      "\n"
     ]
    },
    {
     "name": "stdout",
     "output_type": "stream",
     "text": [
      "\tFinished 4 steps --> Train loss = 0.007823845, Valid loss = 0.099417895\n"
     ]
    },
    {
     "name": "stdout",
     "output_type": "stream",
     "text": [
      "Epoch #215...\n"
     ]
    },
    {
     "name": "stdout",
     "output_type": "stream",
     "text": [
      "\tFinished 4 steps --> Train loss = 0.009499728, Valid loss = 0.102698825\n"
     ]
    },
    {
     "name": "stdout",
     "output_type": "stream",
     "text": [
      "Epoch #216...\n"
     ]
    },
    {
     "name": "stdout",
     "output_type": "stream",
     "text": [
      "\tFinished 4 steps --> Train loss = 0.007837204, Valid loss = 0.098589\n"
     ]
    },
    {
     "name": "stdout",
     "output_type": "stream",
     "text": [
      "Epoch #217...\n"
     ]
    },
    {
     "name": "stdout",
     "output_type": "stream",
     "text": [
      "\tFinished 4 steps --> Train loss = 0.007818374, Valid loss = 0.100729115\n"
     ]
    },
    {
     "name": "stdout",
     "output_type": "stream",
     "text": [
      "Epoch #218...\n"
     ]
    },
    {
     "name": "stdout",
     "output_type": "stream",
     "text": [
      "\tFinished 4 steps --> Train loss = 0.008725535, Valid loss = 0.10148006\n"
     ]
    },
    {
     "name": "stdout",
     "output_type": "stream",
     "text": [
      "Epoch #219...\n"
     ]
    },
    {
     "name": "stdout",
     "output_type": "stream",
     "text": [
      "\tFinished 4 steps --> Train loss = 0.007665754, Valid loss = 0.09806847\n"
     ]
    },
    {
     "name": "stdout",
     "output_type": "stream",
     "text": [
      "Epoch #220...\n"
     ]
    },
    {
     "name": "stdout",
     "output_type": "stream",
     "text": [
      "\tFinished 4 steps --> Train loss = 0.008702951, Valid loss = 0.10161982\n"
     ]
    },
    {
     "name": "stdout",
     "output_type": "stream",
     "text": [
      "Epoch #221...\n"
     ]
    },
    {
     "name": "stdout",
     "output_type": "stream",
     "text": [
      "\tFinished 4 steps --> Train loss = 0.007991008, Valid loss = 0.10015963"
     ]
    },
    {
     "name": "stdout",
     "output_type": "stream",
     "text": [
      "\n",
      "Epoch #222...\n"
     ]
    },
    {
     "name": "stdout",
     "output_type": "stream",
     "text": [
      "\tFinished 4 steps --> Train loss = 0.0073980605, Valid loss = 0.09789881\n"
     ]
    },
    {
     "name": "stdout",
     "output_type": "stream",
     "text": [
      "Epoch #223...\n"
     ]
    },
    {
     "name": "stdout",
     "output_type": "stream",
     "text": [
      "\tFinished 4 steps --> Train loss = 0.009883981, Valid loss = 0.103425406\n"
     ]
    },
    {
     "name": "stdout",
     "output_type": "stream",
     "text": [
      "Epoch #224...\n"
     ]
    },
    {
     "name": "stdout",
     "output_type": "stream",
     "text": [
      "\tFinished 4 steps --> Train loss = 0.007979787, Valid loss = 0.09884045\n"
     ]
    },
    {
     "name": "stdout",
     "output_type": "stream",
     "text": [
      "Epoch #225...\n"
     ]
    },
    {
     "name": "stdout",
     "output_type": "stream",
     "text": [
      "\tFinished 4 steps --> Train loss = 0.007627358, Valid loss = 0.09850105\n"
     ]
    },
    {
     "name": "stdout",
     "output_type": "stream",
     "text": [
      "Epoch #226...\n"
     ]
    },
    {
     "name": "stdout",
     "output_type": "stream",
     "text": [
      "\tFinished 4 steps --> Train loss = 0.01024314, Valid loss = 0.10366049\n"
     ]
    },
    {
     "name": "stdout",
     "output_type": "stream",
     "text": [
      "Epoch #227...\n"
     ]
    },
    {
     "name": "stdout",
     "output_type": "stream",
     "text": [
      "\tFinished 4 steps --> Train loss = 0.008370038, Valid loss = 0.098807566\n"
     ]
    },
    {
     "name": "stdout",
     "output_type": "stream",
     "text": [
      "Epoch #228...\n"
     ]
    },
    {
     "name": "stdout",
     "output_type": "stream",
     "text": [
      "\tFinished 4 steps --> Train loss = 0.00873309, Valid loss = 0.09944057\n"
     ]
    },
    {
     "name": "stdout",
     "output_type": "stream",
     "text": [
      "Epoch #229...\n"
     ]
    },
    {
     "name": "stdout",
     "output_type": "stream",
     "text": [
      "\tFinished 4 steps --> Train loss = 0.010061416, Valid loss = 0.10210888\n"
     ]
    },
    {
     "name": "stdout",
     "output_type": "stream",
     "text": [
      "Epoch #230...\n"
     ]
    },
    {
     "name": "stdout",
     "output_type": "stream",
     "text": [
      "\tFinished 4 steps --> Train loss = 0.007915558, Valid loss = 0.09926698\n"
     ]
    },
    {
     "name": "stdout",
     "output_type": "stream",
     "text": [
      "Epoch #231...\n"
     ]
    },
    {
     "name": "stdout",
     "output_type": "stream",
     "text": [
      "\tFinished 4 steps --> Train loss = 0.008985491, Valid loss = 0.09811438\n"
     ]
    },
    {
     "name": "stdout",
     "output_type": "stream",
     "text": [
      "Epoch #232...\n"
     ]
    },
    {
     "name": "stdout",
     "output_type": "stream",
     "text": [
      "\tFinished 4 steps --> Train loss = 0.014246505, Valid loss = 0.10630893\n"
     ]
    },
    {
     "name": "stdout",
     "output_type": "stream",
     "text": [
      "Epoch #233...\n"
     ]
    },
    {
     "name": "stdout",
     "output_type": "stream",
     "text": [
      "\tFinished 4 steps --> Train loss = 0.008613041, Valid loss = 0.09843898\n"
     ]
    },
    {
     "name": "stdout",
     "output_type": "stream",
     "text": [
      "Epoch #234...\n"
     ]
    },
    {
     "name": "stdout",
     "output_type": "stream",
     "text": [
      "\tFinished 4 steps --> Train loss = 0.0077949865, Valid loss = 0.0993475\n"
     ]
    },
    {
     "name": "stdout",
     "output_type": "stream",
     "text": [
      "Epoch #235...\n"
     ]
    },
    {
     "name": "stdout",
     "output_type": "stream",
     "text": [
      "\tFinished 4 steps --> Train loss = 0.009345461, Valid loss = 0.10376269\n"
     ]
    },
    {
     "name": "stdout",
     "output_type": "stream",
     "text": [
      "Epoch #236...\n"
     ]
    },
    {
     "name": "stdout",
     "output_type": "stream",
     "text": [
      "\tFinished 4 steps --> Train loss = 0.008750786, Valid loss = 0.09445455\n"
     ]
    },
    {
     "name": "stdout",
     "output_type": "stream",
     "text": [
      "Epoch #237..."
     ]
    },
    {
     "name": "stdout",
     "output_type": "stream",
     "text": [
      "\n"
     ]
    },
    {
     "name": "stdout",
     "output_type": "stream",
     "text": [
      "\tFinished 4 steps --> Train loss = 0.009528579, Valid loss = 0.10401987\n"
     ]
    },
    {
     "name": "stdout",
     "output_type": "stream",
     "text": [
      "Epoch #238..."
     ]
    },
    {
     "name": "stdout",
     "output_type": "stream",
     "text": [
      "\n"
     ]
    },
    {
     "name": "stdout",
     "output_type": "stream",
     "text": [
      "\tFinished 4 steps --> Train loss = 0.009459599, Valid loss = 0.101783186\n"
     ]
    },
    {
     "name": "stdout",
     "output_type": "stream",
     "text": [
      "Epoch #239...\n"
     ]
    },
    {
     "name": "stdout",
     "output_type": "stream",
     "text": [
      "\tFinished 4 steps --> Train loss = 0.008102341, Valid loss = 0.09823259\n"
     ]
    },
    {
     "name": "stdout",
     "output_type": "stream",
     "text": [
      "Epoch #240...\n"
     ]
    },
    {
     "name": "stdout",
     "output_type": "stream",
     "text": [
      "\tFinished 4 steps --> Train loss = 0.00764395, Valid loss = 0.09856426\n"
     ]
    },
    {
     "name": "stdout",
     "output_type": "stream",
     "text": [
      "Epoch #241..."
     ]
    },
    {
     "name": "stdout",
     "output_type": "stream",
     "text": [
      "\n"
     ]
    },
    {
     "name": "stdout",
     "output_type": "stream",
     "text": [
      "\tFinished 4 steps --> Train loss = 0.015120971, Valid loss = 0.10742563\n"
     ]
    },
    {
     "name": "stdout",
     "output_type": "stream",
     "text": [
      "Epoch #242...\n"
     ]
    },
    {
     "name": "stdout",
     "output_type": "stream",
     "text": [
      "\tFinished 4 steps --> Train loss = 0.008360421, Valid loss = 0.09794296\n"
     ]
    },
    {
     "name": "stdout",
     "output_type": "stream",
     "text": [
      "Epoch #243...\n"
     ]
    },
    {
     "name": "stdout",
     "output_type": "stream",
     "text": [
      "\tFinished 4 steps --> Train loss = 0.00683859, Valid loss = 0.09774874\n"
     ]
    },
    {
     "name": "stdout",
     "output_type": "stream",
     "text": [
      "Epoch #244...\n"
     ]
    },
    {
     "name": "stdout",
     "output_type": "stream",
     "text": [
      "\tFinished 4 steps --> Train loss = 0.008726604, Valid loss = 0.10281006\n"
     ]
    },
    {
     "name": "stdout",
     "output_type": "stream",
     "text": [
      "Epoch #245...\n"
     ]
    },
    {
     "name": "stdout",
     "output_type": "stream",
     "text": [
      "\tFinished 4 steps --> Train loss = 0.0077564004, Valid loss = 0.09472846\n"
     ]
    },
    {
     "name": "stdout",
     "output_type": "stream",
     "text": [
      "Epoch #246...\n"
     ]
    },
    {
     "name": "stdout",
     "output_type": "stream",
     "text": [
      "\tFinished 4 steps --> Train loss = 0.007687532, Valid loss = 0.100494765\n"
     ]
    },
    {
     "name": "stdout",
     "output_type": "stream",
     "text": [
      "Epoch #247...\n"
     ]
    },
    {
     "name": "stdout",
     "output_type": "stream",
     "text": [
      "\tFinished 4 steps --> Train loss = 0.00760715, Valid loss = 0.10096383\n"
     ]
    },
    {
     "name": "stdout",
     "output_type": "stream",
     "text": [
      "Epoch #248...\n"
     ]
    },
    {
     "name": "stdout",
     "output_type": "stream",
     "text": [
      "\tFinished 4 steps --> Train loss = 0.0075592557, Valid loss = 0.096023075\n"
     ]
    },
    {
     "name": "stdout",
     "output_type": "stream",
     "text": [
      "Epoch #249...\n"
     ]
    },
    {
     "name": "stdout",
     "output_type": "stream",
     "text": [
      "\tFinished 4 steps --> Train loss = 0.011127655, Valid loss = 0.10390345\n"
     ]
    },
    {
     "name": "stdout",
     "output_type": "stream",
     "text": [
      "Epoch #250...\n"
     ]
    },
    {
     "name": "stdout",
     "output_type": "stream",
     "text": [
      "\tFinished 4 steps --> Train loss = 0.0067437477, Valid loss = 0.09743241\n"
     ]
    }
   ],
   "source": [
    "for epoch_idx = num_epochs_dice_hd+1 : 250\n",
    "    # curr_time_epoch, curr_times_step, curr_train_losses, curr_valid_losses, curr_train_dice, curr_train_hd, curr_all_dice, \n",
    "    # curr_valid_dice, curr_valid_hd, curr_all_hd = train_1_epoch_with_DICE_and_HD!(epoch_idx, model2, model_ps2, traindl, validdl, optimizer)\n",
    "    curr_time_epoch, curr_times_step, curr_train_losses, curr_valid_losses =\n",
    "    train_1_epoch_with_DICE_and_HD!(epoch_idx, model2, model_ps2, traindl, validdl, optimizer)\n",
    "    \n",
    "    # Record data\n",
    "    push!(epoch_times_dice_hd, curr_time_epoch)\n",
    "    for i in curr_times_step\n",
    "        push!(step_times_dice_hd, i)\n",
    "    end\n",
    "    push!(epoch_train_losses_dice_hd, curr_train_losses)\n",
    "    push!(epoch_valid_losses_dice_hd, curr_valid_losses)\n",
    "    # push!(train_dice_metric_epoch_dice_hd, curr_train_dice)\n",
    "    # push!(valid_dice_metric_epoch_dice_hd, curr_valid_dice)\n",
    "    # push!(train_hd_metric_epoch_dice_hd, curr_train_hd)\n",
    "    # push!(valid_hd_metric_epoch_dice_hd, curr_valid_hd)\n",
    "    # push!(all_dice_metric_epoch_dice_hd, curr_all_dice)\n",
    "    # push!(all_hd_metric_epoch_dice_hd, curr_all_hd)\n",
    "    # if epoch_idx % 25 == 0\n",
    "    #     #save model\n",
    "    #     savetaskmodel(string(\"savedmodels/Dice_HD_\", epoch_idx, \".jld2\"), task, model2, force = true) # saving as cpu model\n",
    "    # end\n",
    "end"
   ]
  },
  {
   "cell_type": "code",
   "execution_count": 408,
   "metadata": {},
   "outputs": [
    {
     "data": {
      "text/plain": [
       "0.9102198798798798"
      ]
     },
     "metadata": {},
     "output_type": "display_data"
    }
   ],
   "source": [
    "mean(step_times_dice_hd[2:end])*1e-9"
   ]
  },
  {
   "cell_type": "code",
   "execution_count": 409,
   "metadata": {},
   "outputs": [
    {
     "data": {
      "text/plain": [
       "0.30429"
      ]
     },
     "metadata": {},
     "output_type": "display_data"
    }
   ],
   "source": [
    "minimum(step_times_dice_hd)*1e-9"
   ]
  },
  {
   "cell_type": "code",
   "execution_count": 410,
   "metadata": {},
   "outputs": [
    {
     "data": {
      "text/plain": [
       "2.62101"
      ]
     },
     "metadata": {},
     "output_type": "display_data"
    }
   ],
   "source": [
    "minimum(epoch_times_dice_hd)*1e-9"
   ]
  },
  {
   "cell_type": "code",
   "execution_count": 411,
   "metadata": {},
   "outputs": [
    {
     "data": {
      "text/plain": [
       "3.639100120481928"
      ]
     },
     "metadata": {},
     "output_type": "display_data"
    }
   ],
   "source": [
    "mean(epoch_times_dice_hd[2:end])*1e-9"
   ]
  },
  {
   "attachments": {},
   "cell_type": "markdown",
   "metadata": {},
   "source": [
    "## Inspect results"
   ]
  },
  {
   "cell_type": "code",
   "execution_count": 74,
   "metadata": {},
   "outputs": [],
   "source": [
    "# model_trained = learner1.model\n",
    "model_trained = model2\n",
    "(example1, ) = validdl\n",
    "img_mask, mask_dtm = example1\n",
    "x1, y1 = img_mask[1], img_mask[2] |> cpu\n",
    "y_pred1 = model_trained(x1) |> cpu\n",
    "chan_idx = 5;"
   ]
  },
  {
   "cell_type": "code",
   "execution_count": 405,
   "metadata": {},
   "outputs": [
    {
     "data": {
      "image/png": "[encoded data removed]",
      "text/plain": [
       "Scene (800px, 600px):\n",
       "  0 Plots\n",
       "  1 Child Scene:\n",
       "    └ Scene (800px, 600px)"
      ]
     },
     "metadata": {},
     "output_type": "display_data"
    }
   ],
   "source": [
    "CairoMakie.heatmap((y1[43,:,:,1,1]))"
   ]
  },
  {
   "cell_type": "code",
   "execution_count": 406,
   "metadata": {},
   "outputs": [
    {
     "data": {
      "image/png": "[encoded data removed]",
      "text/plain": [
       "Scene (800px, 600px):\n",
       "  0 Plots\n",
       "  1 Child Scene:\n",
       "    └ Scene (800px, 600px)"
      ]
     },
     "metadata": {},
     "output_type": "display_data"
    }
   ],
   "source": [
    "CairoMakie.heatmap((y_pred1[43,:,:,2,1]))"
   ]
  },
  {
   "cell_type": "code",
   "execution_count": 72,
   "metadata": {},
   "outputs": [
    {
     "data": {
      "text/plain": [
       "\"Julia_Loop_Results/Epoch_Time_Manuer.csv\""
      ]
     },
     "metadata": {},
     "output_type": "display_data"
    }
   ],
   "source": [
    "# save 4 data\n",
    "df_epoch = DataFrame(epoch_times_dice_hd = epoch_times_dice_hd)\n",
    "# df_epoch = DataFrame(epoch_times_dice = epoch_times_dice, epoch_times_dice_hd = epoch_times_dice_hd)\n",
    "CSV.write(\"Julia_Loop_Results/Epoch_Time_Manuer.csv\", df_epoch)"
   ]
  },
  {
   "cell_type": "code",
   "execution_count": 73,
   "metadata": {},
   "outputs": [
    {
     "data": {
      "text/plain": [
       "\"Julia_Loop_Results/Step_Time_Manuer.csv\""
      ]
     },
     "metadata": {},
     "output_type": "display_data"
    }
   ],
   "source": [
    "df_step = DataFrame(step_times_dice_hd = step_times_dice_hd)\n",
    "# df_step = DataFrame(step_times_dice = step_times_dice, step_times_dice_hd = step_times_dice_hd)\n",
    "CSV.write(\"Julia_Loop_Results/Step_Time_Manuer.csv\", df_step)"
   ]
  },
  {
   "cell_type": "code",
   "execution_count": 32,
   "metadata": {},
   "outputs": [
    {
     "data": {
      "text/plain": [
       "\"Julia_Loop_Results/Julia_Loop_Loss_jan_8.csv\""
      ]
     },
     "metadata": {},
     "output_type": "display_data"
    }
   ],
   "source": [
    "df_loss = DataFrame(train_losses_dice = epoch_train_losses_dice, train_losses_dice_hd = epoch_train_losses_dice_hd, \n",
    "valid_losses_dice = epoch_valid_losses_dice, valid_losses_dice_hd = epoch_valid_losses_dice_hd)\n",
    "CSV.write(\"Julia_Loop_Results/Julia_Loop_Loss_jan_8.csv\", df_loss)"
   ]
  },
  {
   "cell_type": "code",
   "execution_count": 33,
   "metadata": {},
   "outputs": [
    {
     "data": {
      "text/plain": [
       "\"Julia_Loop_Results/Julia_Loop_Dice_Metric_jan_8.csv\""
      ]
     },
     "metadata": {},
     "output_type": "display_data"
    }
   ],
   "source": [
    "df_dice_m = DataFrame(train_dice_metric_dice = train_dice_metric_epoch_dice, valid_dice_metric_dice = valid_dice_metric_epoch_dice, \n",
    "all_dice_metric_dice = all_dice_metric_epoch_dice, train_dice_metric_dice_hd = train_dice_metric_epoch_dice_hd,\n",
    "valid_dice_metric_dice_hd = valid_dice_metric_epoch_dice_hd, all_dice_metric_dice_hd = all_dice_metric_epoch_dice_hd)\n",
    "CSV.write(\"Julia_Loop_Results/Julia_Loop_Dice_Metric_jan_8.csv\", df_dice_m)"
   ]
  },
  {
   "cell_type": "code",
   "execution_count": 34,
   "metadata": {},
   "outputs": [
    {
     "data": {
      "text/plain": [
       "\"Julia_Loop_Results/Julia_Loop_HD_Metric_jan_8.csv\""
      ]
     },
     "metadata": {},
     "output_type": "display_data"
    }
   ],
   "source": [
    "df_hd_m = DataFrame(train_hd_metric_dice = train_hd_metric_epoch_dice, valid_hd_metric_dice = valid_hd_metric_epoch_dice, \n",
    "all_hd_metric_dice = all_hd_metric_epoch_dice, train_hd_metric_dice_hd = train_hd_metric_epoch_dice_hd,\n",
    "valid_hd_metric_dice_hd = valid_hd_metric_epoch_dice_hd, all_hd_metric_dice_hd = all_hd_metric_epoch_dice_hd)\n",
    "CSV.write(\"Julia_Loop_Results/Julia_Loop_HD_Metric_jan_8.csv\", df_hd_m)"
   ]
  },
  {
   "cell_type": "code",
   "execution_count": 35,
   "metadata": {},
   "outputs": [
    {
     "data": {
      "text/plain": [
       "(250,)"
      ]
     },
     "metadata": {},
     "output_type": "display_data"
    }
   ],
   "source": [
    "size(epoch_times_dice)"
   ]
  },
  {
   "cell_type": "code",
   "execution_count": 43,
   "metadata": {},
   "outputs": [],
   "source": []
  }
 ],
 "metadata": {
  "kernelspec": {
   "display_name": "Julia 1.8.4",
   "language": "julia",
   "name": "julia-1.8"
  },
  "language_info": {
   "file_extension": ".jl",
   "mimetype": "application/julia",
   "name": "julia",
   "version": "1.8.4"
  },
  "orig_nbformat": 4,
  "vscode": {
   "interpreter": {
    "hash": "7d9ef0e181354117f9ce70876735363e58fcc077c1120e406476deb8970979d3"
   }
  }
 },
 "nbformat": 4,
 "nbformat_minor": 2
}
