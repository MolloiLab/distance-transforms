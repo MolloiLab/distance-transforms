{
 "cells": [
  {
   "cell_type": "code",
   "execution_count": 1,
   "metadata": {},
   "outputs": [
    {
     "name": "stderr",
     "output_type": "stream",
     "text": [
      "\u001b[32m\u001b[1m  Activating\u001b[22m\u001b[39m project at `c:\\Users\\wenbl13\\Desktop\\Wenbo_Timing`\n"
     ]
    }
   ],
   "source": [
    "using Pkg\n",
    "Pkg.activate(\".\")\n",
    "# Pkg.instantiate()\n",
    "# Pkg.add(\"CUDAKernels\")"
   ]
  },
  {
   "cell_type": "code",
   "execution_count": 2,
   "metadata": {},
   "outputs": [],
   "source": [
    "using CSV\n",
    "using CUDA\n",
    "using Dates\n",
    "using Tullio\n",
    "using DataFrames\n",
    "using Statistics\n",
    "using CUDAKernels\n",
    "using LinearAlgebra\n",
    "using ChainRulesCore\n",
    "using BenchmarkTools \n",
    "using KernelAbstractions\n",
    "using DistanceTransforms\n",
    "using FastAI, FastVision, Flux"
   ]
  },
  {
   "cell_type": "code",
   "execution_count": 3,
   "metadata": {},
   "outputs": [
    {
     "name": "stdout",
     "output_type": "stream",
     "text": [
      "GPU threads = 768.\n"
     ]
    },
    {
     "data": {
      "text/plain": [
       "(11,)"
      ]
     },
     "metadata": {},
     "output_type": "display_data"
    }
   ],
   "source": [
    "ks = DistanceTransforms.get_GPU_kernels(Wenbo())\n",
    "size(ks)"
   ]
  },
  {
   "attachments": {},
   "cell_type": "markdown",
   "metadata": {},
   "source": [
    "# Loss functions"
   ]
  },
  {
   "attachments": {},
   "cell_type": "markdown",
   "metadata": {},
   "source": [
    "## Not in loop"
   ]
  },
  {
   "cell_type": "code",
   "execution_count": 4,
   "metadata": {},
   "outputs": [
    {
     "data": {
      "text/plain": [
       "hausdorff_loss_cpu_Wenbo (generic function with 1 method)"
      ]
     },
     "metadata": {},
     "output_type": "display_data"
    }
   ],
   "source": [
    "# input format = d1 * ... * dn, (n <= 3)\n",
    "function hausdorff_loss_cpu_Wenbo(ŷ, y)\n",
    "    # DT\n",
    "    pred_mask_dtm = DistanceTransforms.transform(ŷ, Wenbo(), 16)\n",
    "    mask_dtm = DistanceTransforms.transform(y, Wenbo(), 16)\n",
    "    # Loss\n",
    "    temp = ((ŷ .- y) .^ 2) .* (pred_mask_dtm .+ mask_dtm)\n",
    "    loss_hd = sum(temp) / length(temp)\n",
    "    return loss_hd\n",
    "end"
   ]
  },
  {
   "cell_type": "code",
   "execution_count": 5,
   "metadata": {},
   "outputs": [
    {
     "data": {
      "text/plain": [
       "hausdorff_loss_gpu_Wenbo (generic function with 1 method)"
      ]
     },
     "metadata": {},
     "output_type": "display_data"
    }
   ],
   "source": [
    "# input format = d1 * ... * dn, (n <= 3)\n",
    "function hausdorff_loss_gpu_Wenbo(ŷ::CuArray, y::CuArray)\n",
    "    # DT\n",
    "    pred_mask_dtm = DistanceTransforms.transform(ŷ, Wenbo(), ks)\n",
    "    mask_dtm = DistanceTransforms.transform(y, Wenbo(), ks)\n",
    "    # Loss\n",
    "    temp = ((ŷ .- y) .^ 2) .* (pred_mask_dtm .+ mask_dtm)\n",
    "    loss_hd = sum(temp) / length(temp)\n",
    "    return loss_hd\n",
    "end"
   ]
  },
  {
   "cell_type": "code",
   "execution_count": 6,
   "metadata": {},
   "outputs": [
    {
     "data": {
      "text/plain": [
       "hausdorff_loss_cpu_Maurer (generic function with 1 method)"
      ]
     },
     "metadata": {},
     "output_type": "display_data"
    }
   ],
   "source": [
    "# input format = d1 * ... * dn, (n <= 3)\n",
    "function hausdorff_loss_cpu_Maurer(ŷ, y)\n",
    "    # DT\n",
    "    pred_mask_dtm = DistanceTransforms.transform(round.(ŷ), Maurer()) .^ 2\n",
    "    mask_dtm = DistanceTransforms.transform(y, Maurer()) .^ 2\n",
    "    # Loss\n",
    "    temp = ((ŷ .- y) .^ 2) .* (pred_mask_dtm .+ mask_dtm)\n",
    "    loss_hd = sum(temp) / length(temp)\n",
    "    return loss_hd\n",
    "end"
   ]
  },
  {
   "cell_type": "code",
   "execution_count": 7,
   "metadata": {},
   "outputs": [
    {
     "data": {
      "text/plain": [
       "hausdorff_loss_gpu_Maurer (generic function with 1 method)"
      ]
     },
     "metadata": {},
     "output_type": "display_data"
    }
   ],
   "source": [
    "# input format = d1 * ... * dn, (n <= 3)\n",
    "function hausdorff_loss_gpu_Maurer(ŷ::CuArray, y::CuArray)\n",
    "    # DT\n",
    "    pred_mask, mask = ŷ |> cpu, y |> cpu\n",
    "    pred_mask_dtm = DistanceTransforms.transform(round.(pred_mask), Maurer()) .^ 2 |> gpu\n",
    "    mask_dtm = DistanceTransforms.transform(mask, Maurer()) .^ 2 |> gpu\n",
    "    # Loss\n",
    "    temp = ((ŷ .- y) .^ 2) .* (pred_mask_dtm .+ mask_dtm)\n",
    "    loss_hd = sum(temp) / length(temp)\n",
    "    return loss_hd\n",
    "end"
   ]
  },
  {
   "attachments": {},
   "cell_type": "markdown",
   "metadata": {},
   "source": [
    "## In loop"
   ]
  },
  {
   "attachments": {},
   "cell_type": "markdown",
   "metadata": {},
   "source": [
    "### Wenbo"
   ]
  },
  {
   "cell_type": "code",
   "execution_count": 8,
   "metadata": {},
   "outputs": [
    {
     "data": {
      "text/plain": [
       "hausdorff_loss_cpu_Wenbo_loop (generic function with 1 method)"
      ]
     },
     "metadata": {},
     "output_type": "display_data"
    }
   ],
   "source": [
    "# input format = d1 * ... * dn * channel * batch, (n <= 3)\n",
    "function hausdorff_loss_cpu_Wenbo_loop(ŷ, y)\n",
    "    ŷ_dtm = 0\n",
    "    y_dtm = 0\n",
    "    ignore_derivatives() do\n",
    "        ŷ_dtm = DistanceTransforms.transform(true, ŷ, Wenbo(), 0)\n",
    "        y_dtm = DistanceTransforms.transform(true, y, Wenbo(), 0)\n",
    "    end\n",
    "    temp = ((ŷ .- y) .^ 2) .* (ŷ_dtm .+ y_dtm)\n",
    "    loss_hd = sum(temp) / length(temp)\n",
    "    return loss_hd\n",
    "end"
   ]
  },
  {
   "cell_type": "code",
   "execution_count": 9,
   "metadata": {},
   "outputs": [
    {
     "data": {
      "text/plain": [
       "hausdorff_loss_gpu_Wenbo_loop (generic function with 1 method)"
      ]
     },
     "metadata": {},
     "output_type": "display_data"
    }
   ],
   "source": [
    "# input format = d1 * ... * dn * channel * batch, (n <= 3)\n",
    "function hausdorff_loss_gpu_Wenbo_loop(ŷ::CuArray, y::CuArray)\n",
    "    ŷ_dtm = 0\n",
    "    y_dtm = 0\n",
    "    ignore_derivatives() do\n",
    "        ŷ_dtm = DistanceTransforms.transform(true, ŷ, Wenbo(), ks)\n",
    "        y_dtm = DistanceTransforms.transform(true, y, Wenbo(), ks)\n",
    "    end\n",
    "    temp = ((ŷ .- y) .^ 2) .* (ŷ_dtm .+ y_dtm)\n",
    "    loss_hd = sum(temp) / length(temp)\n",
    "    return loss_hd\n",
    "end"
   ]
  },
  {
   "attachments": {},
   "cell_type": "markdown",
   "metadata": {},
   "source": [
    "### Maurer"
   ]
  },
  {
   "attachments": {},
   "cell_type": "markdown",
   "metadata": {},
   "source": [
    "### 2D"
   ]
  },
  {
   "cell_type": "code",
   "execution_count": 10,
   "metadata": {},
   "outputs": [
    {
     "data": {
      "text/plain": [
       "hausdorff_loss_2d_cpu_Maurer_loop (generic function with 1 method)"
      ]
     },
     "metadata": {},
     "output_type": "display_data"
    }
   ],
   "source": [
    "# input format = d1 * d2 * channel * batch\n",
    "function hausdorff_loss_2d_cpu_Maurer_loop(ŷ, y)\n",
    "    ŷ_dtm = similar(ŷ)\n",
    "    y_dtm = similar(y)\n",
    "    ignore_derivatives() do\n",
    "        ŷ_rounded = round.(ŷ)\n",
    "        s = size(ŷ)\n",
    "        for batch = 1 : s[4]\n",
    "            for channel = 1: s[3]\n",
    "                ŷ_dtm[:,:, channel, batch] = DistanceTransforms.transform(ŷ_rounded[:,:, channel, batch], Maurer()) # Maurer\n",
    "                y_dtm[:,:, channel, batch] = DistanceTransforms.transform(y[:,:, channel, batch], Maurer()) # Maurer\n",
    "            end\n",
    "        end\n",
    "    end\n",
    "    temp = ((ŷ .- y) .^ 2) .* (ŷ_dtm .+ y_dtm)\n",
    "    loss_hd = sum(temp) / length(temp)\n",
    "    return loss_hd\n",
    "end"
   ]
  },
  {
   "cell_type": "code",
   "execution_count": 11,
   "metadata": {},
   "outputs": [
    {
     "data": {
      "text/plain": [
       "hausdorff_loss_2d_gpu_Maurer_loop (generic function with 1 method)"
      ]
     },
     "metadata": {},
     "output_type": "display_data"
    }
   ],
   "source": [
    "# input format = d1 * d2 * channel * batch\n",
    "function hausdorff_loss_2d_gpu_Maurer_loop(ŷ::CuArray, y::CuArray)\n",
    "    ŷ_dtm = similar(ŷ)\n",
    "    y_dtm = similar(y)\n",
    "    ignore_derivatives() do\n",
    "        ŷ_cpu = round.(ŷ) |> cpu\n",
    "        y_cpu = y |> cpu\n",
    "        s = size(ŷ)\n",
    "        for batch = 1 : s[4]\n",
    "            for channel = 1: s[3]\n",
    "                ŷ_dtm[:,:, channel, batch] = DistanceTransforms.transform(ŷ_cpu[:,:, channel, batch], Maurer()) # Maurer\n",
    "                y_dtm[:,:, channel, batch] = DistanceTransforms.transform(y_cpu[:,:, channel, batch], Maurer()) # Maurer\n",
    "            end\n",
    "        end\n",
    "        ŷ_dtm = ŷ_dtm |> gpu\n",
    "        y_dtm = y_dtm |> gpu\n",
    "    end\n",
    "    temp = ((ŷ .- y) .^ 2) .* (ŷ_dtm .+ y_dtm)\n",
    "    loss_hd = sum(temp) / length(temp)\n",
    "    return loss_hd\n",
    "end"
   ]
  },
  {
   "cell_type": "markdown",
   "metadata": {},
   "source": [
    "### 3D"
   ]
  },
  {
   "cell_type": "code",
   "execution_count": 12,
   "metadata": {},
   "outputs": [
    {
     "data": {
      "text/plain": [
       "hausdorff_loss_3d_cpu_Maurer_loop (generic function with 1 method)"
      ]
     },
     "metadata": {},
     "output_type": "display_data"
    }
   ],
   "source": [
    "# input format = d1 * d2 * d3 * channel * batch\n",
    "function hausdorff_loss_3d_cpu_Maurer_loop(ŷ, y)\n",
    "    ŷ_dtm = similar(ŷ)\n",
    "    y_dtm = similar(y)\n",
    "    ignore_derivatives() do\n",
    "        ŷ_rounded = round.(ŷ)\n",
    "        s = size(ŷ)\n",
    "        for batch = 1 : s[5]\n",
    "            for channel = 1: s[4]\n",
    "                ŷ_dtm[:,:,:, channel, batch] = DistanceTransforms.transform(ŷ_rounded[:,:,:, channel, batch], Maurer()) # Maurer\n",
    "                y_dtm[:,:,:, channel, batch] = DistanceTransforms.transform(y[:,:,:, channel, batch], Maurer()) # Maurer\n",
    "            end\n",
    "        end\n",
    "    end\n",
    "    temp = ((ŷ .- y) .^ 2) .* (ŷ_dtm .+ y_dtm)\n",
    "    loss_hd = sum(temp) / length(temp)\n",
    "    return loss_hd\n",
    "end"
   ]
  },
  {
   "cell_type": "code",
   "execution_count": 13,
   "metadata": {},
   "outputs": [
    {
     "data": {
      "text/plain": [
       "hausdorff_loss_3d_gpu_Maurer_loop (generic function with 1 method)"
      ]
     },
     "metadata": {},
     "output_type": "display_data"
    }
   ],
   "source": [
    "# input format = d1 * d2 * channel * batch\n",
    "function hausdorff_loss_3d_gpu_Maurer_loop(ŷ::CuArray, y::CuArray)\n",
    "    ŷ_dtm = similar(ŷ)\n",
    "    y_dtm = similar(y)\n",
    "    ignore_derivatives() do\n",
    "        ŷ_cpu = round.(ŷ) |> cpu\n",
    "        y_cpu = y |> cpu\n",
    "        s = size(ŷ)\n",
    "        for batch = 1 : s[5]\n",
    "            for channel = 1: s[4]\n",
    "                ŷ_dtm[:,:,:, channel, batch] = DistanceTransforms.transform(ŷ_cpu[:,:,:, channel, batch], Maurer()) # Maurer\n",
    "                y_dtm[:,:,:, channel, batch] = DistanceTransforms.transform(y_cpu[:,:,:, channel, batch], Maurer()) # Maurer\n",
    "            end\n",
    "        end\n",
    "        ŷ_dtm = ŷ_dtm |> gpu\n",
    "        y_dtm = y_dtm |> gpu\n",
    "    end\n",
    "    temp = ((ŷ .- y) .^ 2) .* (ŷ_dtm .+ y_dtm)\n",
    "    loss_hd = sum(temp) / length(temp)\n",
    "    return loss_hd\n",
    "end"
   ]
  },
  {
   "attachments": {},
   "cell_type": "markdown",
   "metadata": {},
   "source": [
    "# Prepare other things for test"
   ]
  },
  {
   "cell_type": "markdown",
   "metadata": {},
   "source": [
    "## Create 2D U-Net"
   ]
  },
  {
   "cell_type": "code",
   "execution_count": 14,
   "metadata": {},
   "outputs": [
    {
     "data": {
      "text/plain": [
       "unet2D_new (generic function with 1 method)"
      ]
     },
     "metadata": {},
     "output_type": "display_data"
    }
   ],
   "source": [
    "conv = (stride, in, out) -> Conv((3, 3), in=>out, stride=stride, pad=SamePad())\n",
    "tran = (stride, in, out) -> ConvTranspose((3, 3), in=>out, stride=stride, pad=SamePad())\n",
    "\n",
    "conv1 = (in, out) -> Chain(conv(1, in, out), BatchNorm(out, leakyrelu))\n",
    "conv2 = (in, out) -> Chain(conv(2, in, out), BatchNorm(out, leakyrelu))\n",
    "conv3 = (in, out) -> Chain(conv(1, in, out), x -> softmax(x; dims = 3))\n",
    "tran2 = (in, out) -> Chain(tran(2, in, out), BatchNorm(out, leakyrelu))\n",
    "\n",
    "function unet2D_new(in_chs, lbl_chs)\n",
    "    # Contracting layers\n",
    "    l1 = Chain(conv1(in_chs, 8))\n",
    "    l2 = Chain(l1, conv2(8, 16), conv1(16, 16))\n",
    "    l3 = Chain(l2, conv2(16, 32), conv1(32, 32))\n",
    "    l4 = Chain(l3, conv2(32, 64), conv1(64, 64))\n",
    "    l5 = Chain(l4, conv2(64, 128), conv1(128, 128))\n",
    "\n",
    "    # Expanding layers\n",
    "    l6 = Chain(l5, tran2(128, 64))\n",
    "    l7 = Chain(Parallel(FastVision.Models.catchannels,l4,l6), conv1(128, 64), tran2(64, 32))\n",
    "    l8 = Chain(Parallel(FastVision.Models.catchannels,l3,l7), conv1(64, 32), tran2(32, 16))\n",
    "    l9 = Chain(Parallel(FastVision.Models.catchannels,l2,l8), conv1(32, 16), tran2(16, 8))\n",
    "    l10 = Chain(l9, conv3(8, lbl_chs))\n",
    "end"
   ]
  },
  {
   "attachments": {},
   "cell_type": "markdown",
   "metadata": {},
   "source": [
    "Test model"
   ]
  },
  {
   "cell_type": "code",
   "execution_count": 15,
   "metadata": {},
   "outputs": [
    {
     "data": {
      "text/plain": [
       "(96, 96, 2, 1)"
      ]
     },
     "metadata": {},
     "output_type": "display_data"
    }
   ],
   "source": [
    "x_test = rand(Float32, 96, 96, 1, 1)\n",
    "m_test = unet2D_new(1, 2)\n",
    "o = m_test(x_test)\n",
    "o |> size"
   ]
  },
  {
   "attachments": {},
   "cell_type": "markdown",
   "metadata": {},
   "source": [
    "## Create 3D U-Net"
   ]
  },
  {
   "cell_type": "code",
   "execution_count": 16,
   "metadata": {},
   "outputs": [
    {
     "name": "stderr",
     "output_type": "stream",
     "text": [
      "WARNING: both Losses and NNlib export \"ctc_loss\"; uses of it in module Flux must be qualified\n"
     ]
    },
    {
     "data": {
      "text/plain": [
       "unet3D_new (generic function with 1 method)"
      ]
     },
     "metadata": {},
     "output_type": "display_data"
    }
   ],
   "source": [
    "conv3d = (stride, in, out) -> Conv((3, 3, 3), in=>out, stride=stride, pad=SamePad())\n",
    "tran3d = (stride, in, out) -> ConvTranspose((3, 3, 3), in=>out, stride=stride, pad=SamePad())\n",
    "\n",
    "conv13d = (in, out) -> Chain(conv3d(1, in, out), BatchNorm(out, leakyrelu))\n",
    "conv23d = (in, out) -> Chain(conv3d(2, in, out), BatchNorm(out, leakyrelu))\n",
    "conv33d = (in, out) -> Chain(conv3d(1, in, out), x -> softmax(x; dims = 4))\n",
    "tran23d = (in, out) -> Chain(tran3d(2, in, out), BatchNorm(out, leakyrelu))\n",
    "\n",
    "\n",
    "\n",
    "function unet3D_new(in_chs, lbl_chs)\n",
    "    # Contracting layers\n",
    "    l1 = Chain(conv13d(in_chs, 8))\n",
    "    l2 = Chain(l1, conv23d(8, 16), conv13d(16, 16))\n",
    "    l3 = Chain(l2, conv23d(16, 32), conv13d(32, 32))\n",
    "    l4 = Chain(l3, conv23d(32, 64), conv13d(64, 64))\n",
    "    l5 = Chain(l4, conv23d(64, 128), conv13d(128, 128))\n",
    "\n",
    "    # Expanding layers\n",
    "    l6 = Chain(l5, tran23d(128, 64))\n",
    "    l7 = Chain(Parallel(FastVision.Models.catchannels,l4,l6), conv13d(128, 64), tran23d(64, 32))\n",
    "    l8 = Chain(Parallel(FastVision.Models.catchannels,l3,l7), conv13d(64, 32), tran23d(32, 16))\n",
    "    l9 = Chain(Parallel(FastVision.Models.catchannels,l2,l8), conv13d(32, 16), tran23d(16, 8))\n",
    "    l10 = Chain(l9, conv33d(8, lbl_chs))\n",
    "end"
   ]
  },
  {
   "attachments": {},
   "cell_type": "markdown",
   "metadata": {},
   "source": [
    "Test model"
   ]
  },
  {
   "cell_type": "code",
   "execution_count": 17,
   "metadata": {},
   "outputs": [
    {
     "data": {
      "text/plain": [
       "(96, 96, 96, 2, 1)"
      ]
     },
     "metadata": {},
     "output_type": "display_data"
    }
   ],
   "source": [
    "x_test = rand(Float32, 96, 96, 96, 1, 1)\n",
    "m_test = unet3D_new(1, 2)\n",
    "o = m_test(x_test)\n",
    "o |> size"
   ]
  },
  {
   "attachments": {},
   "cell_type": "markdown",
   "metadata": {},
   "source": [
    "## Create test cases"
   ]
  },
  {
   "cell_type": "code",
   "execution_count": 18,
   "metadata": {},
   "outputs": [
    {
     "name": "stdout",
     "output_type": "stream",
     "text": [
      "2D 2 --> 2D 23 --> 2D 44 --> 2D 66 --> 2D 87 --> 2D 108 --> 2D 130 --> 2D 151 --> 2D 172 --> 2D 193 --> 2D 214 --> 2D 236 --> 2D 257 --> 2D 278 --> 2D 300 --> 2D 321 --> 2D 342 --> 2D 363 --> 2D 384 --> 2D 406 --> 2D 427 --> 2D 448 --> 2D 470 --> 2D 491 --> 2D 512 --> \n"
     ]
    },
    {
     "name": "stdout",
     "output_type": "stream",
     "text": [
      "2DLoop 16 --> 2DLoop 32 --> 2DLoop 48 --> 2DLoop 64 --> 2DLoop 80 --> 2DLoop 96 --> 2DLoop 112 --> 2DLoop 128 --> 2DLoop 144 --> 2DLoop 160 --> 2DLoop 176 --> 2DLoop 192 --> 2DLoop 208 --> 2DLoop 224 --> 2DLoop 240 --> 2DLoop 256 --> 2DLoop 272 --> 2DLoop 288 --> 2DLoop 304 --> 2DLoop 320 --> 2DLoop 336 --> 2DLoop 352 --> 2DLoop 368 --> 2DLoop 384 --> 2DLoop 400 --> 2DLoop 416 --> 2DLoop 432 --> 2DLoop 448 --> 2DLoop 464 --> 2DLoop 480 --> 2DLoop 496 --> 2DLoop 512 --> \n",
      "3D 2 --> "
     ]
    },
    {
     "name": "stdout",
     "output_type": "stream",
     "text": [
      "3D 7 --> 3D 12 --> 3D 18 --> 3D 23 --> 3D 28 --> 3D 34 --> 3D 39 --> 3D 44 --> 3D 49 --> 3D 54 --> 3D 60 --> 3D 65 --> 3D 70 --> 3D 76 --> 3D 81 --> 3D 86 --> 3D 91 --> 3D 96 --> 3D 102 --> 3D 107 --> 3D 112 --> 3D 118 --> 3D 123 --> "
     ]
    },
    {
     "name": "stdout",
     "output_type": "stream",
     "text": [
      "3D 128 --> "
     ]
    },
    {
     "name": "stdout",
     "output_type": "stream",
     "text": [
      "\n",
      "3DLoop 16 --> 3DLoop 32 --> 3DLoop 48 --> 3DLoop 64 --> 3DLoop 80 --> 3DLoop 96 --> 3DLoop 112 --> 3DLoop 128 --> "
     ]
    }
   ],
   "source": [
    "num_range_2D = range(2^1, 2^9; length = 25)\n",
    "num_range_3D = range(2^1, 2^7; length = 25)\n",
    "test_cases_2D = []\n",
    "test_cases_2D_loop = []\n",
    "test_cases_3D = []\n",
    "test_cases_3D_loop = []\n",
    "sizes_2D = []\n",
    "sizes_2D_loop = []\n",
    "sizes_3D = []\n",
    "sizes_3D_loop = []\n",
    "for i in num_range_2D\n",
    "    n = Int(round(i))\n",
    "    print(\"2D $n --> \")\n",
    "    #2D\n",
    "    push!(sizes_2D, n^2)\n",
    "    # non loop\n",
    "    pred_mask = rand(Float32, n, n)\n",
    "    mask = Float32.(rand([0, 1], n, n))\n",
    "    push!(test_cases_2D, deepcopy([pred_mask, mask]))\n",
    "end\n",
    "println()\n",
    "for n in 16 : 16 : 512\n",
    "    print(\"2DLoop $n --> \")\n",
    "    #2D\n",
    "    push!(sizes_2D_loop, n^2)\n",
    "    # loop\n",
    "    x = rand(Float32, n, n, 1, 1)\n",
    "    mask = Float32.(rand([0, 1], n, n, 1, 1))\n",
    "    push!(test_cases_2D_loop, deepcopy([x, mask]))\n",
    "end\n",
    "println()\n",
    "for i in num_range_3D\n",
    "    n = Int(round(i))\n",
    "    print(\"3D $n --> \")\n",
    "    #3D\n",
    "    push!(sizes_3D, n^3)\n",
    "    # non loop\n",
    "    pred_mask = rand(Float32, n, n, n)\n",
    "    mask = Float32.(rand([0, 1], n, n, n))\n",
    "    push!(test_cases_3D, deepcopy([pred_mask, mask]))\n",
    "end\n",
    "println()\n",
    "for n in 16 : 16 : 128\n",
    "    print(\"3DLoop $n --> \")\n",
    "    #3D\n",
    "    push!(sizes_3D_loop, n^3)\n",
    "    # loop\n",
    "    x = rand(Float32, n, n, n, 1, 1)\n",
    "    mask = Float32.(rand([0, 1], n, n, n, 1, 1))\n",
    "    push!(test_cases_3D_loop, deepcopy([x, mask]))\n",
    "end"
   ]
  },
  {
   "attachments": {},
   "cell_type": "markdown",
   "metadata": {},
   "source": [
    "# Timing "
   ]
  },
  {
   "attachments": {},
   "cell_type": "markdown",
   "metadata": {},
   "source": [
    "## Not loop"
   ]
  },
  {
   "attachments": {},
   "cell_type": "markdown",
   "metadata": {},
   "source": [
    "### 2D"
   ]
  },
  {
   "cell_type": "code",
   "execution_count": 19,
   "metadata": {},
   "outputs": [
    {
     "name": "stdout",
     "output_type": "stream",
     "text": [
      "size = 4, Maurer_cpu = 0.0ms, Maurer_gpu = 0.175ms, Wenbo_cpu = 0.034ms, Wenbo_gpu = 0.226ms\n"
     ]
    },
    {
     "name": "stdout",
     "output_type": "stream",
     "text": [
      "size = 529, Maurer_cpu = 0.018ms, Maurer_gpu = 0.271ms, Wenbo_cpu = 0.041ms, Wenbo_gpu = 0.252ms\n"
     ]
    },
    {
     "name": "stdout",
     "output_type": "stream",
     "text": [
      "size = 1936, Maurer_cpu = 0.096ms, Maurer_gpu = 0.45ms, Wenbo_cpu = 0.048ms, Wenbo_gpu = 0.395ms\n"
     ]
    },
    {
     "name": "stdout",
     "output_type": "stream",
     "text": [
      "size = 4356, Maurer_cpu = 0.178ms, Maurer_gpu = 0.632ms, Wenbo_cpu = 0.06ms, Wenbo_gpu = 0.282ms\n"
     ]
    },
    {
     "name": "stdout",
     "output_type": "stream",
     "text": [
      "size = 7569, Maurer_cpu = 0.244ms, Maurer_gpu = 0.638ms, Wenbo_cpu = 0.094ms, Wenbo_gpu = 0.336ms\n"
     ]
    },
    {
     "name": "stdout",
     "output_type": "stream",
     "text": [
      "size = 11664, Maurer_cpu = 0.316ms, Maurer_gpu = 0.752ms, Wenbo_cpu = 0.119ms, Wenbo_gpu = 0.293ms\n"
     ]
    },
    {
     "name": "stdout",
     "output_type": "stream",
     "text": [
      "size = 16900, Maurer_cpu = 0.44ms, Maurer_gpu = 0.947ms, Wenbo_cpu = 0.136ms, Wenbo_gpu = 0.309ms\n"
     ]
    },
    {
     "name": "stdout",
     "output_type": "stream",
     "text": [
      "size = 22801, Maurer_cpu = 0.562ms, Maurer_gpu = 1.143ms, Wenbo_cpu = 0.157ms, Wenbo_gpu = 0.242ms\n"
     ]
    },
    {
     "name": "stdout",
     "output_type": "stream",
     "text": [
      "size = 29584, Maurer_cpu = 0.696ms, Maurer_gpu = 1.396ms, Wenbo_cpu = 0.19ms, Wenbo_gpu = 0.252ms\n"
     ]
    },
    {
     "name": "stdout",
     "output_type": "stream",
     "text": [
      "size = 37249, Maurer_cpu = 0.891ms, Maurer_gpu = 1.606ms, Wenbo_cpu = 0.249ms, Wenbo_gpu = 0.271ms\n"
     ]
    },
    {
     "name": "stdout",
     "output_type": "stream",
     "text": [
      "size = 45796, Maurer_cpu = 1.216ms, Maurer_gpu = 1.991ms, Wenbo_cpu = 0.288ms, Wenbo_gpu = 0.225ms\n"
     ]
    },
    {
     "name": "stdout",
     "output_type": "stream",
     "text": [
      "size = 55696, Maurer_cpu = 1.349ms, Maurer_gpu = 2.36ms, Wenbo_cpu = 0.328ms, Wenbo_gpu = 0.284ms\n"
     ]
    },
    {
     "name": "stdout",
     "output_type": "stream",
     "text": [
      "size = 66049, Maurer_cpu = 1.756ms, Maurer_gpu = 3.197ms, Wenbo_cpu = 0.352ms, Wenbo_gpu = 0.318ms\n"
     ]
    },
    {
     "name": "stdout",
     "output_type": "stream",
     "text": [
      "size = 77284, Maurer_cpu = 1.99ms, Maurer_gpu = 3.726ms, Wenbo_cpu = 0.396ms, Wenbo_gpu = 0.269ms\n"
     ]
    },
    {
     "name": "stdout",
     "output_type": "stream",
     "text": [
      "size = 90000, Maurer_cpu = 2.198ms, Maurer_gpu = 4.012ms, Wenbo_cpu = 0.432ms, Wenbo_gpu = 0.309ms\n"
     ]
    },
    {
     "name": "stdout",
     "output_type": "stream",
     "text": [
      "size = 103041, Maurer_cpu = 2.598ms, Maurer_gpu = 4.461ms, Wenbo_cpu = 0.502ms, Wenbo_gpu = 0.638ms\n"
     ]
    },
    {
     "name": "stdout",
     "output_type": "stream",
     "text": [
      "size = 116964, Maurer_cpu = 3.012ms, Maurer_gpu = 5.626ms, Wenbo_cpu = 0.538ms, Wenbo_gpu = 0.239ms\n"
     ]
    },
    {
     "name": "stdout",
     "output_type": "stream",
     "text": [
      "size = 131769, Maurer_cpu = 3.514ms, Maurer_gpu = 5.763ms, Wenbo_cpu = 0.594ms, Wenbo_gpu = 0.254ms\n"
     ]
    },
    {
     "name": "stdout",
     "output_type": "stream",
     "text": [
      "size = 147456, Maurer_cpu = 3.827ms, Maurer_gpu = 6.244ms, Wenbo_cpu = 0.658ms, Wenbo_gpu = 0.256ms\n"
     ]
    },
    {
     "name": "stdout",
     "output_type": "stream",
     "text": [
      "size = 164836, Maurer_cpu = 4.246ms, Maurer_gpu = 6.886ms, Wenbo_cpu = 0.742ms, Wenbo_gpu = 0.264ms\n"
     ]
    },
    {
     "name": "stdout",
     "output_type": "stream",
     "text": [
      "size = 182329, Maurer_cpu = 4.619ms, Maurer_gpu = 7.381ms, Wenbo_cpu = 0.841ms, Wenbo_gpu = 0.254ms\n"
     ]
    },
    {
     "name": "stdout",
     "output_type": "stream",
     "text": [
      "size = 200704, Maurer_cpu = 5.0ms, Maurer_gpu = 8.096ms, Wenbo_cpu = 0.962ms, Wenbo_gpu = 0.26ms\n"
     ]
    },
    {
     "name": "stdout",
     "output_type": "stream",
     "text": [
      "size = 220900, Maurer_cpu = 5.508ms, Maurer_gpu = 8.818ms, Wenbo_cpu = 1.027ms, Wenbo_gpu = 0.261ms\n"
     ]
    },
    {
     "name": "stdout",
     "output_type": "stream",
     "text": [
      "size = 241081, Maurer_cpu = 5.903ms, Maurer_gpu = 9.609ms, Wenbo_cpu = 1.109ms, Wenbo_gpu = 0.252ms\n"
     ]
    },
    {
     "name": "stdout",
     "output_type": "stream",
     "text": [
      "size = 262144, Maurer_cpu = 6.398ms, Maurer_gpu = 10.389ms, Wenbo_cpu = 1.467ms, Wenbo_gpu = 0.281ms"
     ]
    },
    {
     "name": "stdout",
     "output_type": "stream",
     "text": [
      "\n"
     ]
    }
   ],
   "source": [
    "not_loop_2d_Maurer_cpu_hd_cpu_min = []\n",
    "not_loop_2d_Maurer_cpu_hd_cpu_std = []\n",
    "\n",
    "not_loop_2d_Maurer_cpu_hd_gpu_min = []\n",
    "not_loop_2d_Maurer_cpu_hd_gpu_std = []\n",
    "\n",
    "not_loop_2d_Wenbo_cpu_hd_cpu_min = []\n",
    "not_loop_2d_Wenbo_cpu_hd_cpu_std = []\n",
    "\n",
    "not_loop_2d_Wenbo_gpu_hd_gpu_min = []\n",
    "not_loop_2d_Wenbo_gpu_hd_gpu_std = []\n",
    "\n",
    "for (idx, case) in enumerate(test_cases_2D)\n",
    "    # load case\n",
    "    pred_mask, mask = case\n",
    "    # cpu -> gpu\n",
    "    pred_mask_gpu, mask_gpu = pred_mask |> gpu, mask |> gpu\n",
    "\n",
    "    #---Start testing---#\n",
    "\n",
    "    # tfm = Maurer, tfm_device = cpu, hd_device = cpu\n",
    "    Maurer_cpu_hd_cpu = @benchmark hausdorff_loss_cpu_Maurer($pred_mask, $mask)\n",
    "    # tfm = Maurer, tfm_device = cpu, hd_device = gpu\n",
    "    Maurer_cpu_hd_gpu = @benchmark hausdorff_loss_gpu_Maurer($pred_mask_gpu, $mask_gpu)\n",
    "    # tfm = Wenbo, tfm_device = cpu, hd_device = cpu\n",
    "    Wenbo_cpu_hd_cpu = @benchmark hausdorff_loss_cpu_Wenbo($pred_mask, $mask)\n",
    "    # tfm = Wenbo, tfm_device = gpu, hd_device = gpu\n",
    "    Wenbo_gpu_hd_gpu = @benchmark hausdorff_loss_gpu_Wenbo($pred_mask_gpu, $mask_gpu)\n",
    "\n",
    "    #---Finished testing---#\n",
    "    append!(not_loop_2d_Maurer_cpu_hd_cpu_min, BenchmarkTools.minimum(Maurer_cpu_hd_cpu).time)\n",
    "    append!(not_loop_2d_Maurer_cpu_hd_cpu_std, BenchmarkTools.std(Maurer_cpu_hd_cpu).time)\n",
    "    \n",
    "    append!(not_loop_2d_Maurer_cpu_hd_gpu_min, BenchmarkTools.minimum(Maurer_cpu_hd_gpu).time)\n",
    "    append!(not_loop_2d_Maurer_cpu_hd_gpu_std, BenchmarkTools.std(Maurer_cpu_hd_gpu).time)\n",
    "    \n",
    "    append!(not_loop_2d_Wenbo_cpu_hd_cpu_min, BenchmarkTools.minimum(Wenbo_cpu_hd_cpu).time)\n",
    "    append!(not_loop_2d_Wenbo_cpu_hd_cpu_std, BenchmarkTools.std(Wenbo_cpu_hd_cpu).time)\n",
    "\n",
    "    append!(not_loop_2d_Wenbo_gpu_hd_gpu_min, BenchmarkTools.minimum(Wenbo_gpu_hd_gpu).time)\n",
    "    append!(not_loop_2d_Wenbo_gpu_hd_gpu_std, BenchmarkTools.std(Wenbo_gpu_hd_gpu).time)\n",
    "\n",
    "    println(\"size = $(sizes_2D[idx]), Maurer_cpu = $(round(not_loop_2d_Maurer_cpu_hd_cpu_min[end]*1e-6, digits = 3))ms, Maurer_gpu = $(round(not_loop_2d_Maurer_cpu_hd_gpu_min[end]*1e-6, digits = 3))ms, Wenbo_cpu = $(round(not_loop_2d_Wenbo_cpu_hd_cpu_min[end]*1e-6, digits = 3))ms, Wenbo_gpu = $(round(not_loop_2d_Wenbo_gpu_hd_gpu_min[end]*1e-6, digits = 3))ms\")\n",
    "end"
   ]
  },
  {
   "attachments": {},
   "cell_type": "markdown",
   "metadata": {},
   "source": [
    "#### Save Data"
   ]
  },
  {
   "cell_type": "code",
   "execution_count": 20,
   "metadata": {},
   "outputs": [
    {
     "data": {
      "text/plain": [
       "\"Julia_Loop_Results/HD_2D_Not_Loop_Jan_11.csv\""
      ]
     },
     "metadata": {},
     "output_type": "display_data"
    }
   ],
   "source": [
    "df_not_loop_2D = DataFrame(size = sizes_2D,\n",
    "Maurer_cpu_hd_cpu_min = not_loop_2d_Maurer_cpu_hd_cpu_min,\n",
    "Maurer_cpu_hd_cpu_std = not_loop_2d_Maurer_cpu_hd_cpu_std,\n",
    "Maurer_cpu_hd_gpu_min = not_loop_2d_Maurer_cpu_hd_gpu_min,\n",
    "Maurer_cpu_hd_gpu_std = not_loop_2d_Maurer_cpu_hd_gpu_std,\n",
    "Wenbo_cpu_hd_cpu_min = not_loop_2d_Wenbo_cpu_hd_cpu_min,\n",
    "Wenbo_cpu_hd_cpu_std = not_loop_2d_Wenbo_cpu_hd_cpu_std,\n",
    "Wenbo_gpu_hd_gpu_min = not_loop_2d_Wenbo_gpu_hd_gpu_min,\n",
    "Wenbo_gpu_hd_gpu_std = not_loop_2d_Wenbo_gpu_hd_gpu_std)\n",
    "\n",
    "CSV.write(\"Julia_Loop_Results/HD_2D_Not_Loop_Jan_11.csv\", df_not_loop_2D)"
   ]
  },
  {
   "cell_type": "markdown",
   "metadata": {},
   "source": [
    "### 3D"
   ]
  },
  {
   "cell_type": "code",
   "execution_count": 21,
   "metadata": {},
   "outputs": [
    {
     "name": "stdout",
     "output_type": "stream",
     "text": [
      "size = 8, Maurer_cpu = 0.001ms, Maurer_gpu = 0.247ms, Wenbo_cpu = 0.086ms, Wenbo_gpu = 0.308ms\n"
     ]
    },
    {
     "name": "stdout",
     "output_type": "stream",
     "text": [
      "size = 343, Maurer_cpu = 0.027ms, Maurer_gpu = 0.29ms, Wenbo_cpu = 0.096ms, Wenbo_gpu = 0.297ms"
     ]
    },
    {
     "name": "stdout",
     "output_type": "stream",
     "text": [
      "\n"
     ]
    },
    {
     "name": "stdout",
     "output_type": "stream",
     "text": [
      "size = 1728, Maurer_cpu = 0.19ms, Maurer_gpu = 0.549ms, Wenbo_cpu = 0.142ms, Wenbo_gpu = 0.349ms\n"
     ]
    },
    {
     "name": "stdout",
     "output_type": "stream",
     "text": [
      "size = 5832, Maurer_cpu = 0.35ms, Maurer_gpu = 0.745ms, Wenbo_cpu = 0.265ms, Wenbo_gpu = 0.58ms\n"
     ]
    },
    {
     "name": "stdout",
     "output_type": "stream",
     "text": [
      "size = 12167, Maurer_cpu = 0.52ms, Maurer_gpu = 1.424ms, Wenbo_cpu = 0.333ms, Wenbo_gpu = 0.433ms\n"
     ]
    },
    {
     "name": "stdout",
     "output_type": "stream",
     "text": [
      "size = 21952, Maurer_cpu = 0.769ms, Maurer_gpu = 1.413ms, Wenbo_cpu = 0.394ms, Wenbo_gpu = 0.345ms\n"
     ]
    },
    {
     "name": "stdout",
     "output_type": "stream",
     "text": [
      "size = 39304, Maurer_cpu = 1.457ms, Maurer_gpu = 2.417ms, Wenbo_cpu = 0.546ms, Wenbo_gpu = 0.326ms\n"
     ]
    },
    {
     "name": "stdout",
     "output_type": "stream",
     "text": [
      "size = 59319, Maurer_cpu = 2.14ms, Maurer_gpu = 3.688ms, Wenbo_cpu = 0.694ms, Wenbo_gpu = 0.294ms\n"
     ]
    },
    {
     "name": "stdout",
     "output_type": "stream",
     "text": [
      "size = 85184, Maurer_cpu = 2.79ms, Maurer_gpu = 4.642ms, Wenbo_cpu = 0.89ms, Wenbo_gpu = 0.291ms\n"
     ]
    },
    {
     "name": "stdout",
     "output_type": "stream",
     "text": [
      "size = 117649, Maurer_cpu = 3.939ms, Maurer_gpu = 6.483ms, Wenbo_cpu = 1.096ms, Wenbo_gpu = 0.292ms\n"
     ]
    },
    {
     "name": "stdout",
     "output_type": "stream",
     "text": [
      "size = 157464, Maurer_cpu = 5.376ms, Maurer_gpu = 8.516ms, Wenbo_cpu = 1.3ms, Wenbo_gpu = 0.284ms\n"
     ]
    },
    {
     "name": "stdout",
     "output_type": "stream",
     "text": [
      "size = 216000, Maurer_cpu = 6.858ms, Maurer_gpu = 10.601ms, Wenbo_cpu = 1.768ms, Wenbo_gpu = 0.3ms\n"
     ]
    },
    {
     "name": "stdout",
     "output_type": "stream",
     "text": [
      "size = 274625, Maurer_cpu = 9.279ms, Maurer_gpu = 13.651ms, Wenbo_cpu = 2.22ms, Wenbo_gpu = 0.421ms\n"
     ]
    },
    {
     "name": "stdout",
     "output_type": "stream",
     "text": [
      "size = 343000, Maurer_cpu = 11.354ms, Maurer_gpu = 15.921ms, Wenbo_cpu = 2.568ms, Wenbo_gpu = 0.471ms\n"
     ]
    },
    {
     "name": "stdout",
     "output_type": "stream",
     "text": [
      "size = 438976, Maurer_cpu = 15.536ms, Maurer_gpu = 19.387ms, Wenbo_cpu = 3.165ms, Wenbo_gpu = 0.629ms\n"
     ]
    },
    {
     "name": "stdout",
     "output_type": "stream",
     "text": [
      "size = 531441, Maurer_cpu = 17.78ms, Maurer_gpu = 23.757ms, Wenbo_cpu = 3.747ms, Wenbo_gpu = 0.769ms\n"
     ]
    },
    {
     "name": "stdout",
     "output_type": "stream",
     "text": [
      "size = 636056, Maurer_cpu = 21.133ms, Maurer_gpu = 34.351ms, Wenbo_cpu = 4.336ms, Wenbo_gpu = 0.841ms\n"
     ]
    },
    {
     "name": "stdout",
     "output_type": "stream",
     "text": [
      "size = 753571, Maurer_cpu = 24.91ms, Maurer_gpu = 32.427ms, Wenbo_cpu = 5.138ms, Wenbo_gpu = 1.046ms\n"
     ]
    },
    {
     "name": "stdout",
     "output_type": "stream",
     "text": [
      "size = 884736, Maurer_cpu = 28.737ms, Maurer_gpu = 37.98ms, Wenbo_cpu = 6.119ms, Wenbo_gpu = 1.083ms\n"
     ]
    },
    {
     "name": "stdout",
     "output_type": "stream",
     "text": [
      "size = 1061208, Maurer_cpu = 35.463ms, Maurer_gpu = 45.21ms, Wenbo_cpu = 6.833ms, Wenbo_gpu = 1.334ms\n"
     ]
    },
    {
     "name": "stdout",
     "output_type": "stream",
     "text": [
      "size = 1225043, Maurer_cpu = 40.645ms, Maurer_gpu = 52.007ms, Wenbo_cpu = 7.654ms, Wenbo_gpu = 1.594ms\n"
     ]
    },
    {
     "name": "stdout",
     "output_type": "stream",
     "text": [
      "size = 1404928, Maurer_cpu = 45.827ms, Maurer_gpu = 58.981ms, Wenbo_cpu = 9.138ms, Wenbo_gpu = 1.775ms\n"
     ]
    },
    {
     "name": "stdout",
     "output_type": "stream",
     "text": [
      "size = 1643032, Maurer_cpu = 54.682ms, Maurer_gpu = 69.173ms, Wenbo_cpu = 10.16ms, Wenbo_gpu = 2.204ms\n"
     ]
    },
    {
     "name": "stdout",
     "output_type": "stream",
     "text": [
      "size = 1860867, Maurer_cpu = 61.571ms, Maurer_gpu = 78.758ms, Wenbo_cpu = 11.611ms, Wenbo_gpu = 2.624ms\n"
     ]
    },
    {
     "name": "stdout",
     "output_type": "stream",
     "text": [
      "size = 2097152, Maurer_cpu = 68.525ms, Maurer_gpu = 87.449ms, Wenbo_cpu = 15.109ms, Wenbo_gpu = 2.988ms\n"
     ]
    }
   ],
   "source": [
    "not_loop_3d_Maurer_cpu_hd_cpu_min = []\n",
    "not_loop_3d_Maurer_cpu_hd_cpu_std = []\n",
    "\n",
    "not_loop_3d_Maurer_cpu_hd_gpu_min = []\n",
    "not_loop_3d_Maurer_cpu_hd_gpu_std = []\n",
    "\n",
    "not_loop_3d_Wenbo_cpu_hd_cpu_min = []\n",
    "not_loop_3d_Wenbo_cpu_hd_cpu_std = []\n",
    "\n",
    "not_loop_3d_Wenbo_gpu_hd_gpu_min = []\n",
    "not_loop_3d_Wenbo_gpu_hd_gpu_std = []\n",
    "\n",
    "for (idx, case) in enumerate(test_cases_3D)\n",
    "    # load case\n",
    "    pred_mask, mask = case\n",
    "    # cpu -> gpu\n",
    "    pred_mask_gpu, mask_gpu = pred_mask |> gpu, mask |> gpu\n",
    "\n",
    "    #---Start testing---#\n",
    "\n",
    "    # tfm = Maurer, tfm_device = cpu, hd_device = cpu\n",
    "    Maurer_cpu_hd_cpu = @benchmark hausdorff_loss_cpu_Maurer($pred_mask, $mask)\n",
    "    # tfm = Maurer, tfm_device = cpu, hd_device = gpu\n",
    "    Maurer_cpu_hd_gpu = @benchmark hausdorff_loss_gpu_Maurer($pred_mask_gpu, $mask_gpu)\n",
    "    # tfm = Wenbo, tfm_device = cpu, hd_device = cpu\n",
    "    Wenbo_cpu_hd_cpu = @benchmark hausdorff_loss_cpu_Wenbo($pred_mask, $mask)\n",
    "    # tfm = Wenbo, tfm_device = gpu, hd_device = gpu\n",
    "    Wenbo_gpu_hd_gpu = @benchmark hausdorff_loss_gpu_Wenbo($pred_mask_gpu, $mask_gpu)\n",
    "\n",
    "    #---Finished testing---#\n",
    "    append!(not_loop_3d_Maurer_cpu_hd_cpu_min, BenchmarkTools.minimum(Maurer_cpu_hd_cpu).time)\n",
    "    append!(not_loop_3d_Maurer_cpu_hd_cpu_std, BenchmarkTools.std(Maurer_cpu_hd_cpu).time)\n",
    "    \n",
    "    append!(not_loop_3d_Maurer_cpu_hd_gpu_min, BenchmarkTools.minimum(Maurer_cpu_hd_gpu).time)\n",
    "    append!(not_loop_3d_Maurer_cpu_hd_gpu_std, BenchmarkTools.std(Maurer_cpu_hd_gpu).time)\n",
    "\n",
    "    append!(not_loop_3d_Wenbo_cpu_hd_cpu_min, BenchmarkTools.minimum(Wenbo_cpu_hd_cpu).time)\n",
    "    append!(not_loop_3d_Wenbo_cpu_hd_cpu_std, BenchmarkTools.std(Wenbo_cpu_hd_cpu).time)\n",
    "    \n",
    "    append!(not_loop_3d_Wenbo_gpu_hd_gpu_min, BenchmarkTools.minimum(Wenbo_gpu_hd_gpu).time)\n",
    "    append!(not_loop_3d_Wenbo_gpu_hd_gpu_std, BenchmarkTools.std(Wenbo_gpu_hd_gpu).time)\n",
    "\n",
    "    println(\"size = $(sizes_3D[idx]), Maurer_cpu = $(round(not_loop_3d_Maurer_cpu_hd_cpu_min[end]*1e-6, digits = 3))ms, Maurer_gpu = $(round(not_loop_3d_Maurer_cpu_hd_gpu_min[end]*1e-6, digits = 3))ms, Wenbo_cpu = $(round(not_loop_3d_Wenbo_cpu_hd_cpu_min[end]*1e-6, digits = 3))ms, Wenbo_gpu = $(round(not_loop_3d_Wenbo_gpu_hd_gpu_min[end]*1e-6, digits = 3))ms\")\n",
    "end"
   ]
  },
  {
   "attachments": {},
   "cell_type": "markdown",
   "metadata": {},
   "source": [
    "#### Save Data"
   ]
  },
  {
   "cell_type": "code",
   "execution_count": 22,
   "metadata": {},
   "outputs": [
    {
     "data": {
      "text/plain": [
       "\"Julia_Loop_Results/HD_3D_Not_Loop_Jan_11.csv\""
      ]
     },
     "metadata": {},
     "output_type": "display_data"
    }
   ],
   "source": [
    "df_not_loop_3D = DataFrame(size = sizes_3D,\n",
    "Maurer_cpu_hd_cpu_min = not_loop_3d_Maurer_cpu_hd_cpu_min,\n",
    "Maurer_cpu_hd_cpu_std = not_loop_3d_Maurer_cpu_hd_cpu_std,\n",
    "Maurer_cpu_hd_gpu_min = not_loop_3d_Maurer_cpu_hd_gpu_min,\n",
    "Maurer_cpu_hd_gpu_std = not_loop_3d_Maurer_cpu_hd_gpu_std,\n",
    "Wenbo_cpu_hd_cpu_min = not_loop_3d_Wenbo_cpu_hd_cpu_min,\n",
    "Wenbo_cpu_hd_cpu_std = not_loop_3d_Wenbo_cpu_hd_cpu_std,\n",
    "Wenbo_gpu_hd_gpu_min = not_loop_3d_Wenbo_gpu_hd_gpu_min,\n",
    "Wenbo_gpu_hd_gpu_std = not_loop_3d_Wenbo_gpu_hd_gpu_std)\n",
    "\n",
    "CSV.write(\"Julia_Loop_Results/HD_3D_Not_Loop_Jan_11.csv\", df_not_loop_3D)"
   ]
  },
  {
   "attachments": {},
   "cell_type": "markdown",
   "metadata": {},
   "source": [
    "## In loop"
   ]
  },
  {
   "attachments": {},
   "cell_type": "markdown",
   "metadata": {},
   "source": [
    "### 2D"
   ]
  },
  {
   "cell_type": "code",
   "execution_count": 19,
   "metadata": {},
   "outputs": [
    {
     "name": "stdout",
     "output_type": "stream",
     "text": [
      "size = 256, Maurer_cpu = 0.024ms, Maurer_gpu = 1.408ms, Wenbo_cpu = 0.054ms, Wenbo_gpu = 0.757ms\n"
     ]
    },
    {
     "name": "stdout",
     "output_type": "stream",
     "text": [
      "size = 1024, Maurer_cpu = 0.13ms, Maurer_gpu = 1.767ms, Wenbo_cpu = 0.07ms, Wenbo_gpu = 0.36ms\n"
     ]
    },
    {
     "name": "stdout",
     "output_type": "stream",
     "text": [
      "size = 2304, Maurer_cpu = 0.182ms, Maurer_gpu = 1.376ms, Wenbo_cpu = 0.133ms, Wenbo_gpu = 0.696ms\n"
     ]
    },
    {
     "name": "stdout",
     "output_type": "stream",
     "text": [
      "size = 4096, Maurer_cpu = 0.241ms, Maurer_gpu = 1.459ms, Wenbo_cpu = 0.212ms, Wenbo_gpu = 0.744ms\n"
     ]
    },
    {
     "name": "stdout",
     "output_type": "stream",
     "text": [
      "size = 6400, Maurer_cpu = 0.321ms, Maurer_gpu = 1.769ms, Wenbo_cpu = 0.286ms, Wenbo_gpu = 0.717ms\n"
     ]
    },
    {
     "name": "stdout",
     "output_type": "stream",
     "text": [
      "size = 9216, Maurer_cpu = 0.392ms, Maurer_gpu = 1.982ms, Wenbo_cpu = 0.343ms, Wenbo_gpu = 0.365ms\n"
     ]
    },
    {
     "name": "stdout",
     "output_type": "stream",
     "text": [
      "size = 12544, Maurer_cpu = 0.469ms, Maurer_gpu = 1.982ms, Wenbo_cpu = 0.437ms, Wenbo_gpu = 0.526ms\n"
     ]
    },
    {
     "name": "stdout",
     "output_type": "stream",
     "text": [
      "size = 16384, Maurer_cpu = 0.575ms, Maurer_gpu = 2.374ms, Wenbo_cpu = 0.56ms, Wenbo_gpu = 0.755ms\n"
     ]
    },
    {
     "name": "stdout",
     "output_type": "stream",
     "text": [
      "size = 20736, Maurer_cpu = 0.674ms, Maurer_gpu = 2.658ms, Wenbo_cpu = 0.723ms, Wenbo_gpu = 0.434ms\n"
     ]
    },
    {
     "name": "stdout",
     "output_type": "stream",
     "text": [
      "size = 25600, Maurer_cpu = 0.827ms, Maurer_gpu = 1.477ms, Wenbo_cpu = 0.855ms, Wenbo_gpu = 0.455ms\n"
     ]
    },
    {
     "name": "stdout",
     "output_type": "stream",
     "text": [
      "size = 30976, Maurer_cpu = 0.958ms, Maurer_gpu = 1.799ms, Wenbo_cpu = 1.035ms, Wenbo_gpu = 0.395ms\n"
     ]
    },
    {
     "name": "stdout",
     "output_type": "stream",
     "text": [
      "size = 36864, Maurer_cpu = 1.144ms, Maurer_gpu = 2.119ms, Wenbo_cpu = 1.185ms, Wenbo_gpu = 0.524ms\n"
     ]
    },
    {
     "name": "stdout",
     "output_type": "stream",
     "text": [
      "size = 43264, Maurer_cpu = 1.363ms, Maurer_gpu = 2.306ms, Wenbo_cpu = 1.339ms, Wenbo_gpu = 0.636ms\n"
     ]
    },
    {
     "name": "stdout",
     "output_type": "stream",
     "text": [
      "size = 50176, Maurer_cpu = 1.501ms, Maurer_gpu = 2.203ms, Wenbo_cpu = 1.507ms, Wenbo_gpu = 0.636ms\n"
     ]
    },
    {
     "name": "stdout",
     "output_type": "stream",
     "text": [
      "size = 57600, Maurer_cpu = 1.609ms, Maurer_gpu = 2.976ms, Wenbo_cpu = 1.68ms, Wenbo_gpu = 0.684ms\n"
     ]
    },
    {
     "name": "stdout",
     "output_type": "stream",
     "text": [
      "size = 65536, Maurer_cpu = 1.966ms, Maurer_gpu = 2.727ms, Wenbo_cpu = 1.886ms, Wenbo_gpu = 0.676ms\n"
     ]
    },
    {
     "name": "stdout",
     "output_type": "stream",
     "text": [
      "size = 73984, Maurer_cpu = 2.099ms, Maurer_gpu = 3.746ms, Wenbo_cpu = 2.085ms, Wenbo_gpu = 0.734ms\n"
     ]
    },
    {
     "name": "stdout",
     "output_type": "stream",
     "text": [
      "size = 82944, Maurer_cpu = 2.316ms, Maurer_gpu = 3.453ms, Wenbo_cpu = 2.256ms, Wenbo_gpu = 0.865ms\n"
     ]
    },
    {
     "name": "stdout",
     "output_type": "stream",
     "text": [
      "size = 92416, Maurer_cpu = 2.575ms, Maurer_gpu = 3.69ms, Wenbo_cpu = 2.505ms, Wenbo_gpu = 1.039ms\n"
     ]
    },
    {
     "name": "stdout",
     "output_type": "stream",
     "text": [
      "size = 102400, Maurer_cpu = 2.76ms, Maurer_gpu = 4.046ms, Wenbo_cpu = 2.733ms, Wenbo_gpu = 1.143ms\n"
     ]
    },
    {
     "name": "stdout",
     "output_type": "stream",
     "text": [
      "size = 112896, Maurer_cpu = 3.004ms, Maurer_gpu = 4.725ms, Wenbo_cpu = 2.934ms, Wenbo_gpu = 1.145ms\n"
     ]
    },
    {
     "name": "stdout",
     "output_type": "stream",
     "text": [
      "size = 123904, Maurer_cpu = 3.295ms, Maurer_gpu = 4.775ms, Wenbo_cpu = 3.23ms, Wenbo_gpu = 0.75ms\n"
     ]
    },
    {
     "name": "stdout",
     "output_type": "stream",
     "text": [
      "size = 135424, Maurer_cpu = 3.694ms, Maurer_gpu = 4.864ms, Wenbo_cpu = 3.487ms, Wenbo_gpu = 1.237ms\n"
     ]
    },
    {
     "name": "stdout",
     "output_type": "stream",
     "text": [
      "size = 147456, Maurer_cpu = 4.007ms, Maurer_gpu = 5.465ms, Wenbo_cpu = 3.823ms, Wenbo_gpu = 1.275ms\n"
     ]
    },
    {
     "name": "stdout",
     "output_type": "stream",
     "text": [
      "size = 160000, Maurer_cpu = 4.186ms, Maurer_gpu = 6.138ms, Wenbo_cpu = 3.995ms, Wenbo_gpu = 1.253ms\n"
     ]
    },
    {
     "name": "stdout",
     "output_type": "stream",
     "text": [
      "size = 173056, Maurer_cpu = 4.506ms, Maurer_gpu = 5.551ms, Wenbo_cpu = 4.354ms, Wenbo_gpu = 1.285ms\n"
     ]
    },
    {
     "name": "stdout",
     "output_type": "stream",
     "text": [
      "size = 186624, Maurer_cpu = 4.86ms, Maurer_gpu = 6.271ms, Wenbo_cpu = 4.651ms, Wenbo_gpu = 0.888ms\n"
     ]
    },
    {
     "name": "stdout",
     "output_type": "stream",
     "text": [
      "size = 200704, Maurer_cpu = 5.086ms, Maurer_gpu = 6.597ms, Wenbo_cpu = 4.958ms, Wenbo_gpu = 4.349ms\n"
     ]
    },
    {
     "name": "stdout",
     "output_type": "stream",
     "text": [
      "size = 215296, Maurer_cpu = 5.372ms, Maurer_gpu = 7.039ms, Wenbo_cpu = 5.349ms, Wenbo_gpu = 1.364ms\n"
     ]
    },
    {
     "name": "stdout",
     "output_type": "stream",
     "text": [
      "size = 230400, Maurer_cpu = 5.779ms, Maurer_gpu = 7.558ms, Wenbo_cpu = 5.701ms, Wenbo_gpu = 2.173ms\n"
     ]
    },
    {
     "name": "stdout",
     "output_type": "stream",
     "text": [
      "size = 246016, Maurer_cpu = 6.147ms, Maurer_gpu = 7.722ms, Wenbo_cpu = 6.065ms, Wenbo_gpu = 1.45ms\n"
     ]
    },
    {
     "name": "stdout",
     "output_type": "stream",
     "text": [
      "size = 262144, Maurer_cpu = 6.636ms, Maurer_gpu = 8.083ms, Wenbo_cpu = 7.136ms, Wenbo_gpu = 2.386ms\n"
     ]
    }
   ],
   "source": [
    "loop_2d_Maurer_cpu_hd_cpu_min = []\n",
    "loop_2d_Maurer_cpu_hd_cpu_std = []\n",
    "\n",
    "loop_2d_Maurer_cpu_hd_gpu_min = []\n",
    "loop_2d_Maurer_cpu_hd_gpu_std = []\n",
    "\n",
    "loop_2d_Wenbo_cpu_hd_cpu_min = []\n",
    "loop_2d_Wenbo_cpu_hd_cpu_std = []\n",
    "\n",
    "loop_2d_Wenbo_gpu_hd_gpu_min = []\n",
    "loop_2d_Wenbo_gpu_hd_gpu_std = []\n",
    "\n",
    "model_org = unet2D_new(1, 2)\n",
    "\n",
    "for (idx, case) in enumerate(test_cases_2D_loop)\n",
    "    # load case\n",
    "    x_org, mask_org = case\n",
    "    \n",
    "    #---Start testing---#\n",
    "\n",
    "    # tfm = Maurer, tfm_device = cpu, hd_device = cpu\n",
    "    Maurer_cpu_hd_cpu = []\n",
    "    t1 = Dates.Time(now())\n",
    "    for j =1:1000 # 1000 Evaluations\n",
    "        # deepcopy to reset grad\n",
    "        x, mask, model = deepcopy(x_org), deepcopy(mask_org), deepcopy(model_org)\n",
    "        # Model forward\n",
    "        pred = model(x)\n",
    "        #---Loss begin---#\n",
    "        t = @timed begin \n",
    "            loss = hausdorff_loss_2d_cpu_Maurer_loop(pred[:,:,2:end,:], mask)\n",
    "        end\n",
    "        #---Loss finished---#\n",
    "        push!(Maurer_cpu_hd_cpu, t.time*1e9)\n",
    "        if (Dates.Time(now()) - t1).value > 1e9*300\n",
    "            break\n",
    "        end\n",
    "    end\n",
    "    # tfm = Maurer, tfm_device = cpu, hd_device = gpu\n",
    "    Maurer_cpu_hd_gpu = []\n",
    "    t1 = Dates.Time(now())\n",
    "    for j =1:1000 # 1000 Evaluations\n",
    "        # deepcopy to reset grad\n",
    "        x, mask, model = deepcopy(x_org) |> gpu, deepcopy(mask_org) |> gpu, deepcopy(model_org) |> gpu\n",
    "        # Model forward\n",
    "        pred = model(x)\n",
    "        #---Loss begin---#\n",
    "        t = @timed begin \n",
    "            loss = hausdorff_loss_2d_gpu_Maurer_loop(pred[:,:,2:end,:], mask)\n",
    "        end\n",
    "        #---Loss finished---#\n",
    "        push!(Maurer_cpu_hd_gpu, t.time*1e9)\n",
    "        if (Dates.Time(now()) - t1).value > 1e9*300\n",
    "            break\n",
    "        end\n",
    "    end\n",
    "    # tfm = Wenbo, tfm_device = cpu, hd_device = cpu\n",
    "    Wenbo_cpu_hd_cpu = []\n",
    "    t1 = Dates.Time(now())\n",
    "    for j =1:1000 # 1000 Evaluations\n",
    "        # deepcopy to reset grad\n",
    "        x, mask, model = deepcopy(x_org), deepcopy(mask_org), deepcopy(model_org)\n",
    "        # Model forward\n",
    "        pred = model(x)\n",
    "        #---Loss begin---#\n",
    "        t = @timed begin \n",
    "            loss = hausdorff_loss_cpu_Wenbo_loop(pred[:,:,2:end,:], mask)\n",
    "        end\n",
    "        #---Loss finished---#\n",
    "        push!(Wenbo_cpu_hd_cpu, t.time*1e9)\n",
    "        if (Dates.Time(now()) - t1).value > 1e9*300\n",
    "            break\n",
    "        end\n",
    "    end\n",
    "    # tfm = Wenbo, tfm_device = gpu, hd_device = gpu\n",
    "    Wenbo_gpu_hd_gpu = []\n",
    "    t1 = Dates.Time(now())\n",
    "    for j =1:1000 # 1000 Evaluations\n",
    "        # deepcopy to reset grad\n",
    "        x, mask, model = deepcopy(x_org) |> gpu, deepcopy(mask_org) |> gpu, deepcopy(model_org) |> gpu\n",
    "        # Model forward\n",
    "        pred = model(x)\n",
    "        #---Loss begin---#\n",
    "        t = @timed begin \n",
    "            loss = hausdorff_loss_gpu_Wenbo_loop(pred[:,:,2:end,:], mask)\n",
    "        end\n",
    "        #---Loss finished---#\n",
    "        push!(Wenbo_gpu_hd_gpu, t.time*1e9)\n",
    "        if (Dates.Time(now()) - t1).value > 1e9*300\n",
    "            break\n",
    "        end\n",
    "    end\n",
    "\n",
    "    #---Finished testing---#\n",
    "    append!(loop_2d_Maurer_cpu_hd_cpu_min, minimum(Maurer_cpu_hd_cpu))\n",
    "    append!(loop_2d_Maurer_cpu_hd_cpu_std, Statistics.std(Maurer_cpu_hd_cpu))\n",
    "    \n",
    "    append!(loop_2d_Maurer_cpu_hd_gpu_min, minimum(Maurer_cpu_hd_gpu))\n",
    "    append!(loop_2d_Maurer_cpu_hd_gpu_std, Statistics.std(Maurer_cpu_hd_gpu))\n",
    "    \n",
    "    append!(loop_2d_Wenbo_cpu_hd_cpu_min, minimum(Wenbo_cpu_hd_cpu))\n",
    "    append!(loop_2d_Wenbo_cpu_hd_cpu_std, Statistics.std(Wenbo_cpu_hd_cpu))\n",
    "\n",
    "    append!(loop_2d_Wenbo_gpu_hd_gpu_min, minimum(Wenbo_gpu_hd_gpu))\n",
    "    append!(loop_2d_Wenbo_gpu_hd_gpu_std, Statistics.std(Wenbo_gpu_hd_gpu))\n",
    "\n",
    "    println(\"size = $(sizes_2D_loop[idx]), Maurer_cpu = $(round(loop_2d_Maurer_cpu_hd_cpu_min[end]*1e-6, digits = 3))ms, Maurer_gpu = $(round(loop_2d_Maurer_cpu_hd_gpu_min[end]*1e-6, digits = 3))ms, Wenbo_cpu = $(round(loop_2d_Wenbo_cpu_hd_cpu_min[end]*1e-6, digits = 3))ms, Wenbo_gpu = $(round(loop_2d_Wenbo_gpu_hd_gpu_min[end]*1e-6, digits = 3))ms\")\n",
    "\n",
    "end"
   ]
  },
  {
   "cell_type": "markdown",
   "metadata": {},
   "source": [
    "#### Save Data"
   ]
  },
  {
   "cell_type": "code",
   "execution_count": 20,
   "metadata": {},
   "outputs": [
    {
     "data": {
      "text/plain": [
       "\"Julia_Loop_Results/HD_2D_In_Loop_Jan_11.csv\""
      ]
     },
     "metadata": {},
     "output_type": "display_data"
    }
   ],
   "source": [
    "df_loop_2D = DataFrame(size = sizes_2D_loop,\n",
    "Maurer_cpu_hd_cpu_min = loop_2d_Maurer_cpu_hd_cpu_min,\n",
    "Maurer_cpu_hd_cpu_std = loop_2d_Maurer_cpu_hd_cpu_std,\n",
    "Maurer_cpu_hd_gpu_min = loop_2d_Maurer_cpu_hd_gpu_min,\n",
    "Maurer_cpu_hd_gpu_std = loop_2d_Maurer_cpu_hd_gpu_std,\n",
    "Wenbo_cpu_hd_cpu_min = loop_2d_Wenbo_cpu_hd_cpu_min,\n",
    "Wenbo_cpu_hd_cpu_std = loop_2d_Wenbo_cpu_hd_cpu_std,\n",
    "Wenbo_gpu_hd_gpu_min = loop_2d_Wenbo_gpu_hd_gpu_min,\n",
    "Wenbo_gpu_hd_gpu_std = loop_2d_Wenbo_gpu_hd_gpu_std)\n",
    "\n",
    "CSV.write(\"Julia_Loop_Results/HD_2D_In_Loop_Jan_11.csv\", df_loop_2D)"
   ]
  },
  {
   "attachments": {},
   "cell_type": "markdown",
   "metadata": {},
   "source": [
    "### 3D"
   ]
  },
  {
   "cell_type": "code",
   "execution_count": 23,
   "metadata": {},
   "outputs": [
    {
     "name": "stdout",
     "output_type": "stream",
     "text": [
      "size = 4096, Maurer_cpu = 9.038ms, Maurer_gpu = 10.16ms, Wenbo_cpu = 7.074ms, Wenbo_gpu = 4.632ms\n"
     ]
    },
    {
     "name": "stdout",
     "output_type": "stream",
     "text": [
      "size = 32768, Maurer_cpu = 16.31ms, Maurer_gpu = 31.973ms, Wenbo_cpu = 11.745ms, Wenbo_gpu = 16.534ms\n"
     ]
    },
    {
     "name": "stdout",
     "output_type": "stream",
     "text": [
      "size = 110592, Maurer_cpu = 29.846ms, Maurer_gpu = 56.551ms, Wenbo_cpu = 22.328ms, Wenbo_gpu = 12.296ms"
     ]
    },
    {
     "name": "stdout",
     "output_type": "stream",
     "text": [
      "\n"
     ]
    },
    {
     "name": "stdout",
     "output_type": "stream",
     "text": [
      "size = 262144, Maurer_cpu = 46.049ms, Maurer_gpu = 57.85ms, Wenbo_cpu = 32.69ms, Wenbo_gpu = 13.51ms"
     ]
    },
    {
     "name": "stdout",
     "output_type": "stream",
     "text": [
      "\n"
     ]
    },
    {
     "name": "stdout",
     "output_type": "stream",
     "text": [
      "size = 512000, Maurer_cpu = 125.771ms, Maurer_gpu = 139.761ms, Wenbo_cpu = 63.219ms, Wenbo_gpu = 14.903ms\n"
     ]
    }
   ],
   "source": [
    "# loop_3d_Maurer_cpu_hd_cpu_min = []\n",
    "# loop_3d_Maurer_cpu_hd_cpu_std = []\n",
    "\n",
    "# loop_3d_Maurer_cpu_hd_gpu_min = []\n",
    "# loop_3d_Maurer_cpu_hd_gpu_std = []\n",
    "\n",
    "# loop_3d_Wenbo_cpu_hd_cpu_min = []\n",
    "# loop_3d_Wenbo_cpu_hd_cpu_std = []\n",
    "\n",
    "# loop_3d_Wenbo_gpu_hd_gpu_min = []\n",
    "# loop_3d_Wenbo_gpu_hd_gpu_std = []\n",
    "\n",
    "# model_org = unet3D_new(1, 2)\n",
    "\n",
    "for (idx, case) in enumerate(test_cases_3D_loop[4:8])\n",
    "    # load case\n",
    "    x_org, mask_org = case\n",
    "    \n",
    "    #---Start testing---#\n",
    "\n",
    "    # tfm = Maurer, tfm_device = cpu, hd_device = cpu\n",
    "    Maurer_cpu_hd_cpu = []\n",
    "    t1 = Dates.Time(now())\n",
    "    for j =1:1000 # 1000 Evaluations\n",
    "        # deepcopy to reset grad\n",
    "        x, mask, model = deepcopy(x_org), deepcopy(mask_org), deepcopy(model_org)\n",
    "        # Model forward\n",
    "        pred = model(x)\n",
    "        #---Loss begin---#\n",
    "        t = @timed begin \n",
    "            loss = hausdorff_loss_3d_cpu_Maurer_loop(pred[:,:,:,2:end,:], mask)\n",
    "        end\n",
    "        #---Loss finished---#\n",
    "        push!(Maurer_cpu_hd_cpu, t.time*1e9)\n",
    "        if (Dates.Time(now()) - t1).value > 1e9*300\n",
    "            break\n",
    "        end\n",
    "    end\n",
    "    # tfm = Maurer, tfm_device = cpu, hd_device = gpu\n",
    "    Maurer_cpu_hd_gpu = []\n",
    "    t1 = Dates.Time(now())\n",
    "    for j =1:1000 # 1000 Evaluations\n",
    "        # deepcopy to reset grad\n",
    "        x, mask, model = deepcopy(x_org) |> gpu, deepcopy(mask_org) |> gpu, deepcopy(model_org) |> gpu\n",
    "        # Model forward\n",
    "        pred = model(x)\n",
    "        #---Loss begin---#\n",
    "        t = @timed begin \n",
    "            loss = hausdorff_loss_3d_gpu_Maurer_loop(pred[:,:,:,2:end,:], mask)\n",
    "        end\n",
    "        #---Loss finished---#\n",
    "        push!(Maurer_cpu_hd_gpu, t.time*1e9)\n",
    "        if (Dates.Time(now()) - t1).value > 1e9*300\n",
    "            break\n",
    "        end\n",
    "    end\n",
    "    # tfm = Wenbo, tfm_device = cpu, hd_device = cpu\n",
    "    Wenbo_cpu_hd_cpu = []\n",
    "    t1 = Dates.Time(now())\n",
    "    for j =1:1000 # 1000 Evaluations\n",
    "        # deepcopy to reset grad\n",
    "        x, mask, model = deepcopy(x_org), deepcopy(mask_org), deepcopy(model_org)\n",
    "        # Model forward\n",
    "        pred = model(x)\n",
    "        #---Loss begin---#\n",
    "        t = @timed begin \n",
    "            loss = hausdorff_loss_cpu_Wenbo_loop(pred[:,:,:,2:end,:], mask)\n",
    "        end\n",
    "        #---Loss finished---#\n",
    "        push!(Wenbo_cpu_hd_cpu, t.time*1e9)\n",
    "        if (Dates.Time(now()) - t1).value > 1e9*300\n",
    "            break\n",
    "        end\n",
    "    end\n",
    "    # tfm = Wenbo, tfm_device = gpu, hd_device = gpu\n",
    "    Wenbo_gpu_hd_gpu = []\n",
    "    t1 = Dates.Time(now())\n",
    "    for j =1:1000 # 1000 Evaluations\n",
    "        # deepcopy to reset grad\n",
    "        x, mask, model = deepcopy(x_org) |> gpu, deepcopy(mask_org) |> gpu, deepcopy(model_org) |> gpu\n",
    "        # Model forward\n",
    "        pred = model(x)\n",
    "        #---Loss begin---#\n",
    "        t = @timed begin \n",
    "            loss = hausdorff_loss_gpu_Wenbo_loop(pred[:,:,:,2:end,:], mask)\n",
    "        end\n",
    "        #---Loss finished---#\n",
    "        push!(Wenbo_gpu_hd_gpu, t.time*1e9)\n",
    "        if (Dates.Time(now()) - t1).value > 1e9*300\n",
    "            break\n",
    "        end\n",
    "    end\n",
    "\n",
    "    #---Finished testing---#\n",
    "    append!(loop_3d_Maurer_cpu_hd_cpu_min, minimum(Maurer_cpu_hd_cpu))\n",
    "    append!(loop_3d_Maurer_cpu_hd_cpu_std, Statistics.std(Maurer_cpu_hd_cpu))\n",
    "    \n",
    "    append!(loop_3d_Maurer_cpu_hd_gpu_min, minimum(Maurer_cpu_hd_gpu))\n",
    "    append!(loop_3d_Maurer_cpu_hd_gpu_std, Statistics.std(Maurer_cpu_hd_gpu))\n",
    "    \n",
    "    append!(loop_3d_Wenbo_cpu_hd_cpu_min, minimum(Wenbo_cpu_hd_cpu))\n",
    "    append!(loop_3d_Wenbo_cpu_hd_cpu_std, Statistics.std(Wenbo_cpu_hd_cpu))\n",
    "\n",
    "    append!(loop_3d_Wenbo_gpu_hd_gpu_min, minimum(Wenbo_gpu_hd_gpu))\n",
    "    append!(loop_3d_Wenbo_gpu_hd_gpu_std, Statistics.std(Wenbo_gpu_hd_gpu))\n",
    "\n",
    "    println(\"size = $(sizes_3D_loop[idx]), Maurer_cpu = $(round(loop_3d_Maurer_cpu_hd_cpu_min[end]*1e-6, digits = 3))ms, Maurer_gpu = $(round(loop_3d_Maurer_cpu_hd_gpu_min[end]*1e-6, digits = 3))ms, Wenbo_cpu = $(round(loop_3d_Wenbo_cpu_hd_cpu_min[end]*1e-6, digits = 3))ms, Wenbo_gpu = $(round(loop_3d_Wenbo_gpu_hd_gpu_min[end]*1e-6, digits = 3))ms\")\n",
    "\n",
    "end"
   ]
  },
  {
   "cell_type": "code",
   "execution_count": 24,
   "metadata": {},
   "outputs": [
    {
     "data": {
      "text/plain": [
       "\"Julia_Loop_Results/HD_3D_In_Loop_Jan_11.csv\""
      ]
     },
     "metadata": {},
     "output_type": "display_data"
    }
   ],
   "source": [
    "df_loop_3D = DataFrame(size = sizes_3D_loop,\n",
    "Maurer_cpu_hd_cpu_min = loop_3d_Maurer_cpu_hd_cpu_min,\n",
    "Maurer_cpu_hd_cpu_std = loop_3d_Maurer_cpu_hd_cpu_std,\n",
    "Maurer_cpu_hd_gpu_min = loop_3d_Maurer_cpu_hd_gpu_min,\n",
    "Maurer_cpu_hd_gpu_std = loop_3d_Maurer_cpu_hd_gpu_std,\n",
    "Wenbo_cpu_hd_cpu_min = loop_3d_Wenbo_cpu_hd_cpu_min,\n",
    "Wenbo_cpu_hd_cpu_std = loop_3d_Wenbo_cpu_hd_cpu_std,\n",
    "Wenbo_gpu_hd_gpu_min = loop_3d_Wenbo_gpu_hd_gpu_min,\n",
    "Wenbo_gpu_hd_gpu_std = loop_3d_Wenbo_gpu_hd_gpu_std)\n",
    "\n",
    "CSV.write(\"Julia_Loop_Results/HD_3D_In_Loop_Jan_11.csv\", df_loop_3D)"
   ]
  }
 ],
 "metadata": {
  "kernelspec": {
   "display_name": "Julia 1.8.4",
   "language": "julia",
   "name": "julia-1.8"
  },
  "language_info": {
   "file_extension": ".jl",
   "mimetype": "application/julia",
   "name": "julia",
   "version": "1.8.4"
  },
  "orig_nbformat": 4
 },
 "nbformat": 4,
 "nbformat_minor": 2
}
