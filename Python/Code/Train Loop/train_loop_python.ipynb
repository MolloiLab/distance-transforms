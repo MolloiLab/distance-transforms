{
 "cells": [
  {
   "attachments": {},
   "cell_type": "markdown",
   "metadata": {},
   "source": [
    "# Make sure to run this notebook with python keneral = 3.9.5"
   ]
  },
  {
   "cell_type": "code",
   "execution_count": 1,
   "metadata": {},
   "outputs": [
    {
     "name": "stderr",
     "output_type": "stream",
     "text": [
      "c:\\Users\\wenbl13\\AppData\\Local\\Programs\\Python\\Python39\\lib\\site-packages\\tqdm\\auto.py:22: TqdmWarning: IProgress not found. Please update jupyter and ipywidgets. See https://ipywidgets.readthedocs.io/en/stable/user_install.html\n",
      "  from .autonotebook import tqdm as notebook_tqdm\n"
     ]
    }
   ],
   "source": [
    "import torch\n",
    "import numpy as np\n",
    "import h5py\n",
    "from tqdm import tqdm\n",
    "import time\n",
    "\n",
    "from torch import nn\n",
    "import torch.nn.functional as F\n",
    "from torch.utils.data import Dataset\n",
    "from torch.utils.data import DataLoader\n",
    "from monai.metrics import compute_meandice, compute_hausdorff_distance\n",
    "\n",
    "from scipy.ndimage import distance_transform_edt as distance\n",
    "from monai.transforms import (\n",
    "    AsDiscrete,\n",
    "    AddChanneld,\n",
    "    Compose,\n",
    "    CropForegroundd,\n",
    "    LoadImaged,\n",
    "    Orientationd,\n",
    "    RandCropByPosNegLabeld,\n",
    "    ScaleIntensityRanged,\n",
    "    Spacingd,\n",
    "    ToTensord,\n",
    "    Resized\n",
    ")\n",
    "from monai.metrics.utils import do_metric_reduction, ignore_background\n",
    "from monai.utils import MetricReduction"
   ]
  },
  {
   "cell_type": "code",
   "execution_count": 2,
   "metadata": {},
   "outputs": [],
   "source": [
    "import monai\n",
    "from monai.utils import first, set_determinism\n",
    "from monai.transforms import (\n",
    "    AsDiscrete,\n",
    "    AddChanneld,\n",
    "    Compose,\n",
    "    RandSpatialCropd,\n",
    "    CropForegroundd,\n",
    "    CenterSpatialCropd,\n",
    "    NormalizeIntensityd,\n",
    "    LoadImaged,\n",
    "    Orientationd,\n",
    "    RandCropByPosNegLabeld,\n",
    "    ScaleIntensityRanged,\n",
    "    Spacingd,\n",
    "    Resized,\n",
    "    ToTensord\n",
    ")\n",
    "from monai.networks.nets import UNet\n",
    "from monai.networks.layers import Norm\n",
    "from monai.metrics import compute_meandice\n",
    "from monai.losses import DiceLoss\n",
    "from monai.inferers import sliding_window_inference\n",
    "from monai.data import CacheDataset, DataLoader, Dataset\n",
    "from monai.config import print_config\n",
    "from monai.apps import download_and_extract\n",
    "import torch\n",
    "import matplotlib.pyplot as plt\n",
    "import tempfile\n",
    "import shutil\n",
    "import os\n",
    "import glob\n",
    "from tqdm import tqdm_gui"
   ]
  },
  {
   "cell_type": "code",
   "execution_count": 3,
   "metadata": {},
   "outputs": [],
   "source": [
    "import numpy as np"
   ]
  },
  {
   "attachments": {},
   "cell_type": "markdown",
   "metadata": {},
   "source": [
    "# Prepare data"
   ]
  },
  {
   "attachments": {},
   "cell_type": "markdown",
   "metadata": {},
   "source": [
    "## Load data"
   ]
  },
  {
   "cell_type": "code",
   "execution_count": 4,
   "metadata": {},
   "outputs": [],
   "source": [
    "root_dir = r\"C:\\Users\\wenbl13\\Desktop\\Wenbo_Timing\"\n",
    "data_dir = os.path.join(root_dir, \"Task02_Heart\")"
   ]
  },
  {
   "attachments": {},
   "cell_type": "markdown",
   "metadata": {},
   "source": [
    "## Set up datasets"
   ]
  },
  {
   "cell_type": "code",
   "execution_count": 5,
   "metadata": {},
   "outputs": [],
   "source": [
    "train_images = sorted(\n",
    "    glob.glob(os.path.join(data_dir, \"imagesTr\", \"*.nii.gz\")))\n",
    "train_labels = sorted(\n",
    "    glob.glob(os.path.join(data_dir, \"labelsTr\", \"*.nii.gz\")))\n",
    "data_dicts = [\n",
    "    {\"image\": image_name, \"label\": label_name}\n",
    "    for image_name, label_name in zip(train_images, train_labels)\n",
    "]\n",
    "train_files, val_files = data_dicts[:-4], data_dicts[-4:] # train:valid = 16:4"
   ]
  },
  {
   "cell_type": "code",
   "execution_count": 6,
   "metadata": {},
   "outputs": [],
   "source": [
    "image_size = (96, 96, 96)"
   ]
  },
  {
   "cell_type": "code",
   "execution_count": 7,
   "metadata": {},
   "outputs": [],
   "source": [
    "train_transforms = Compose(\n",
    "    [\n",
    "        LoadImaged(keys=[\"image\", \"label\"]),\n",
    "        AddChanneld(keys=[\"image\", \"label\"]),\n",
    "        ScaleIntensityRanged(\n",
    "            keys=[\"image\"], a_min=-57, a_max=164,\n",
    "            b_min=0.0, b_max=1.0, clip=True),\n",
    "        Resized(keys=[\"image\", \"label\"], spatial_size = image_size),\n",
    "        # CenterSpatialCropd(keys=[\"image\", \"label\"], roi_size=image_size),\n",
    "        ToTensord(keys=[\"image\", \"label\"]),\n",
    "     ]\n",
    " )\n",
    "val_transforms = Compose(\n",
    "    [\n",
    "        LoadImaged(keys=[\"image\", \"label\"]),\n",
    "        AddChanneld(keys=[\"image\", \"label\"]),\n",
    "        ScaleIntensityRanged(\n",
    "            keys=[\"image\"], a_min=-57, a_max=164,\n",
    "            b_min=0.0, b_max=1.0, clip=True),\n",
    "        Resized(keys=[\"image\", \"label\"], spatial_size = image_size),\n",
    "        # CenterSpatialCropd(keys=[\"image\", \"label\"], roi_size=image_size),\n",
    "        ToTensord(keys=[\"image\", \"label\"]),\n",
    "    ]\n",
    ")"
   ]
  },
  {
   "attachments": {},
   "cell_type": "markdown",
   "metadata": {},
   "source": [
    "## Visualize dataset"
   ]
  },
  {
   "cell_type": "code",
   "execution_count": 8,
   "metadata": {},
   "outputs": [
    {
     "name": "stdout",
     "output_type": "stream",
     "text": [
      "image shape: torch.Size([96, 96, 96]), label shape: torch.Size([96, 96, 96])\n"
     ]
    },
    {
     "data": {
      "image/png": "[encoded data removed]",
      "text/plain": [
       "<Figure size 1200x600 with 2 Axes>"
      ]
     },
     "metadata": {},
     "output_type": "display_data"
    },
    {
     "name": "stdout",
     "output_type": "stream",
     "text": [
      "torch.Size([1, 1, 96, 96, 96])\n"
     ]
    }
   ],
   "source": [
    "check_ds = Dataset(data=train_files, transform=train_transforms)\n",
    "check_loader = DataLoader(check_ds, batch_size=1)\n",
    "check_data = first(check_loader)\n",
    "image, label = (check_data[\"image\"][0][0], check_data[\"label\"][0][0])\n",
    "print(f\"image shape: {image.shape}, label shape: {label.shape}\")\n",
    "# plot the slice [:, :, 80]\n",
    "plt.figure(\"check\", (12, 6))\n",
    "plt.subplot(1, 2, 1)\n",
    "plt.title(\"image\")\n",
    "plt.imshow(image[:, :, 40], cmap=\"gray\")\n",
    "plt.subplot(1, 2, 2)\n",
    "plt.title(\"label\")\n",
    "plt.imshow(label[:, :, 60])\n",
    "plt.show()\n",
    "print(check_data['label'].shape)"
   ]
  },
  {
   "attachments": {},
   "cell_type": "markdown",
   "metadata": {},
   "source": [
    "## Set up dataloader"
   ]
  },
  {
   "cell_type": "code",
   "execution_count": 9,
   "metadata": {},
   "outputs": [
    {
     "name": "stderr",
     "output_type": "stream",
     "text": [
      "100%|██████████| 16/16 [00:03<00:00,  4.29it/s]\n",
      "100%|██████████| 4/4 [00:00<00:00,  4.13it/s]\n"
     ]
    }
   ],
   "source": [
    "train_ds = CacheDataset(\n",
    "    data=train_files, transform=train_transforms,\n",
    "     cache_rate=1.0, num_workers=4)\n",
    "#train_ds = monai.data.Dataset(data=train_files, transform=train_transforms)\n",
    "\n",
    "# use batch_size=2 to load images and use RandCropByPosNegLabeld\n",
    "# to generate 2 x 4 images for network training\n",
    "train_loader = DataLoader(train_ds, batch_size=4, num_workers=4)\n",
    "\n",
    "val_ds = CacheDataset(\n",
    "  data=val_files, transform=val_transforms, cache_rate=1.0, num_workers=4)\n",
    "#val_ds = Dataset(data=val_files, transform=val_transforms)\n",
    "val_loader = DataLoader(val_ds, batch_size=4, num_workers=4)"
   ]
  },
  {
   "attachments": {},
   "cell_type": "markdown",
   "metadata": {},
   "source": [
    "## Create 3D U-net, mathing the one in Julia's train loop"
   ]
  },
  {
   "cell_type": "code",
   "execution_count": 10,
   "metadata": {},
   "outputs": [],
   "source": [
    "def conv(stride, in_dim, out_dim):\n",
    "    return nn.Conv3d(in_dim, out_dim, kernel_size=3, stride=stride, padding=1)\n",
    "\n",
    "def tran(stride, in_dim, out_dim):\n",
    "    return nn.ConvTranspose3d(in_dim, out_dim, kernel_size=3, stride=stride, padding=1, output_padding=1)\n",
    "\n",
    "def conv1(in_dim, out_dim):\n",
    "    return nn.Sequential(\n",
    "        conv(1, in_dim, out_dim),\n",
    "        nn.BatchNorm3d(out_dim),\n",
    "        nn.LeakyReLU())\n",
    "\n",
    "def conv2(in_dim, out_dim):\n",
    "    return nn.Sequential(\n",
    "        conv(2, in_dim, out_dim),\n",
    "        nn.BatchNorm3d(out_dim),\n",
    "        nn.LeakyReLU())\n",
    "\n",
    "def conv3(in_dim, out_dim):\n",
    "    return nn.Sequential(\n",
    "        conv(1, in_dim, out_dim),\n",
    "        nn.Softmax(dim=1))\n",
    "        # nn.Sigmoid())\n",
    "\n",
    "def tran2(in_dim, out_dim):\n",
    "    return nn.Sequential(\n",
    "        tran(2, in_dim, out_dim),\n",
    "        nn.BatchNorm3d(out_dim),\n",
    "        nn.LeakyReLU())\n",
    "\n",
    "def concat(layer1, layer2):\n",
    "    return torch.cat([layer1, layer2], dim=1)\n",
    "\n",
    "class unet3D_new(nn.Module):\n",
    "    def __init__(self, in_dim, out_dim):\n",
    "        super(unet3D_new, self).__init__()\n",
    "\n",
    "        self.in_dim = in_dim\n",
    "        self.out_dim = out_dim\n",
    "\n",
    "        # Contracting layers\n",
    "        self.l1 = conv1(in_dim, 8)\n",
    "        self.l2 = nn.Sequential(conv2(8, 16), conv1(16, 16))\n",
    "        self.l3 = nn.Sequential(conv2(16, 32), conv1(32, 32))\n",
    "        self.l4 = nn.Sequential(conv2(32, 64), conv1(64, 64))\n",
    "        self.l5 = nn.Sequential(conv2(64, 128), conv1(128, 128))\n",
    "\n",
    "        # Expanding layers\n",
    "        self.l6 = tran2(128, 64)\n",
    "        self.l7 = nn.Sequential(conv1(128, 64), tran2(64, 32))\n",
    "        self.l8 = nn.Sequential(conv1(64, 32), tran2(32, 16))\n",
    "        self.l9 = nn.Sequential(conv1(32, 16), tran2(16, 8))\n",
    "        self.l10 = nn.Sequential(conv3(8, out_dim))\n",
    "\n",
    "    def forward(self, x):\n",
    "        # Contracting layers\n",
    "        l1_out = self.l1(x)\n",
    "        l2_out = self.l2(l1_out)\n",
    "        l3_out = self.l3(l2_out)\n",
    "        l4_out = self.l4(l3_out)\n",
    "        l5_out = self.l5(l4_out)\n",
    "\n",
    "        # Expanding layers\n",
    "        l6_out = self.l6(l5_out)\n",
    "        l7_out = self.l7(concat(l4_out, l6_out))\n",
    "        l8_out = self.l8(concat(l3_out, l7_out))\n",
    "        l9_out = self.l9(concat(l2_out, l8_out))\n",
    "        out = self.l10(l9_out)\n",
    "\n",
    "        return out"
   ]
  },
  {
   "attachments": {},
   "cell_type": "markdown",
   "metadata": {},
   "source": [
    "Test the model"
   ]
  },
  {
   "cell_type": "code",
   "execution_count": 11,
   "metadata": {},
   "outputs": [
    {
     "name": "stdout",
     "output_type": "stream",
     "text": [
      "int size: torch.Size([1, 1, 96, 96, 96])\n",
      "out size: torch.Size([1, 2, 96, 96, 96])\n"
     ]
    }
   ],
   "source": [
    "device = torch.device('cuda' if torch.cuda.is_available() else 'cpu')\n",
    "image_size = 96\n",
    "x = torch.Tensor(1, 1, image_size, image_size, image_size)\n",
    "x.to(device)\n",
    "print(\"int size: {}\".format(x.size()))\n",
    "\n",
    "m = unet3D_new(1, 2)\n",
    "\n",
    "out = m(x)\n",
    "print(\"out size: {}\".format(out.size()))"
   ]
  },
  {
   "attachments": {},
   "cell_type": "markdown",
   "metadata": {},
   "source": [
    "## Create loss functions, mathing the ones in Julia's train loop"
   ]
  },
  {
   "cell_type": "code",
   "execution_count": 12,
   "metadata": {},
   "outputs": [],
   "source": [
    "def dice_loss(pred_mask, mask):\n",
    "    # target = target.float()\n",
    "    # smooth = 1e-5\n",
    "    intersect = torch.sum(torch.mul(pred_mask, mask))\n",
    "    y_sum = torch.sum(torch.mul(mask, mask))\n",
    "    z_sum = torch.sum(torch.mul(pred_mask, pred_mask))\n",
    "    loss = 1 - (2 * intersect + 1e-5) / (z_sum + y_sum + 1e-5)\n",
    "    return loss"
   ]
  },
  {
   "cell_type": "code",
   "execution_count": 13,
   "metadata": {},
   "outputs": [],
   "source": [
    "# A working 3D DT\n",
    "def compute_dtm(img_gt, out_shape):\n",
    "    \"\"\"\n",
    "    compute the distance transform map of foreground in binary mask\n",
    "    input: segmentation, shape = (batch_size, num_channels, x, y, z)\n",
    "    output: the foreground Distance Map (SDM) \n",
    "    dtm(x) = 0; x in segmentation boundary\n",
    "             inf|x-y|; x in segmentation\n",
    "    \"\"\"\n",
    "\n",
    "    fg_dtm = np.zeros(out_shape)\n",
    "\n",
    "    for b in range(out_shape[0]): # each batch\n",
    "        for c in range(out_shape[1]): # each channel\n",
    "            # 3D DT\n",
    "            posmask = img_gt[b][c]\n",
    "            if posmask.any():\n",
    "                posdis = distance(1 - posmask)\n",
    "                fg_dtm[b][c] = posdis\n",
    "\n",
    "    return fg_dtm\n",
    "\n",
    "def hd_loss(seg_soft, gt, seg_dtm, gt_dtm):\n",
    "    \"\"\"\n",
    "    compute huasdorff distance loss for binary segmentation\n",
    "    input: seg_soft: softmax results,  shape=(b,2,x,y,z)\n",
    "           gt: ground truth, shape=(b,1,x,y,z)\n",
    "           seg_dtm: segmentation distance transform map; shape=(b,2,x,y,z)\n",
    "           gt_dtm: ground truth distance transform map; shape=(b,1,x,y,z)\n",
    "    output: boundary_loss; sclar\n",
    "    \"\"\"\n",
    "\n",
    "    # delta_s = (seg_soft[:,1,...] - gt.float()[:,0,...]) ** 2\n",
    "    delta_s = (seg_soft[:,1:2,...] - gt) ** 2\n",
    "    s_dtm = seg_dtm[:,1:2,...] ** 2\n",
    "    g_dtm = gt_dtm ** 2\n",
    "    dtm = s_dtm + g_dtm\n",
    "    multipled = torch.einsum('bcxyz, bcxyz->bcxyz', delta_s, dtm)\n",
    "    hd_loss = multipled.mean()\n",
    "\n",
    "    # delta_s = (seg_soft - gt.float()) ** 2\n",
    "    # s_dtm = seg_dtm** 2\n",
    "    # g_dtm = gt_dtm ** 2\n",
    "    # dtm = s_dtm + g_dtm\n",
    "    # multipled = torch.einsum('xyz, xyz->xyz', delta_s, dtm)\n",
    "    # hd_loss = multipled.mean()\n",
    "\n",
    "    return hd_loss"
   ]
  },
  {
   "attachments": {},
   "cell_type": "markdown",
   "metadata": {},
   "source": [
    "# Train, Loss = Dice"
   ]
  },
  {
   "cell_type": "code",
   "execution_count": 14,
   "metadata": {},
   "outputs": [
    {
     "name": "stdout",
     "output_type": "stream",
     "text": [
      "epoch #1:\n",
      "\tTrain loss = 0.9838005304336548, valid loss = 0.9851151704788208, dice metric = 0.008873764425516129, hd metric = 75.80401973465186\n",
      "epoch #2:\n",
      "\tTrain loss = 0.9833868741989136, valid loss = 0.9847272038459778, dice metric = 0.023777933791279793, hd metric = 75.7777207217336\n",
      "epoch #3:\n",
      "\tTrain loss = 0.981988787651062, valid loss = 0.9834242463111877, dice metric = 0.0, hd metric = 78.70000152177082\n",
      "epoch #4:\n",
      "\tTrain loss = 0.9793962240219116, valid loss = 0.981050431728363, dice metric = 0.0, hd metric = inf\n",
      "epoch #5:\n",
      "\tTrain loss = 0.9683758020401001, valid loss = 0.9719020128250122, dice metric = 0.025260502472519875, hd metric = inf\n"
     ]
    }
   ],
   "source": [
    "# Losses\n",
    "time_epoch_dice = []\n",
    "time_step_dice = []\n",
    "train_loss_epoch_dice = []\n",
    "valid_loss_epoch_dice = []\n",
    "# Metrics\n",
    "train_metric_epoch_dice = []\n",
    "valid_metric_epoch_dice = []\n",
    "train_metric_epoch_hd = []\n",
    "valid_metric_epoch_hd = []\n",
    "all_metric_epoch_dice = []\n",
    "all_metric_epoch_hd = []\n",
    "\n",
    "device = torch.device(\"cuda:0\")\n",
    "num_epochs_dice = 250\n",
    "model_dice = unet3D_new(1, 2).to(device)\n",
    "optimizer_dice = torch.optim.Adam(model_dice.parameters(), lr= 0.001, weight_decay=0.0001) # lr=0.001, betas=(0.9, 0.999) by default\n",
    "for epoch_num in range(num_epochs_dice):\n",
    "    time_curr_opoch = 0\n",
    "    print(f\"epoch #{epoch_num + 1}:\")\n",
    "    step_ct = 0\n",
    "    # Epoch start\n",
    "    t1 = time.perf_counter_ns()\n",
    "    model_dice.train()\n",
    "    for curr_batch in train_loader:\n",
    "        # Step start\n",
    "        img, mask = curr_batch['image'].cuda(), curr_batch['label'].cuda()\n",
    "        # Clear grad\n",
    "        optimizer_dice.zero_grad()\n",
    "        # Forward\n",
    "        pred_mask = model_dice(img)\n",
    "        # Loss\n",
    "        loss = dice_loss(pred_mask[:,1:2,...], mask)\n",
    "        # Backward\n",
    "        loss.backward()\n",
    "        # Optimizing\n",
    "        optimizer_dice.step()\n",
    "        # Step end\n",
    "        t2 = time.perf_counter_ns()\n",
    "        step_ct += 1\n",
    "        curr_step_time = t2 - t1\n",
    "        time_step_dice.append(curr_step_time)\n",
    "        time_curr_opoch += curr_step_time\n",
    "        t1 = time.perf_counter_ns()\n",
    "    # Epoch end\n",
    "    time_epoch_dice.append(time_curr_opoch)\n",
    "    model_dice.eval()\n",
    "    # Reporting data\n",
    "    train_losses = []\n",
    "    train_dice_metrics = []\n",
    "    train_hd_metrics = []\n",
    "    valid_losses = []\n",
    "    valid_dice_metrics = []\n",
    "    valid_hd_metrics = []\n",
    "    for batch_idx, curr_batch in enumerate(train_loader):\n",
    "        with torch.no_grad(): # no need to calc grad for validation step\n",
    "            # Run model\n",
    "            img, mask = curr_batch['image'].cuda(), curr_batch['label'].cuda()\n",
    "            pred_mask = model_dice(img)\n",
    "            # Loss\n",
    "            loss = dice_loss(pred_mask[:,1:2,...], mask)\n",
    "            train_losses.append(loss)\n",
    "            # Metrics\n",
    "            pred_mask_bi = torch.as_tensor((pred_mask[:,1:2,...] - 0.5) > 0)\n",
    "            mask_bi = torch.as_tensor((mask - 0.5) > 0)\n",
    "            dice_m = compute_meandice(y_pred=pred_mask_bi, y=mask_bi)\n",
    "            hd_m = compute_hausdorff_distance(y_pred=pred_mask_bi, y=mask_bi)\n",
    "            train_dice_metrics.extend(dice_m)\n",
    "            train_hd_metrics.extend(hd_m)\n",
    "    for batch_idx, curr_batch in enumerate(val_loader):\n",
    "        with torch.no_grad(): # no need to calc grad for validation step\n",
    "            # Run model\n",
    "            img, mask = curr_batch['image'].cuda(), curr_batch['label'].cuda()\n",
    "            pred_mask = model_dice(img)\n",
    "            # Loss\n",
    "            loss = dice_loss(pred_mask[:,1:2,...], mask)\n",
    "            valid_losses.append(loss)\n",
    "            # Metrics\n",
    "            pred_mask_bi = torch.as_tensor((pred_mask[:,1:2,...] - 0.5) > 0)\n",
    "            mask_bi = torch.as_tensor((mask - 0.5) > 0)\n",
    "            dice_m = compute_meandice(y_pred=pred_mask_bi, y=mask_bi)\n",
    "            hd_m = compute_hausdorff_distance(y_pred=pred_mask_bi, y=mask_bi)\n",
    "            valid_dice_metrics.extend(dice_m)\n",
    "            valid_hd_metrics.extend(hd_m)\n",
    "    t_l = sum(train_losses) / len(train_losses)\n",
    "    v_l = sum(valid_losses) / len(valid_losses)\n",
    "    t_d_m = sum(train_dice_metrics) / len(train_dice_metrics)\n",
    "    t_h_m = sum(train_hd_metrics) / len(train_hd_metrics)\n",
    "    v_d_m = sum(valid_dice_metrics) / len(valid_dice_metrics)\n",
    "    v_h_m = sum(valid_hd_metrics) / len(valid_hd_metrics)\n",
    "    if (epoch_num + 1) % 25 == 0:\n",
    "        torch.save(model_dice.state_dict(), \"C:/Users/wenbl13/Desktop/Wenbo_Timing/Python_saved_models/Dice_epoch_\" + str(epoch_num+1) + \".pth\")\n",
    "    a_d_m = (sum(train_dice_metrics) + sum(valid_dice_metrics)) / (len(train_dice_metrics) + len(valid_dice_metrics))\n",
    "    a_h_m = (sum(train_hd_metrics) + sum(valid_hd_metrics)) / (len(train_hd_metrics) + len(valid_hd_metrics))\n",
    "    print(f\"\\tTrain loss = {t_l}, valid loss = {v_l}, dice metric = {v_d_m.item()}, hd metric = {v_h_m.item()}\")\n",
    "    train_loss_epoch_dice.append(t_l.item())\n",
    "    valid_loss_epoch_dice.append(v_l.item())\n",
    "    train_metric_epoch_dice.append(t_d_m.item())\n",
    "    valid_metric_epoch_dice.append(v_d_m.item())\n",
    "    train_metric_epoch_hd.append(t_h_m.item())\n",
    "    valid_metric_epoch_hd.append(v_h_m.item())\n",
    "    all_metric_epoch_dice.append(a_d_m.item())\n",
    "    all_metric_epoch_hd.append(a_h_m.item())\n"
   ]
  },
  {
   "attachments": {},
   "cell_type": "markdown",
   "metadata": {},
   "source": [
    "Inspect result"
   ]
  },
  {
   "cell_type": "code",
   "execution_count": 15,
   "metadata": {},
   "outputs": [
    {
     "name": "stdout",
     "output_type": "stream",
     "text": [
      "image shape: torch.Size([4, 1, 96, 96, 96]), mask shape: torch.Size([4, 1, 96, 96, 96])\n"
     ]
    },
    {
     "data": {
      "image/png": "[encoded data removed]",
      "text/plain": [
       "<Figure size 1200x600 with 2 Axes>"
      ]
     },
     "metadata": {},
     "output_type": "display_data"
    }
   ],
   "source": [
    "with torch.no_grad():\n",
    "    channel_idx = 43\n",
    "    test_data = first(val_loader)\n",
    "    image, mask = test_data['image'].cuda(), curr_batch['label']\n",
    "    print(f\"image shape: {image.shape}, mask shape: {mask.shape}\")\n",
    "    pred_mask = model_dice(image).cpu()\n",
    "    \n",
    "    # plot the slice [:, :, 80]\n",
    "    plt.figure(\"check\", (12, 6))\n",
    "    plt.subplot(1, 2, 1)\n",
    "    plt.title(\"mask\")\n",
    "    plt.imshow(mask[0, 0, channel_idx, :, :], cmap=\"gray\")\n",
    "    plt.subplot(1, 2, 2)\n",
    "    plt.title(\"pred_mask\")\n",
    "    plt.imshow(pred_mask[0, 1, channel_idx, :, :])\n",
    "    plt.show()"
   ]
  },
  {
   "attachments": {},
   "cell_type": "markdown",
   "metadata": {},
   "source": [
    "# Train, Loss = Dice+HD"
   ]
  },
  {
   "cell_type": "code",
   "execution_count": 15,
   "metadata": {},
   "outputs": [
    {
     "name": "stdout",
     "output_type": "stream",
     "text": [
      "epoch #1\n",
      "\tTrain loss = 1.3355339075634942, valid loss = 3.707057492186721, dice metric = 0.007247524335980415, hd metric = 76.10025957105508\n",
      "epoch #2\n",
      "\tTrain loss = 2.4467752619347243, valid loss = 5.86909817784142, dice metric = 0.0, hd metric = 76.10025957105508\n",
      "epoch #3\n",
      "\tTrain loss = 5.2478702854419454, valid loss = 7.05221225496254, dice metric = 0.0, hd metric = 77.54459532822058\n",
      "epoch #4\n",
      "\tTrain loss = 2.063650297711103, valid loss = 7.828904573232781, dice metric = 0.03566164895892143, hd metric = 38.70905439989521\n",
      "epoch #5\n",
      "\tTrain loss = 2.676431881643869, valid loss = 4.623503568871062, dice metric = 0.0, hd metric = 62.170428997187486\n"
     ]
    }
   ],
   "source": [
    "# Losses\n",
    "time_epoch_dice_hd = []\n",
    "time_step_dice_hd = []\n",
    "train_loss_epoch_dice_hd = []\n",
    "valid_loss_epoch_dice_hd = []\n",
    "# Metrics\n",
    "train_metric_epoch_dice2 = []\n",
    "valid_metric_epoch_dice2 = []\n",
    "train_metric_epoch_hd2 = []\n",
    "valid_metric_epoch_hd2 = []\n",
    "all_metric_epoch_dice2 = []\n",
    "all_metric_epoch_hd2 = []\n",
    "\n",
    "device = torch.device(\"cuda:0\")\n",
    "num_epochs_dice_hd = 250\n",
    "model_dice_hd = unet3D_new(1, 2).to(device)\n",
    "optimizer_dice_hd = torch.optim.Adam(model_dice_hd.parameters()) # lr=0.001, betas=(0.9, 0.999) by default\n",
    "for epoch_num in range(num_epochs_dice_hd):\n",
    "    time_curr_opoch = 0\n",
    "    print(f\"epoch #{epoch_num + 1}\")\n",
    "    step_ct = 0\n",
    "    # Epoch start\n",
    "    t1 = time.perf_counter_ns()\n",
    "    alpha = (epoch_num+1) * 0.001\n",
    "    model_dice_hd.train()\n",
    "    for curr_batch in train_loader:\n",
    "        # Step start\n",
    "        img, mask = curr_batch['image'].cuda(), curr_batch['label'].cuda()\n",
    "        # Clear grad\n",
    "        optimizer_dice_hd.zero_grad()\n",
    "        # Forward\n",
    "        pred_mask = model_dice_hd(img)\n",
    "        # Loss\n",
    "        with torch.no_grad():\n",
    "            pred_mask_bi = torch.as_tensor((pred_mask - 0.5) > 0, dtype=torch.float32)\n",
    "            mask_bi = torch.as_tensor((mask - 0.5) > 0, dtype=torch.float32)\n",
    "            pred_mask_dtm = torch.from_numpy(compute_dtm(pred_mask_bi.cpu(), (4,2,96,96,96))).cuda()\n",
    "            mask_dtm = torch.from_numpy(compute_dtm(mask_bi.cpu(), (4,1,96,96,96))).cuda()\n",
    "        loss_hd = hd_loss(pred_mask, mask, pred_mask_dtm, mask_dtm)\n",
    "        loss_dice = dice_loss(pred_mask[:,1:2,...], mask)\n",
    "        loss = alpha * loss_hd + (1 - alpha) * loss_dice\n",
    "        # Backward\n",
    "        loss.backward()\n",
    "        # Optimizing\n",
    "        optimizer_dice_hd.step()\n",
    "        # Step end\n",
    "        t2 = time.perf_counter_ns()\n",
    "        curr_step_time = t2 - t1\n",
    "        time_step_dice_hd.append(curr_step_time)\n",
    "        time_curr_opoch += curr_step_time\n",
    "        step_ct += 1\n",
    "        t1 = time.perf_counter_ns()\n",
    "    # Epoch end\n",
    "    time_epoch_dice_hd.append(time_curr_opoch)\n",
    "    # Evaluation step\n",
    "    model_dice_hd.eval()\n",
    "    # Reporting data\n",
    "    train_losses = []\n",
    "    train_dice_metrics = []\n",
    "    train_hd_metrics = []\n",
    "    valid_losses = []\n",
    "    valid_dice_metrics = []\n",
    "    valid_hd_metrics = []\n",
    "    for curr_batch in train_loader:\n",
    "        with torch.no_grad(): # no need to calc grad for validation step\n",
    "            # Run model\n",
    "            img, mask = curr_batch['image'].cuda(), curr_batch['label'].cuda()\n",
    "            pred_mask = model_dice_hd(img)\n",
    "            # Losses\n",
    "            pred_mask_bi = torch.as_tensor((pred_mask - 0.5) > 0, dtype=torch.float32)\n",
    "            mask_bi = torch.as_tensor((mask - 0.5) > 0, dtype=torch.float32)\n",
    "\n",
    "            pred_mask_dtm = torch.from_numpy(compute_dtm(pred_mask_bi.cpu(), (4,2,96,96,96))).cuda()\n",
    "            mask_dtm = torch.from_numpy(compute_dtm(mask_bi.cpu(), (4,1,96,96,96))).cuda()\n",
    "            loss_hd = hd_loss(pred_mask, mask, pred_mask_dtm, mask_dtm)\n",
    "            loss_dice = dice_loss(pred_mask[:,1:2,...], mask)\n",
    "            loss = alpha * loss_hd + (1 - alpha) * loss_dice\n",
    "            train_losses.append(loss)\n",
    "            # Metrics \n",
    "            dice_m = compute_meandice(y_pred=pred_mask_bi[:,1:2,...], y=mask_bi)\n",
    "            hd_m = compute_hausdorff_distance(y_pred=pred_mask_bi[:,1:2,...], y=mask_bi)\n",
    "            train_dice_metrics.extend(dice_m)\n",
    "            train_hd_metrics.extend(hd_m)\n",
    "    for curr_batch in val_loader:\n",
    "        with torch.no_grad(): # no need to calc grad for validation step\n",
    "            # Run model\n",
    "            img, mask = curr_batch['image'].cuda(), curr_batch['label'].cuda()\n",
    "            pred_mask = model_dice_hd(img)\n",
    "            # Losses\n",
    "            pred_mask_bi = torch.as_tensor((pred_mask - 0.5) > 0, dtype=torch.float32)\n",
    "            mask_bi = torch.as_tensor((mask - 0.5) > 0, dtype=torch.float32)\n",
    "\n",
    "            pred_mask_dtm = torch.from_numpy(compute_dtm(pred_mask.cpu(), (4,2,96,96,96))).cuda()\n",
    "            mask_dtm = torch.from_numpy(compute_dtm(mask.cpu(), (4,1,96,96,96))).cuda()\n",
    "            loss_hd = hd_loss(pred_mask, mask, pred_mask_dtm, mask_dtm)\n",
    "            loss_dice = dice_loss(pred_mask[:,1:2,...], mask)\n",
    "            loss = alpha * loss_hd + (1 - alpha) * loss_dice\n",
    "            valid_losses.append(loss)\n",
    "            # Metrics \n",
    "            dice_m = compute_meandice(y_pred=pred_mask_bi[:,1:2,...], y=mask_bi)\n",
    "            hd_m = compute_hausdorff_distance(y_pred=pred_mask_bi[:,1:2,...], y=mask_bi)\n",
    "            valid_dice_metrics.extend(dice_m)\n",
    "            valid_hd_metrics.extend(hd_m)\n",
    "    t_l = sum(train_losses) / len(train_losses)\n",
    "    v_l = sum(valid_losses) / len(valid_losses)\n",
    "    t_d_m = sum(train_dice_metrics) / len(train_dice_metrics)\n",
    "    t_h_m = sum(train_hd_metrics) / len(train_hd_metrics)\n",
    "    v_d_m = sum(valid_dice_metrics) / len(valid_dice_metrics)\n",
    "    v_h_m = sum(valid_hd_metrics) / len(valid_hd_metrics)\n",
    "    if (epoch_num + 1) % 25 == 0:\n",
    "        torch.save(model_dice_hd.state_dict(), \"C:/Users/wenbl13/Desktop/Wenbo_Timing/Python_saved_models/HD_Dice_epoch_\" + str(epoch_num+1) + \".pth\")\n",
    "    a_d_m = (sum(train_dice_metrics) + sum(valid_dice_metrics)) / (len(train_dice_metrics) + len(valid_dice_metrics))\n",
    "    a_h_m = (sum(train_hd_metrics) + sum(valid_hd_metrics)) / (len(train_hd_metrics) + len(valid_hd_metrics))\n",
    "    print(f\"\\tTrain loss = {t_l}, valid loss = {v_l}, dice metric = {v_d_m.item()}, hd metric = {v_h_m.item()}\")\n",
    "    train_loss_epoch_dice_hd.append(t_l.item())\n",
    "    valid_loss_epoch_dice_hd.append(v_l.item())\n",
    "    train_metric_epoch_dice2.append(t_d_m.item())\n",
    "    valid_metric_epoch_dice2.append(v_d_m.item())\n",
    "    train_metric_epoch_hd2.append(t_h_m.item())\n",
    "    valid_metric_epoch_hd2.append(v_h_m.item())\n",
    "    all_metric_epoch_dice2.append(a_d_m.item())\n",
    "    all_metric_epoch_hd2.append(a_h_m.item())\n"
   ]
  },
  {
   "attachments": {},
   "cell_type": "markdown",
   "metadata": {},
   "source": [
    "Inspect result"
   ]
  },
  {
   "cell_type": "code",
   "execution_count": 17,
   "metadata": {},
   "outputs": [
    {
     "name": "stdout",
     "output_type": "stream",
     "text": [
      "image shape: torch.Size([4, 1, 96, 96, 96]), mask shape: torch.Size([4, 1, 96, 96, 96])\n"
     ]
    },
    {
     "data": {
      "image/png": "[encoded data removed]",
      "text/plain": [
       "<Figure size 1200x600 with 2 Axes>"
      ]
     },
     "metadata": {},
     "output_type": "display_data"
    }
   ],
   "source": [
    "with torch.no_grad():\n",
    "    channel_idx = 43\n",
    "    test_data = first(val_loader)\n",
    "    image, mask = test_data['image'].cuda(), curr_batch['label']\n",
    "    print(f\"image shape: {image.shape}, mask shape: {mask.shape}\")\n",
    "    pred_mask = model_dice_hd(image).cpu()\n",
    "    # plot the slice [:, :, 80]\n",
    "    plt.figure(\"check\", (12, 6))\n",
    "    plt.subplot(1, 2, 1)\n",
    "    plt.title(\"mask\")\n",
    "    plt.imshow(mask[0, 0, channel_idx, :, :], cmap=\"gray\")\n",
    "    plt.subplot(1, 2, 2)\n",
    "    plt.title(\"pred_mask\")\n",
    "    plt.imshow(pred_mask[0, 1, channel_idx, :, :])\n",
    "    plt.show()"
   ]
  },
  {
   "attachments": {},
   "cell_type": "markdown",
   "metadata": {},
   "source": [
    "# Save to CSVs\n",
    "- Time per epoch:  \n",
    "    `time_epoch_dice` and `time_epoch_dice_hd`. size = 250\n",
    "\n",
    "- Time per step:  \n",
    "    `time_step_dice` and `time_step_dice_hd`. size = 250*4\n",
    "\n",
    "- Train loss per epoch:  \n",
    "    `train_loss_epoch_dice` and `train_loss_epoch_dice_hd` size = 250\n",
    "    \n",
    "- Valid loss per epoch:  \n",
    "    `valid_loss_epoch_dice` and `valid_loss_epoch_dice_hd` size = 250\n",
    "\n",
    "- Dice matrics:  \n",
    "    - `train_metric_epoch_dice`: This is the mean dice metric over the [**train set**], when training with [**loss = Dice**]. size = 250\n",
    "    - `valid_metric_epoch_dice`: This is the mean dice metric over the [**valid set**], when training with [**loss = Dice**]. size = 250\n",
    "    - `all_metric_epoch_dice`: This is the mean dice metric over the [**train and valid set**], when training with [**loss = Dice**]. size = 250 \n",
    "\n",
    "    - `train_metric_epoch_dice2`: This is the mean dice metric over the [**train set**], when training with [**loss = Dice + HD**]. size = 250\n",
    "    - `valid_metric_epoch_dice2`: This is the mean dice metric over the [**valid set**], when training with [**loss = Dice + HD**]. size = 250\n",
    "    - `all_metric_epoch_dice2`: This is the mean dice metric over the [**train and valid set**], when training with [**loss = Dice + HD**]. size = 250\n",
    "\n",
    "- HD matrics:  \n",
    "    - `train_metric_epoch_hd`: This is the mean hd metric over the [**train set**], when training with [**loss = Dice**]. size = 250\n",
    "    - `valid_metric_epoch_hd`: This is the mean hd metric over the [**valid set**], when training with [**loss = Dice**]. size = 250\n",
    "    - `all_metric_epoch_hd`: This is the mean hd metric over the [**train and valid set**], when training with [**loss = Dice**]. size = 250\n",
    "\n",
    "    - `train_metric_epoch_hd2`: This is the mean hd metric over the [**train set**], when training with [**loss = Dice + HD**]. size = 250\n",
    "    - `valid_metric_epoch_hd2`: This is the mean hd metric over the [**valid set**], when training with [**loss = Dice + HD**]. size = 250\n",
    "    - `all_metric_epoch_hd2`: This is the mean hd metric over the [**train and valid set**], when training with [**loss = Dice + HD**]. size = 250"
   ]
  },
  {
   "cell_type": "code",
   "execution_count": 18,
   "metadata": {},
   "outputs": [],
   "source": [
    "# save above data to CSVs\n",
    "epoch_time_df = {\"time_epoch_dice\" : time_epoch_dice, \"time_epoch_dice_hd\" : time_epoch_dice_hd }\n",
    "step_time_df = {\"time_step_dice\" : time_step_dice, \"time_step_dice_hd\" : time_step_dice_hd }\n",
    "loss_df = {\"train_loss_epoch_dice\": train_loss_epoch_dice, \"train_loss_epoch_dice_hd\": train_loss_epoch_dice_hd, \n",
    "\"valid_loss_epoch_dice\" : valid_loss_epoch_dice, \"valid_loss_epoch_dice_hd\": valid_loss_epoch_dice_hd}\n",
    "dice_metric_df = {\"train_metric_epoch_dice\":train_metric_epoch_dice, \"valid_metric_epoch_dice\":valid_metric_epoch_dice, \"all_metric_epoch_dice\" : all_metric_epoch_dice, \n",
    "\"train_dice_metric_epoch_dice_hd\" : train_metric_epoch_dice2, \"valid_dice_metric_epoch_dice_hd\" : valid_metric_epoch_dice2, \"all_dice_metric_epoch_dice_hd\":all_metric_epoch_dice2}\n",
    "hd_metric_df = {\"train_metric_epoch_hd\":train_metric_epoch_hd, \"valid_metric_epoch_hd\":valid_metric_epoch_hd, \"all_metric_epoch_hd\" : all_metric_epoch_hd, \n",
    "\"train_hd_metric_epoch_dice_hd\" : train_metric_epoch_hd2, \"valid_hd_metric_epoch_dice_hd\" : valid_metric_epoch_hd2, \"all_hd_metric_epoch_dice_hd\":all_metric_epoch_hd2}"
   ]
  },
  {
   "cell_type": "code",
   "execution_count": 22,
   "metadata": {},
   "outputs": [],
   "source": [
    "epoch_loss_df = {\"train_loss_epoch_dice\" : train_loss_epoch_dice, \"train_loss_epoch_dice_hd\" : train_loss_epoch_dice_hd,\n",
    "\"valid_loss_epoch_dice\" : valid_loss_epoch_dice, \"valid_loss_epoch_dice_hd\" : valid_loss_epoch_dice_hd }"
   ]
  },
  {
   "cell_type": "code",
   "execution_count": 19,
   "metadata": {},
   "outputs": [],
   "source": [
    "import pandas as pd"
   ]
  },
  {
   "cell_type": "code",
   "execution_count": 23,
   "metadata": {},
   "outputs": [],
   "source": [
    "dataframe_epoch = pd.DataFrame(epoch_time_df)\n",
    "dataframe_step = pd.DataFrame(step_time_df)\n",
    "dataframe_dice = pd.DataFrame(dice_metric_df)\n",
    "dataframe_hd = pd.DataFrame(hd_metric_df)\n",
    "dataframe_loss = pd.DataFrame(epoch_loss_df)"
   ]
  },
  {
   "cell_type": "code",
   "execution_count": 24,
   "metadata": {},
   "outputs": [],
   "source": [
    "dataframe_epoch.to_csv(\"C:/Users/wenbl13/Desktop/Ashwin-Timing/distance-transforms/Python_loop_epoch_time_jan8.csv\")\n",
    "dataframe_step.to_csv(\"C:/Users/wenbl13/Desktop/Ashwin-Timing/distance-transforms/Python_loop_step_time_jan8.csv\")\n",
    "dataframe_dice.to_csv(\"C:/Users/wenbl13/Desktop/Ashwin-Timing/distance-transforms/Python_loop_dice_metric_jan8.csv\")\n",
    "dataframe_hd.to_csv(\"C:/Users/wenbl13/Desktop/Ashwin-Timing/distance-transforms/Python_loop_hd_metric_jan8.csv\")\n",
    "dataframe_loss.to_csv(\"C:/Users/wenbl13/Desktop/Ashwin-Timing/distance-transforms/Python_loop_loss_jan8.csv\")"
   ]
  },
  {
   "attachments": {},
   "cell_type": "markdown",
   "metadata": {},
   "source": [
    "1. mask(from dataset) and pred_mask(from output of NN)\n",
    "2. Binarize mask and pred_mask. i.e rounding every values to 0 or 1\n",
    "3. Edge detection(for 2D). Surface detection(for 3D).\n",
    "4. throw the pred_mask_surface and mask_surface to matrics calculaters."
   ]
  }
 ],
 "metadata": {
  "kernelspec": {
   "display_name": "Python 3",
   "language": "python",
   "name": "python3"
  },
  "language_info": {
   "codemirror_mode": {
    "name": "ipython",
    "version": 3
   },
   "file_extension": ".py",
   "mimetype": "text/x-python",
   "name": "python",
   "nbconvert_exporter": "python",
   "pygments_lexer": "ipython3",
   "version": "3.9.5"
  },
  "orig_nbformat": 4,
  "vscode": {
   "interpreter": {
    "hash": "7d9ef0e181354117f9ce70876735363e58fcc077c1120e406476deb8970979d3"
   }
  }
 },
 "nbformat": 4,
 "nbformat_minor": 2
}
